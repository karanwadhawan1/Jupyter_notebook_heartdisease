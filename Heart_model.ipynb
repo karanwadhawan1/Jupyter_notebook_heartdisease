{
 "cells": [
  {
   "cell_type": "code",
   "execution_count": 1,
   "id": "e37a2e8a",
   "metadata": {},
   "outputs": [],
   "source": [
    "import numpy as np\n",
    "import matplotlib.pyplot as plt\n",
    "import seaborn as sns\n",
    "import pandas as pd\n",
    "import warnings\n",
    "warnings.filterwarnings('ignore')"
   ]
  },
  {
   "cell_type": "code",
   "execution_count": 2,
   "id": "8d2daf53",
   "metadata": {},
   "outputs": [],
   "source": [
    "#! pip install pickle\n",
    "import pickle"
   ]
  },
  {
   "cell_type": "code",
   "execution_count": 3,
   "id": "0e82b011",
   "metadata": {},
   "outputs": [],
   "source": [
    "df = pd.read_csv('heart_2020_cleaned.csv')"
   ]
  },
  {
   "cell_type": "code",
   "execution_count": 4,
   "id": "fa0cc0e8",
   "metadata": {},
   "outputs": [
    {
     "data": {
      "text/html": [
       "<div>\n",
       "<style scoped>\n",
       "    .dataframe tbody tr th:only-of-type {\n",
       "        vertical-align: middle;\n",
       "    }\n",
       "\n",
       "    .dataframe tbody tr th {\n",
       "        vertical-align: top;\n",
       "    }\n",
       "\n",
       "    .dataframe thead th {\n",
       "        text-align: right;\n",
       "    }\n",
       "</style>\n",
       "<table border=\"1\" class=\"dataframe\">\n",
       "  <thead>\n",
       "    <tr style=\"text-align: right;\">\n",
       "      <th></th>\n",
       "      <th>HeartDisease</th>\n",
       "      <th>BMI</th>\n",
       "      <th>Smoking</th>\n",
       "      <th>AlcoholDrinking</th>\n",
       "      <th>Stroke</th>\n",
       "      <th>PhysicalHealth</th>\n",
       "      <th>MentalHealth</th>\n",
       "      <th>DiffWalking</th>\n",
       "      <th>Sex</th>\n",
       "      <th>AgeCategory</th>\n",
       "      <th>Race</th>\n",
       "      <th>Diabetic</th>\n",
       "      <th>PhysicalActivity</th>\n",
       "      <th>GenHealth</th>\n",
       "      <th>SleepTime</th>\n",
       "      <th>Asthma</th>\n",
       "      <th>KidneyDisease</th>\n",
       "      <th>SkinCancer</th>\n",
       "    </tr>\n",
       "  </thead>\n",
       "  <tbody>\n",
       "    <tr>\n",
       "      <th>0</th>\n",
       "      <td>No</td>\n",
       "      <td>16.60</td>\n",
       "      <td>Yes</td>\n",
       "      <td>No</td>\n",
       "      <td>No</td>\n",
       "      <td>3.0</td>\n",
       "      <td>30.0</td>\n",
       "      <td>No</td>\n",
       "      <td>Female</td>\n",
       "      <td>55-59</td>\n",
       "      <td>White</td>\n",
       "      <td>Yes</td>\n",
       "      <td>Yes</td>\n",
       "      <td>Very good</td>\n",
       "      <td>5.0</td>\n",
       "      <td>Yes</td>\n",
       "      <td>No</td>\n",
       "      <td>Yes</td>\n",
       "    </tr>\n",
       "    <tr>\n",
       "      <th>1</th>\n",
       "      <td>No</td>\n",
       "      <td>20.34</td>\n",
       "      <td>No</td>\n",
       "      <td>No</td>\n",
       "      <td>Yes</td>\n",
       "      <td>0.0</td>\n",
       "      <td>0.0</td>\n",
       "      <td>No</td>\n",
       "      <td>Female</td>\n",
       "      <td>80 or older</td>\n",
       "      <td>White</td>\n",
       "      <td>No</td>\n",
       "      <td>Yes</td>\n",
       "      <td>Very good</td>\n",
       "      <td>7.0</td>\n",
       "      <td>No</td>\n",
       "      <td>No</td>\n",
       "      <td>No</td>\n",
       "    </tr>\n",
       "    <tr>\n",
       "      <th>2</th>\n",
       "      <td>No</td>\n",
       "      <td>26.58</td>\n",
       "      <td>Yes</td>\n",
       "      <td>No</td>\n",
       "      <td>No</td>\n",
       "      <td>20.0</td>\n",
       "      <td>30.0</td>\n",
       "      <td>No</td>\n",
       "      <td>Male</td>\n",
       "      <td>65-69</td>\n",
       "      <td>White</td>\n",
       "      <td>Yes</td>\n",
       "      <td>Yes</td>\n",
       "      <td>Fair</td>\n",
       "      <td>8.0</td>\n",
       "      <td>Yes</td>\n",
       "      <td>No</td>\n",
       "      <td>No</td>\n",
       "    </tr>\n",
       "    <tr>\n",
       "      <th>3</th>\n",
       "      <td>No</td>\n",
       "      <td>24.21</td>\n",
       "      <td>No</td>\n",
       "      <td>No</td>\n",
       "      <td>No</td>\n",
       "      <td>0.0</td>\n",
       "      <td>0.0</td>\n",
       "      <td>No</td>\n",
       "      <td>Female</td>\n",
       "      <td>75-79</td>\n",
       "      <td>White</td>\n",
       "      <td>No</td>\n",
       "      <td>No</td>\n",
       "      <td>Good</td>\n",
       "      <td>6.0</td>\n",
       "      <td>No</td>\n",
       "      <td>No</td>\n",
       "      <td>Yes</td>\n",
       "    </tr>\n",
       "    <tr>\n",
       "      <th>4</th>\n",
       "      <td>No</td>\n",
       "      <td>23.71</td>\n",
       "      <td>No</td>\n",
       "      <td>No</td>\n",
       "      <td>No</td>\n",
       "      <td>28.0</td>\n",
       "      <td>0.0</td>\n",
       "      <td>Yes</td>\n",
       "      <td>Female</td>\n",
       "      <td>40-44</td>\n",
       "      <td>White</td>\n",
       "      <td>No</td>\n",
       "      <td>Yes</td>\n",
       "      <td>Very good</td>\n",
       "      <td>8.0</td>\n",
       "      <td>No</td>\n",
       "      <td>No</td>\n",
       "      <td>No</td>\n",
       "    </tr>\n",
       "  </tbody>\n",
       "</table>\n",
       "</div>"
      ],
      "text/plain": [
       "  HeartDisease    BMI Smoking AlcoholDrinking Stroke  PhysicalHealth  \\\n",
       "0           No  16.60     Yes              No     No             3.0   \n",
       "1           No  20.34      No              No    Yes             0.0   \n",
       "2           No  26.58     Yes              No     No            20.0   \n",
       "3           No  24.21      No              No     No             0.0   \n",
       "4           No  23.71      No              No     No            28.0   \n",
       "\n",
       "   MentalHealth DiffWalking     Sex  AgeCategory   Race Diabetic  \\\n",
       "0          30.0          No  Female        55-59  White      Yes   \n",
       "1           0.0          No  Female  80 or older  White       No   \n",
       "2          30.0          No    Male        65-69  White      Yes   \n",
       "3           0.0          No  Female        75-79  White       No   \n",
       "4           0.0         Yes  Female        40-44  White       No   \n",
       "\n",
       "  PhysicalActivity  GenHealth  SleepTime Asthma KidneyDisease SkinCancer  \n",
       "0              Yes  Very good        5.0    Yes            No        Yes  \n",
       "1              Yes  Very good        7.0     No            No         No  \n",
       "2              Yes       Fair        8.0    Yes            No         No  \n",
       "3               No       Good        6.0     No            No        Yes  \n",
       "4              Yes  Very good        8.0     No            No         No  "
      ]
     },
     "execution_count": 4,
     "metadata": {},
     "output_type": "execute_result"
    }
   ],
   "source": [
    "df.head()"
   ]
  },
  {
   "cell_type": "code",
   "execution_count": 5,
   "id": "ad5ac843",
   "metadata": {},
   "outputs": [],
   "source": [
    "df['SleepTime']=np.where(df['SleepTime']<=3,4,df.SleepTime)"
   ]
  },
  {
   "cell_type": "code",
   "execution_count": 6,
   "id": "6eda8b1b",
   "metadata": {},
   "outputs": [],
   "source": [
    "df['SleepTime']=np.where(df['SleepTime']>14,14,df.SleepTime)"
   ]
  },
  {
   "cell_type": "code",
   "execution_count": 7,
   "id": "c309859d",
   "metadata": {},
   "outputs": [],
   "source": [
    "df['BMI']=np.where(df['BMI']<=14,14,df.BMI)"
   ]
  },
  {
   "cell_type": "code",
   "execution_count": 8,
   "id": "cfd12d7e",
   "metadata": {},
   "outputs": [],
   "source": [
    "df['BMI']=np.where(df['BMI']>80,80,df.BMI)"
   ]
  },
  {
   "cell_type": "code",
   "execution_count": 9,
   "id": "8c379da8",
   "metadata": {},
   "outputs": [
    {
     "data": {
      "text/plain": [
       "array(['No', 'Yes'], dtype=object)"
      ]
     },
     "execution_count": 9,
     "metadata": {},
     "output_type": "execute_result"
    }
   ],
   "source": [
    "df['HeartDisease'].unique()"
   ]
  },
  {
   "cell_type": "code",
   "execution_count": 10,
   "id": "492fe3c6",
   "metadata": {},
   "outputs": [],
   "source": [
    "df['HeartDisease']=np.where(df['HeartDisease']=='Yes',1,0)"
   ]
  },
  {
   "cell_type": "code",
   "execution_count": 11,
   "id": "521d3aad",
   "metadata": {},
   "outputs": [],
   "source": [
    "df['Smoking']=np.where(df['Smoking']=='Yes',1,0)"
   ]
  },
  {
   "cell_type": "code",
   "execution_count": 12,
   "id": "b1b281c5",
   "metadata": {},
   "outputs": [],
   "source": [
    "df['Stroke']=np.where(df['Stroke']=='Yes',1,0)"
   ]
  },
  {
   "cell_type": "code",
   "execution_count": 13,
   "id": "ac7b53a3",
   "metadata": {},
   "outputs": [],
   "source": [
    "df['AlcoholDrinking']=np.where(df['AlcoholDrinking']=='Yes',1,0)"
   ]
  },
  {
   "cell_type": "code",
   "execution_count": 14,
   "id": "299f8d53",
   "metadata": {},
   "outputs": [],
   "source": [
    "df['Diabetic']=np.where(df['Diabetic']=='Yes',1,0)"
   ]
  },
  {
   "cell_type": "code",
   "execution_count": 15,
   "id": "463a20ef",
   "metadata": {},
   "outputs": [],
   "source": [
    "df['PhysicalActivity']=np.where(df['PhysicalActivity']=='Yes',1,0)"
   ]
  },
  {
   "cell_type": "code",
   "execution_count": 16,
   "id": "6a97d530",
   "metadata": {},
   "outputs": [],
   "source": [
    "df['Asthma']=np.where(df['Asthma']=='Yes',1,0)"
   ]
  },
  {
   "cell_type": "code",
   "execution_count": 17,
   "id": "fd2e108a",
   "metadata": {},
   "outputs": [],
   "source": [
    "df['KidneyDisease']=np.where(df['KidneyDisease']=='Yes',1,0)"
   ]
  },
  {
   "cell_type": "code",
   "execution_count": 18,
   "id": "94ee203d",
   "metadata": {},
   "outputs": [],
   "source": [
    "df['SkinCancer']=np.where(df['SkinCancer']=='Yes',1,0)"
   ]
  },
  {
   "cell_type": "code",
   "execution_count": 19,
   "id": "f038cefb",
   "metadata": {},
   "outputs": [],
   "source": [
    "df['DiffWalking']=np.where(df['DiffWalking']=='Yes',1,0)"
   ]
  },
  {
   "cell_type": "code",
   "execution_count": 20,
   "id": "2ea9b9ff",
   "metadata": {},
   "outputs": [],
   "source": [
    "df['Sex']=np.where(df['Sex']=='Male',1,0)"
   ]
  },
  {
   "cell_type": "code",
   "execution_count": 21,
   "id": "62199b61",
   "metadata": {},
   "outputs": [
    {
     "data": {
      "text/plain": [
       "array(['55-59', '80 or older', '65-69', '75-79', '40-44', '70-74',\n",
       "       '60-64', '50-54', '45-49', '18-24', '35-39', '30-34', '25-29'],\n",
       "      dtype=object)"
      ]
     },
     "execution_count": 21,
     "metadata": {},
     "output_type": "execute_result"
    }
   ],
   "source": [
    "df.AgeCategory.unique()"
   ]
  },
  {
   "cell_type": "code",
   "execution_count": 22,
   "id": "be36c616",
   "metadata": {},
   "outputs": [],
   "source": [
    "lable={ '80 or older':13,'75-79':12,'70-74':11, '65-69':10,'60-64':9,'55-59':8, \n",
    "        '50-54':7, '45-49':6,'40-44':5, '35-39':4, '30-34':3, '25-29':2,'18-24':1\n",
    "}\n",
    "df['AgeCategory1']=df['AgeCategory'].map(lable)\n",
    "df.drop(columns=['AgeCategory'],axis=1,inplace=True)"
   ]
  },
  {
   "cell_type": "code",
   "execution_count": 23,
   "id": "40cc5c2e",
   "metadata": {},
   "outputs": [
    {
     "data": {
      "text/plain": [
       "array(['White', 'Black', 'Asian', 'American Indian/Alaskan Native',\n",
       "       'Other', 'Hispanic'], dtype=object)"
      ]
     },
     "execution_count": 23,
     "metadata": {},
     "output_type": "execute_result"
    }
   ],
   "source": [
    "df.Race.unique()"
   ]
  },
  {
   "cell_type": "code",
   "execution_count": 24,
   "id": "c918526d",
   "metadata": {},
   "outputs": [
    {
     "data": {
      "text/plain": [
       "array(['Very good', 'Fair', 'Good', 'Poor', 'Excellent'], dtype=object)"
      ]
     },
     "execution_count": 24,
     "metadata": {},
     "output_type": "execute_result"
    }
   ],
   "source": [
    "df.GenHealth.unique()"
   ]
  },
  {
   "cell_type": "code",
   "execution_count": 25,
   "id": "366d0980",
   "metadata": {},
   "outputs": [],
   "source": [
    "lable={'Excellent':5,'Very good':4, 'Good':3,'Fair':2,'Poor':1}\n",
    "df['GenHealth1']=df['GenHealth'].map(lable)\n",
    "df.drop(columns=['GenHealth'],axis=1,inplace=True)"
   ]
  },
  {
   "cell_type": "code",
   "execution_count": 26,
   "id": "a043ebe9",
   "metadata": {},
   "outputs": [],
   "source": [
    "df=pd.get_dummies(df)\n",
    "#df.drop(columns=['Race'],axis=1,inplace=True)"
   ]
  },
  {
   "cell_type": "code",
   "execution_count": 27,
   "id": "9a2fca58",
   "metadata": {},
   "outputs": [],
   "source": [
    "lable2={ 30:6,29:6,28:6,27:6,26:6,25:5,24:5,23:5,22:5,21:5,20:4,19:4,18:4,17:4,16:4,15:3,14:3,\n",
    "        13:3,12:3,11:3,10:2,9:2,8:2,7:2,6:2,5:1,4:1,3:1,2:1,1:1,0:1}\n",
    "\n",
    "df['PhysicalHealth1']=df['PhysicalHealth'].map(lable2)\n",
    "df.drop(columns=['PhysicalHealth'],axis=1,inplace=True)"
   ]
  },
  {
   "cell_type": "code",
   "execution_count": 28,
   "id": "005bf8f7",
   "metadata": {},
   "outputs": [],
   "source": [
    "df['MentalHealth1']=df['MentalHealth'].map(lable2)\n",
    "df.drop(columns=['MentalHealth'],axis=1,inplace=True)"
   ]
  },
  {
   "cell_type": "code",
   "execution_count": 29,
   "id": "814da6c3",
   "metadata": {},
   "outputs": [],
   "source": [
    "x=df.drop(columns=['HeartDisease'])\n",
    "y=df['HeartDisease']"
   ]
  },
  {
   "cell_type": "markdown",
   "id": "e046f58f",
   "metadata": {},
   "source": [
    "# balancing the data"
   ]
  },
  {
   "cell_type": "code",
   "execution_count": 30,
   "id": "67f8dacb",
   "metadata": {},
   "outputs": [],
   "source": [
    "from imblearn.over_sampling import SMOTE\n",
    "\n",
    "smote=SMOTE(sampling_strategy='minority')\n",
    "x_sm,y_sm=smote.fit_resample(x,y)"
   ]
  },
  {
   "cell_type": "code",
   "execution_count": 31,
   "id": "be1ed48d",
   "metadata": {},
   "outputs": [],
   "source": [
    "from sklearn.model_selection import train_test_split\n",
    "x_train,x_test,y_train,y_test=train_test_split(x_sm,y_sm,train_size=0.8, random_state=2,shuffle=y)"
   ]
  },
  {
   "cell_type": "code",
   "execution_count": 32,
   "id": "3f233450",
   "metadata": {},
   "outputs": [
    {
     "name": "stdout",
     "output_type": "stream",
     "text": [
      "(467875, 22)\n",
      "(467875,)\n",
      "(116969, 22)\n",
      "(116969,)\n"
     ]
    }
   ],
   "source": [
    "print(x_train.shape)\n",
    "print(y_train.shape)\n",
    "print(x_test.shape)\n",
    "print(y_test.shape)"
   ]
  },
  {
   "cell_type": "markdown",
   "id": "ea16db7d",
   "metadata": {},
   "source": [
    "# logistic regression"
   ]
  },
  {
   "cell_type": "code",
   "execution_count": 33,
   "id": "660f1c34",
   "metadata": {},
   "outputs": [],
   "source": [
    "from sklearn.linear_model import LogisticRegression,Ridge,Lasso\n",
    "model=LogisticRegression(max_iter=500)"
   ]
  },
  {
   "cell_type": "code",
   "execution_count": 34,
   "id": "1edbf349",
   "metadata": {},
   "outputs": [
    {
     "data": {
      "text/plain": [
       "LogisticRegression(max_iter=500)"
      ]
     },
     "execution_count": 34,
     "metadata": {},
     "output_type": "execute_result"
    }
   ],
   "source": [
    "model.fit(x_train,y_train)"
   ]
  },
  {
   "cell_type": "code",
   "execution_count": 35,
   "id": "21e86a66",
   "metadata": {},
   "outputs": [],
   "source": [
    "y_pred=model.predict(x_test)"
   ]
  },
  {
   "cell_type": "code",
   "execution_count": 36,
   "id": "da31c758",
   "metadata": {},
   "outputs": [
    {
     "data": {
      "text/html": [
       "<div>\n",
       "<style scoped>\n",
       "    .dataframe tbody tr th:only-of-type {\n",
       "        vertical-align: middle;\n",
       "    }\n",
       "\n",
       "    .dataframe tbody tr th {\n",
       "        vertical-align: top;\n",
       "    }\n",
       "\n",
       "    .dataframe thead th {\n",
       "        text-align: right;\n",
       "    }\n",
       "</style>\n",
       "<table border=\"1\" class=\"dataframe\">\n",
       "  <thead>\n",
       "    <tr style=\"text-align: right;\">\n",
       "      <th></th>\n",
       "      <th>Actual</th>\n",
       "      <th>Predicted</th>\n",
       "    </tr>\n",
       "  </thead>\n",
       "  <tbody>\n",
       "    <tr>\n",
       "      <th>385881</th>\n",
       "      <td>1</td>\n",
       "      <td>0</td>\n",
       "    </tr>\n",
       "    <tr>\n",
       "      <th>138870</th>\n",
       "      <td>0</td>\n",
       "      <td>1</td>\n",
       "    </tr>\n",
       "    <tr>\n",
       "      <th>196717</th>\n",
       "      <td>0</td>\n",
       "      <td>0</td>\n",
       "    </tr>\n",
       "    <tr>\n",
       "      <th>70287</th>\n",
       "      <td>0</td>\n",
       "      <td>0</td>\n",
       "    </tr>\n",
       "    <tr>\n",
       "      <th>509001</th>\n",
       "      <td>1</td>\n",
       "      <td>1</td>\n",
       "    </tr>\n",
       "    <tr>\n",
       "      <th>375513</th>\n",
       "      <td>1</td>\n",
       "      <td>0</td>\n",
       "    </tr>\n",
       "    <tr>\n",
       "      <th>258299</th>\n",
       "      <td>0</td>\n",
       "      <td>0</td>\n",
       "    </tr>\n",
       "    <tr>\n",
       "      <th>262984</th>\n",
       "      <td>0</td>\n",
       "      <td>0</td>\n",
       "    </tr>\n",
       "    <tr>\n",
       "      <th>455358</th>\n",
       "      <td>1</td>\n",
       "      <td>1</td>\n",
       "    </tr>\n",
       "    <tr>\n",
       "      <th>133910</th>\n",
       "      <td>0</td>\n",
       "      <td>0</td>\n",
       "    </tr>\n",
       "    <tr>\n",
       "      <th>380228</th>\n",
       "      <td>1</td>\n",
       "      <td>1</td>\n",
       "    </tr>\n",
       "    <tr>\n",
       "      <th>143407</th>\n",
       "      <td>0</td>\n",
       "      <td>0</td>\n",
       "    </tr>\n",
       "    <tr>\n",
       "      <th>339957</th>\n",
       "      <td>1</td>\n",
       "      <td>1</td>\n",
       "    </tr>\n",
       "    <tr>\n",
       "      <th>503982</th>\n",
       "      <td>1</td>\n",
       "      <td>1</td>\n",
       "    </tr>\n",
       "    <tr>\n",
       "      <th>249254</th>\n",
       "      <td>0</td>\n",
       "      <td>0</td>\n",
       "    </tr>\n",
       "    <tr>\n",
       "      <th>522774</th>\n",
       "      <td>1</td>\n",
       "      <td>1</td>\n",
       "    </tr>\n",
       "    <tr>\n",
       "      <th>430569</th>\n",
       "      <td>1</td>\n",
       "      <td>1</td>\n",
       "    </tr>\n",
       "    <tr>\n",
       "      <th>504377</th>\n",
       "      <td>1</td>\n",
       "      <td>1</td>\n",
       "    </tr>\n",
       "    <tr>\n",
       "      <th>231860</th>\n",
       "      <td>1</td>\n",
       "      <td>1</td>\n",
       "    </tr>\n",
       "    <tr>\n",
       "      <th>451292</th>\n",
       "      <td>1</td>\n",
       "      <td>1</td>\n",
       "    </tr>\n",
       "  </tbody>\n",
       "</table>\n",
       "</div>"
      ],
      "text/plain": [
       "        Actual  Predicted\n",
       "385881       1          0\n",
       "138870       0          1\n",
       "196717       0          0\n",
       "70287        0          0\n",
       "509001       1          1\n",
       "375513       1          0\n",
       "258299       0          0\n",
       "262984       0          0\n",
       "455358       1          1\n",
       "133910       0          0\n",
       "380228       1          1\n",
       "143407       0          0\n",
       "339957       1          1\n",
       "503982       1          1\n",
       "249254       0          0\n",
       "522774       1          1\n",
       "430569       1          1\n",
       "504377       1          1\n",
       "231860       1          1\n",
       "451292       1          1"
      ]
     },
     "execution_count": 36,
     "metadata": {},
     "output_type": "execute_result"
    }
   ],
   "source": [
    "pd.DataFrame({'Actual':y_test,'Predicted':y_pred}).head(20)"
   ]
  },
  {
   "cell_type": "code",
   "execution_count": 37,
   "id": "ff5b5d39",
   "metadata": {},
   "outputs": [],
   "source": [
    "from sklearn.metrics import confusion_matrix,accuracy_score,recall_score,precision_score,log_loss\n",
    "def val_values(y_test,y_pred):\n",
    "    cm=confusion_matrix(y_test,y_pred)\n",
    "    ac=accuracy_score(y_test,y_pred)\n",
    "    rec=recall_score(y_test,y_pred)\n",
    "    prec=precision_score(y_test,y_pred)\n",
    "    los=log_loss(y_test,y_pred)\n",
    "    print('confusion_matrix=\\n',cm)\n",
    "    print('Accuracy',ac)\n",
    "    print('recall',rec)\n",
    "    print('precision',prec)\n",
    "    print('loss',los)"
   ]
  },
  {
   "cell_type": "code",
   "execution_count": 38,
   "id": "73520eb9",
   "metadata": {},
   "outputs": [],
   "source": [
    "from sklearn.metrics import classification_report\n",
    "def val_class(y_test,y_pred):\n",
    "    print(classification_report(y_test, y_pred))\n"
   ]
  },
  {
   "cell_type": "code",
   "execution_count": 39,
   "id": "67f04eca",
   "metadata": {},
   "outputs": [
    {
     "name": "stdout",
     "output_type": "stream",
     "text": [
      "confusion_matrix=\n",
      " [[44814 13330]\n",
      " [11854 46971]]\n",
      "Accuracy 0.7846950901520916\n",
      "recall 0.7984870378240544\n",
      "precision 0.778942306097743\n",
      "loss 7.436459261540879\n",
      "              precision    recall  f1-score   support\n",
      "\n",
      "           0       0.79      0.77      0.78     58144\n",
      "           1       0.78      0.80      0.79     58825\n",
      "\n",
      "    accuracy                           0.78    116969\n",
      "   macro avg       0.78      0.78      0.78    116969\n",
      "weighted avg       0.78      0.78      0.78    116969\n",
      "\n"
     ]
    }
   ],
   "source": [
    "val_values(y_test,y_pred)\n",
    "val_class(y_test,y_pred)\n"
   ]
  },
  {
   "cell_type": "markdown",
   "id": "25738d8e",
   "metadata": {},
   "source": [
    "# Ridge Regression"
   ]
  },
  {
   "cell_type": "code",
   "execution_count": 39,
   "id": "54cb9658",
   "metadata": {},
   "outputs": [],
   "source": [
    "model_r=LogisticRegression(penalty='l2',C=100,max_iter=200)"
   ]
  },
  {
   "cell_type": "code",
   "execution_count": 40,
   "id": "dcef9f6d",
   "metadata": {},
   "outputs": [
    {
     "data": {
      "text/plain": [
       "LogisticRegression(C=100, max_iter=200)"
      ]
     },
     "execution_count": 40,
     "metadata": {},
     "output_type": "execute_result"
    }
   ],
   "source": [
    "model_r.fit(x_train,y_train)"
   ]
  },
  {
   "cell_type": "code",
   "execution_count": 41,
   "id": "abc11d70",
   "metadata": {},
   "outputs": [],
   "source": [
    "y_pred_r=model_r.predict(x_test)"
   ]
  },
  {
   "cell_type": "code",
   "execution_count": 42,
   "id": "747f8542",
   "metadata": {},
   "outputs": [
    {
     "name": "stdout",
     "output_type": "stream",
     "text": [
      "confusion_matrix=\n",
      " [[44829 13315]\n",
      " [11638 47187]]\n",
      "Accuracy 0.7866699723858458\n",
      "recall 0.8021589460263493\n",
      "precision 0.7799246305907243\n",
      "loss 7.368249143123301\n",
      "              precision    recall  f1-score   support\n",
      "\n",
      "           0       0.79      0.77      0.78     58144\n",
      "           1       0.78      0.80      0.79     58825\n",
      "\n",
      "    accuracy                           0.79    116969\n",
      "   macro avg       0.79      0.79      0.79    116969\n",
      "weighted avg       0.79      0.79      0.79    116969\n",
      "\n"
     ]
    }
   ],
   "source": [
    "val_values(y_test,y_pred_r)\n",
    "val_class(y_test,y_pred_r)\n"
   ]
  },
  {
   "cell_type": "markdown",
   "id": "464a5b01",
   "metadata": {},
   "source": [
    "# Grid search CV"
   ]
  },
  {
   "cell_type": "code",
   "execution_count": 43,
   "id": "49c6efea",
   "metadata": {},
   "outputs": [],
   "source": [
    "from sklearn.model_selection import GridSearchCV"
   ]
  },
  {
   "cell_type": "code",
   "execution_count": 44,
   "id": "7611c7f7",
   "metadata": {},
   "outputs": [],
   "source": [
    "parameters ={'penalty':['l1','l2'],\n",
    "            'C':[0.001,0.01,0.5,1,2,5,10,100]}"
   ]
  },
  {
   "cell_type": "code",
   "execution_count": 45,
   "id": "d8574ca5",
   "metadata": {},
   "outputs": [],
   "source": [
    "model_g=LogisticRegression()"
   ]
  },
  {
   "cell_type": "code",
   "execution_count": 46,
   "id": "bf88bf96",
   "metadata": {},
   "outputs": [],
   "source": [
    "gscv=GridSearchCV(estimator=model_g,param_grid=parameters,cv=3,n_jobs=-1)"
   ]
  },
  {
   "cell_type": "code",
   "execution_count": 47,
   "id": "48a05d35",
   "metadata": {},
   "outputs": [
    {
     "data": {
      "text/plain": [
       "GridSearchCV(cv=3, estimator=LogisticRegression(), n_jobs=-1,\n",
       "             param_grid={'C': [0.001, 0.01, 0.5, 1, 2, 5, 10, 100],\n",
       "                         'penalty': ['l1', 'l2']})"
      ]
     },
     "execution_count": 47,
     "metadata": {},
     "output_type": "execute_result"
    }
   ],
   "source": [
    "gscv.fit(x_train,y_train)"
   ]
  },
  {
   "cell_type": "code",
   "execution_count": 48,
   "id": "381693ea",
   "metadata": {},
   "outputs": [
    {
     "data": {
      "text/plain": [
       "{'C': 1, 'penalty': 'l2'}"
      ]
     },
     "execution_count": 48,
     "metadata": {},
     "output_type": "execute_result"
    }
   ],
   "source": [
    "gscv.best_params_"
   ]
  },
  {
   "cell_type": "code",
   "execution_count": 49,
   "id": "44c280de",
   "metadata": {},
   "outputs": [],
   "source": [
    "y_pred_g=gscv.predict(x_test)"
   ]
  },
  {
   "cell_type": "code",
   "execution_count": 50,
   "id": "2137f698",
   "metadata": {},
   "outputs": [
    {
     "name": "stdout",
     "output_type": "stream",
     "text": [
      "confusion_matrix=\n",
      " [[44190 13954]\n",
      " [11183 47642]]\n",
      "Accuracy 0.7850969060178338\n",
      "recall 0.8098937526561836\n",
      "precision 0.7734593155399702\n",
      "loss 7.422585298851925\n",
      "              precision    recall  f1-score   support\n",
      "\n",
      "           0       0.80      0.76      0.78     58144\n",
      "           1       0.77      0.81      0.79     58825\n",
      "\n",
      "    accuracy                           0.79    116969\n",
      "   macro avg       0.79      0.78      0.78    116969\n",
      "weighted avg       0.79      0.79      0.78    116969\n",
      "\n"
     ]
    }
   ],
   "source": [
    "val_values(y_test,y_pred_g)\n",
    "val_class(y_test,y_pred_g)\n"
   ]
  },
  {
   "cell_type": "markdown",
   "id": "1bf3b253",
   "metadata": {},
   "source": [
    "# NAIVE BAYES"
   ]
  },
  {
   "cell_type": "code",
   "execution_count": 51,
   "id": "cdc0423b",
   "metadata": {},
   "outputs": [],
   "source": [
    "from sklearn.naive_bayes import GaussianNB"
   ]
  },
  {
   "cell_type": "code",
   "execution_count": 52,
   "id": "b26875eb",
   "metadata": {},
   "outputs": [
    {
     "data": {
      "text/plain": [
       "GaussianNB()"
      ]
     },
     "execution_count": 52,
     "metadata": {},
     "output_type": "execute_result"
    }
   ],
   "source": [
    "model_nb=GaussianNB()\n",
    "model_nb.fit(x_train,y_train)"
   ]
  },
  {
   "cell_type": "code",
   "execution_count": 53,
   "id": "a3ad9324",
   "metadata": {},
   "outputs": [],
   "source": [
    "y_pred_nb=model_nb.predict(x_test)"
   ]
  },
  {
   "cell_type": "code",
   "execution_count": 54,
   "id": "5f2e47da",
   "metadata": {},
   "outputs": [
    {
     "data": {
      "text/html": [
       "<div>\n",
       "<style scoped>\n",
       "    .dataframe tbody tr th:only-of-type {\n",
       "        vertical-align: middle;\n",
       "    }\n",
       "\n",
       "    .dataframe tbody tr th {\n",
       "        vertical-align: top;\n",
       "    }\n",
       "\n",
       "    .dataframe thead th {\n",
       "        text-align: right;\n",
       "    }\n",
       "</style>\n",
       "<table border=\"1\" class=\"dataframe\">\n",
       "  <thead>\n",
       "    <tr style=\"text-align: right;\">\n",
       "      <th></th>\n",
       "      <th>Actual</th>\n",
       "      <th>log reg</th>\n",
       "      <th>naive bay</th>\n",
       "    </tr>\n",
       "  </thead>\n",
       "  <tbody>\n",
       "    <tr>\n",
       "      <th>385881</th>\n",
       "      <td>1</td>\n",
       "      <td>1</td>\n",
       "      <td>1</td>\n",
       "    </tr>\n",
       "    <tr>\n",
       "      <th>138870</th>\n",
       "      <td>0</td>\n",
       "      <td>1</td>\n",
       "      <td>1</td>\n",
       "    </tr>\n",
       "    <tr>\n",
       "      <th>196717</th>\n",
       "      <td>0</td>\n",
       "      <td>0</td>\n",
       "      <td>1</td>\n",
       "    </tr>\n",
       "    <tr>\n",
       "      <th>70287</th>\n",
       "      <td>0</td>\n",
       "      <td>0</td>\n",
       "      <td>0</td>\n",
       "    </tr>\n",
       "    <tr>\n",
       "      <th>509001</th>\n",
       "      <td>1</td>\n",
       "      <td>1</td>\n",
       "      <td>1</td>\n",
       "    </tr>\n",
       "    <tr>\n",
       "      <th>375513</th>\n",
       "      <td>1</td>\n",
       "      <td>1</td>\n",
       "      <td>1</td>\n",
       "    </tr>\n",
       "    <tr>\n",
       "      <th>258299</th>\n",
       "      <td>0</td>\n",
       "      <td>0</td>\n",
       "      <td>0</td>\n",
       "    </tr>\n",
       "    <tr>\n",
       "      <th>262984</th>\n",
       "      <td>0</td>\n",
       "      <td>0</td>\n",
       "      <td>1</td>\n",
       "    </tr>\n",
       "    <tr>\n",
       "      <th>455358</th>\n",
       "      <td>1</td>\n",
       "      <td>1</td>\n",
       "      <td>1</td>\n",
       "    </tr>\n",
       "    <tr>\n",
       "      <th>133910</th>\n",
       "      <td>0</td>\n",
       "      <td>0</td>\n",
       "      <td>0</td>\n",
       "    </tr>\n",
       "    <tr>\n",
       "      <th>380228</th>\n",
       "      <td>1</td>\n",
       "      <td>1</td>\n",
       "      <td>1</td>\n",
       "    </tr>\n",
       "    <tr>\n",
       "      <th>143407</th>\n",
       "      <td>0</td>\n",
       "      <td>0</td>\n",
       "      <td>1</td>\n",
       "    </tr>\n",
       "    <tr>\n",
       "      <th>339957</th>\n",
       "      <td>1</td>\n",
       "      <td>1</td>\n",
       "      <td>1</td>\n",
       "    </tr>\n",
       "    <tr>\n",
       "      <th>503982</th>\n",
       "      <td>1</td>\n",
       "      <td>1</td>\n",
       "      <td>1</td>\n",
       "    </tr>\n",
       "    <tr>\n",
       "      <th>249254</th>\n",
       "      <td>0</td>\n",
       "      <td>0</td>\n",
       "      <td>1</td>\n",
       "    </tr>\n",
       "    <tr>\n",
       "      <th>522774</th>\n",
       "      <td>1</td>\n",
       "      <td>1</td>\n",
       "      <td>1</td>\n",
       "    </tr>\n",
       "    <tr>\n",
       "      <th>430569</th>\n",
       "      <td>1</td>\n",
       "      <td>0</td>\n",
       "      <td>1</td>\n",
       "    </tr>\n",
       "    <tr>\n",
       "      <th>504377</th>\n",
       "      <td>1</td>\n",
       "      <td>1</td>\n",
       "      <td>1</td>\n",
       "    </tr>\n",
       "    <tr>\n",
       "      <th>231860</th>\n",
       "      <td>1</td>\n",
       "      <td>1</td>\n",
       "      <td>1</td>\n",
       "    </tr>\n",
       "    <tr>\n",
       "      <th>451292</th>\n",
       "      <td>1</td>\n",
       "      <td>1</td>\n",
       "      <td>1</td>\n",
       "    </tr>\n",
       "  </tbody>\n",
       "</table>\n",
       "</div>"
      ],
      "text/plain": [
       "        Actual  log reg  naive bay\n",
       "385881       1        1          1\n",
       "138870       0        1          1\n",
       "196717       0        0          1\n",
       "70287        0        0          0\n",
       "509001       1        1          1\n",
       "375513       1        1          1\n",
       "258299       0        0          0\n",
       "262984       0        0          1\n",
       "455358       1        1          1\n",
       "133910       0        0          0\n",
       "380228       1        1          1\n",
       "143407       0        0          1\n",
       "339957       1        1          1\n",
       "503982       1        1          1\n",
       "249254       0        0          1\n",
       "522774       1        1          1\n",
       "430569       1        0          1\n",
       "504377       1        1          1\n",
       "231860       1        1          1\n",
       "451292       1        1          1"
      ]
     },
     "execution_count": 54,
     "metadata": {},
     "output_type": "execute_result"
    }
   ],
   "source": [
    "pd.DataFrame({'Actual':y_test,'log reg':y_pred,'naive bay':y_pred_nb}).head(20)"
   ]
  },
  {
   "cell_type": "code",
   "execution_count": 61,
   "id": "097d0ff3",
   "metadata": {},
   "outputs": [],
   "source": [
    "y_pred_nb=model_nb.predict(x_test)"
   ]
  },
  {
   "cell_type": "code",
   "execution_count": 63,
   "id": "0f2c2b6e",
   "metadata": {},
   "outputs": [
    {
     "name": "stdout",
     "output_type": "stream",
     "text": [
      "confusion_matrix=\n",
      " [[28810 29334]\n",
      " [ 5598 53227]]\n",
      "Accuracy 0.7013567697424103\n",
      "recall 0.9048363790905227\n",
      "precision 0.6446990709899347\n",
      "loss 10.31497227827918\n",
      "              precision    recall  f1-score   support\n",
      "\n",
      "           0       0.84      0.50      0.62     58144\n",
      "           1       0.64      0.90      0.75     58825\n",
      "\n",
      "    accuracy                           0.70    116969\n",
      "   macro avg       0.74      0.70      0.69    116969\n",
      "weighted avg       0.74      0.70      0.69    116969\n",
      "\n"
     ]
    }
   ],
   "source": [
    "val_values(y_test,y_pred_nb)\n",
    "val_class(y_test,y_pred_nb)"
   ]
  },
  {
   "cell_type": "markdown",
   "id": "a65d46de",
   "metadata": {},
   "source": [
    "# DecisionTree"
   ]
  },
  {
   "cell_type": "code",
   "execution_count": 64,
   "id": "a1e9ff64",
   "metadata": {},
   "outputs": [],
   "source": [
    "from sklearn.tree import DecisionTreeClassifier\n",
    "classifier= DecisionTreeClassifier(criterion ='gini',max_depth=35 ,random_state=1,max_features=19)"
   ]
  },
  {
   "cell_type": "code",
   "execution_count": 65,
   "id": "a630655f",
   "metadata": {},
   "outputs": [
    {
     "data": {
      "text/plain": [
       "DecisionTreeClassifier(max_depth=35, max_features=19, random_state=1)"
      ]
     },
     "execution_count": 65,
     "metadata": {},
     "output_type": "execute_result"
    }
   ],
   "source": [
    "classifier.fit(x_train,y_train)"
   ]
  },
  {
   "cell_type": "code",
   "execution_count": 66,
   "id": "11674d73",
   "metadata": {},
   "outputs": [],
   "source": [
    "y_pred_t = classifier.predict(x_test)"
   ]
  },
  {
   "cell_type": "code",
   "execution_count": 67,
   "id": "7676043c",
   "metadata": {},
   "outputs": [
    {
     "name": "stdout",
     "output_type": "stream",
     "text": [
      "confusion_matrix=\n",
      " [[49344  8800]\n",
      " [ 6225 52600]]\n",
      "Accuracy 0.8715471620685823\n",
      "recall 0.894177645558861\n",
      "precision 0.8566775244299675\n",
      "loss 4.4366640032052835\n",
      "              precision    recall  f1-score   support\n",
      "\n",
      "           0       0.89      0.85      0.87     58144\n",
      "           1       0.86      0.89      0.88     58825\n",
      "\n",
      "    accuracy                           0.87    116969\n",
      "   macro avg       0.87      0.87      0.87    116969\n",
      "weighted avg       0.87      0.87      0.87    116969\n",
      "\n"
     ]
    }
   ],
   "source": [
    "val_values(y_test,y_pred_t)\n",
    "val_class(y_test,y_pred_t)"
   ]
  },
  {
   "cell_type": "markdown",
   "id": "139bcbef",
   "metadata": {},
   "source": [
    "# RandomForest"
   ]
  },
  {
   "cell_type": "code",
   "execution_count": 94,
   "id": "3ccfc881",
   "metadata": {},
   "outputs": [],
   "source": [
    "from sklearn.ensemble import RandomForestClassifier"
   ]
  },
  {
   "cell_type": "code",
   "execution_count": 95,
   "id": "1712b953",
   "metadata": {},
   "outputs": [],
   "source": [
    "model=RandomForestClassifier(n_estimators=19,criterion='gini',max_depth=35)"
   ]
  },
  {
   "cell_type": "code",
   "execution_count": 96,
   "id": "d39d7a5b",
   "metadata": {},
   "outputs": [
    {
     "data": {
      "text/plain": [
       "RandomForestClassifier(max_depth=35, n_estimators=19)"
      ]
     },
     "execution_count": 96,
     "metadata": {},
     "output_type": "execute_result"
    }
   ],
   "source": [
    "model.fit(x_train,y_train)"
   ]
  },
  {
   "cell_type": "code",
   "execution_count": 97,
   "id": "7bcfc820",
   "metadata": {},
   "outputs": [],
   "source": [
    "y_pred_f=model.predict(x_test)"
   ]
  },
  {
   "cell_type": "code",
   "execution_count": 98,
   "id": "b1ed4fbc",
   "metadata": {},
   "outputs": [
    {
     "name": "stdout",
     "output_type": "stream",
     "text": [
      "confusion_matrix=\n",
      " [[50657  7487]\n",
      " [ 4615 54210]]\n",
      "Accuracy 0.8965366892082518\n",
      "recall 0.9215469613259668\n",
      "precision 0.8786488808207854\n",
      "loss 3.573547337475477\n",
      "              precision    recall  f1-score   support\n",
      "\n",
      "           0       0.92      0.87      0.89     58144\n",
      "           1       0.88      0.92      0.90     58825\n",
      "\n",
      "    accuracy                           0.90    116969\n",
      "   macro avg       0.90      0.90      0.90    116969\n",
      "weighted avg       0.90      0.90      0.90    116969\n",
      "\n"
     ]
    }
   ],
   "source": [
    "val_values(y_test,y_pred_f)\n",
    "val_class(y_test,y_pred_f)\n"
   ]
  },
  {
   "cell_type": "code",
   "execution_count": 99,
   "id": "7e96e2e6",
   "metadata": {},
   "outputs": [
    {
     "data": {
      "text/plain": [
       "0.9848869890462196"
      ]
     },
     "execution_count": 99,
     "metadata": {},
     "output_type": "execute_result"
    }
   ],
   "source": [
    "model.score(x_train,y_train)"
   ]
  },
  {
   "cell_type": "code",
   "execution_count": 101,
   "id": "3e1f0fb2",
   "metadata": {},
   "outputs": [
    {
     "data": {
      "text/plain": [
       "0.8965366892082518"
      ]
     },
     "execution_count": 101,
     "metadata": {},
     "output_type": "execute_result"
    }
   ],
   "source": [
    "model.score(x_test,y_test)"
   ]
  },
  {
   "cell_type": "code",
   "execution_count": 264,
   "id": "54ac4a5d",
   "metadata": {},
   "outputs": [],
   "source": [
    "model_1=RandomForestClassifier(n_estimators=25,criterion='gini',max_depth=29,n_jobs=-1)"
   ]
  },
  {
   "cell_type": "code",
   "execution_count": 265,
   "id": "1d6c6dab",
   "metadata": {},
   "outputs": [
    {
     "data": {
      "text/plain": [
       "RandomForestClassifier(max_depth=29, n_estimators=25, n_jobs=-1)"
      ]
     },
     "execution_count": 265,
     "metadata": {},
     "output_type": "execute_result"
    }
   ],
   "source": [
    "model_1.fit(x_train,y_train)"
   ]
  },
  {
   "cell_type": "code",
   "execution_count": 266,
   "id": "8de77b62",
   "metadata": {},
   "outputs": [],
   "source": [
    "y_pred_f=model_1.predict(x_test)"
   ]
  },
  {
   "cell_type": "code",
   "execution_count": 267,
   "id": "048c85d9",
   "metadata": {},
   "outputs": [
    {
     "name": "stdout",
     "output_type": "stream",
     "text": [
      "confusion_matrix=\n",
      " [[49667  8477]\n",
      " [ 4253 54572]]\n",
      "Accuracy 0.8911677453000367\n",
      "recall 0.927700807479813\n",
      "precision 0.8655490174308871\n",
      "loss 3.758990858215671\n",
      "              precision    recall  f1-score   support\n",
      "\n",
      "           0       0.92      0.85      0.89     58144\n",
      "           1       0.87      0.93      0.90     58825\n",
      "\n",
      "    accuracy                           0.89    116969\n",
      "   macro avg       0.89      0.89      0.89    116969\n",
      "weighted avg       0.89      0.89      0.89    116969\n",
      "\n"
     ]
    }
   ],
   "source": [
    "val_values(y_test,y_pred_f)\n",
    "val_class(y_test,y_pred_f)\n"
   ]
  },
  {
   "cell_type": "code",
   "execution_count": 268,
   "id": "2ce53701",
   "metadata": {},
   "outputs": [
    {
     "data": {
      "text/plain": [
       "0.9568239380176329"
      ]
     },
     "execution_count": 268,
     "metadata": {},
     "output_type": "execute_result"
    }
   ],
   "source": [
    "model_1.score(x_train,y_train)"
   ]
  },
  {
   "cell_type": "code",
   "execution_count": 269,
   "id": "2cb49a10",
   "metadata": {},
   "outputs": [
    {
     "data": {
      "text/plain": [
       "0.8911677453000367"
      ]
     },
     "execution_count": 269,
     "metadata": {},
     "output_type": "execute_result"
    }
   ],
   "source": [
    "model_1.score(x_test,y_test)"
   ]
  },
  {
   "cell_type": "markdown",
   "id": "1103c4a4",
   "metadata": {},
   "source": [
    "# ANN"
   ]
  },
  {
   "cell_type": "code",
   "execution_count": 40,
   "id": "8d5a3b92",
   "metadata": {},
   "outputs": [],
   "source": [
    "import keras\n",
    "import tensorflow as tf\n",
    "from keras import models\n",
    "from keras.models import Sequential\n",
    "from keras.layers import Dense,Activation"
   ]
  },
  {
   "cell_type": "code",
   "execution_count": 41,
   "id": "27f7867a",
   "metadata": {},
   "outputs": [],
   "source": [
    "model=Sequential()\n",
    "model.add(Dense(500,input_dim=22,activation='relu'))\n",
    "model.add(Dense(300,activation='relu'))\n",
    "model.add(Dense(200,activation='relu'))\n",
    "model.add(Dense(100,activation='relu'))\n",
    "model.add(Dense(50,activation='relu'))\n",
    "model.add(Dense(10,activation='relu'))\n",
    "model.add(Dense(1,activation='sigmoid'))"
   ]
  },
  {
   "cell_type": "code",
   "execution_count": 42,
   "id": "41a8a635",
   "metadata": {},
   "outputs": [],
   "source": [
    "model.compile(loss='binary_crossentropy',optimizer='rmsprop',metrics=['accuracy'])"
   ]
  },
  {
   "cell_type": "code",
   "execution_count": 43,
   "id": "4ac677d6",
   "metadata": {},
   "outputs": [
    {
     "name": "stdout",
     "output_type": "stream",
     "text": [
      "Epoch 1/3\n",
      "14622/14622 [==============================] - 90s 6ms/step - loss: 0.4696 - accuracy: 0.7795\n",
      "Epoch 2/3\n",
      "14622/14622 [==============================] - 92s 6ms/step - loss: 0.4634 - accuracy: 0.7854\n",
      "Epoch 3/3\n",
      "14622/14622 [==============================] - 94s 6ms/step - loss: 0.4694 - accuracy: 0.7848\n"
     ]
    }
   ],
   "source": [
    "history=model.fit(x_train,y_train,epochs=3,verbose=1)"
   ]
  },
  {
   "cell_type": "code",
   "execution_count": 44,
   "id": "600272f6",
   "metadata": {},
   "outputs": [
    {
     "data": {
      "text/plain": [
       "Text(0, 0.5, 'accuracy')"
      ]
     },
     "execution_count": 44,
     "metadata": {},
     "output_type": "execute_result"
    },
    {
     "data": {
      "image/png": "[encoded data removed]",
      "text/plain": [
       "<Figure size 432x288 with 1 Axes>"
      ]
     },
     "metadata": {
      "needs_background": "light"
     },
     "output_type": "display_data"
    }
   ],
   "source": [
    "plt.plot(history.history['loss'])\n",
    "plt.plot(history.history['accuracy'])\n",
    "plt.xlabel('Epochs')\n",
    "plt.ylabel('accuracy')"
   ]
  },
  {
   "cell_type": "code",
   "execution_count": 45,
   "id": "ec22155d",
   "metadata": {},
   "outputs": [
    {
     "name": "stdout",
     "output_type": "stream",
     "text": [
      "3656/3656 [==============================] - 9s 2ms/step - loss: 0.4658 - accuracy: 0.7759\n"
     ]
    },
    {
     "data": {
      "text/plain": [
       "[0.46577683091163635, 0.7758722305297852]"
      ]
     },
     "execution_count": 45,
     "metadata": {},
     "output_type": "execute_result"
    }
   ],
   "source": [
    "model.evaluate(x_test,y_test)"
   ]
  },
  {
   "cell_type": "code",
   "execution_count": 46,
   "id": "8847e6b0",
   "metadata": {},
   "outputs": [],
   "source": [
    "y_pred=model.predict(x_test)"
   ]
  },
  {
   "cell_type": "code",
   "execution_count": 47,
   "id": "a6d99391",
   "metadata": {},
   "outputs": [],
   "source": [
    "y_pred_hard=np.round(y_pred).astype(int)"
   ]
  },
  {
   "cell_type": "code",
   "execution_count": 48,
   "id": "1309387e",
   "metadata": {},
   "outputs": [],
   "source": [
    "from sklearn.metrics import confusion_matrix,accuracy_score,f1_score"
   ]
  },
  {
   "cell_type": "code",
   "execution_count": 49,
   "id": "106bf997",
   "metadata": {},
   "outputs": [
    {
     "name": "stdout",
     "output_type": "stream",
     "text": [
      "Accuracy 0.7758722396532415\n",
      "confusion matrix [[37623 20521]\n",
      " [ 5695 53130]]\n",
      "F1 Score 0.8021075515565084\n"
     ]
    }
   ],
   "source": [
    "print('Accuracy',accuracy_score(y_test,y_pred_hard))\n",
    "print('confusion matrix',confusion_matrix(y_test,y_pred_hard))\n",
    "print('F1 Score',f1_score(y_test,y_pred_hard))"
   ]
  },
  {
   "cell_type": "code",
   "execution_count": 50,
   "id": "7a5ae74b",
   "metadata": {},
   "outputs": [
    {
     "data": {
      "text/plain": [
       "<tf.Tensor: shape=(2, 2), dtype=int32, numpy=\n",
       "array([[37623, 20521],\n",
       "       [ 5695, 53130]])>"
      ]
     },
     "execution_count": 50,
     "metadata": {},
     "output_type": "execute_result"
    }
   ],
   "source": [
    "cm=tf.math.confusion_matrix(labels=y_test,predictions=y_pred_hard)\n",
    "cm"
   ]
  },
  {
   "cell_type": "code",
   "execution_count": 51,
   "id": "e46d5176",
   "metadata": {},
   "outputs": [
    {
     "data": {
      "text/plain": [
       "Text(69.0, 0.5, 'Truth')"
      ]
     },
     "execution_count": 51,
     "metadata": {},
     "output_type": "execute_result"
    },
    {
     "data": {
      "image/png": "[encoded data removed]",
      "text/plain": [
       "<Figure size 720x504 with 2 Axes>"
      ]
     },
     "metadata": {
      "needs_background": "light"
     },
     "output_type": "display_data"
    }
   ],
   "source": [
    "import seaborn as sns\n",
    "plt.figure(figsize=(10,7))\n",
    "sns.heatmap(cm,annot=True,fmt='d')\n",
    "plt.xlabel('predicted')\n",
    "plt.ylabel('Truth')"
   ]
  },
  {
   "cell_type": "code",
   "execution_count": 52,
   "id": "6d23fcd3",
   "metadata": {},
   "outputs": [
    {
     "name": "stdout",
     "output_type": "stream",
     "text": [
      "confusion_matrix=\n",
      " [[37623 20521]\n",
      " [ 5695 53130]]\n",
      "Accuracy 0.7758722396532415\n",
      "recall 0.9031874203144922\n",
      "precision 0.7213751340782881\n",
      "loss 7.7412388795992415\n",
      "              precision    recall  f1-score   support\n",
      "\n",
      "           0       0.87      0.65      0.74     58144\n",
      "           1       0.72      0.90      0.80     58825\n",
      "\n",
      "    accuracy                           0.78    116969\n",
      "   macro avg       0.79      0.78      0.77    116969\n",
      "weighted avg       0.79      0.78      0.77    116969\n",
      "\n"
     ]
    }
   ],
   "source": [
    "val_values(y_test,y_pred_hard)\n",
    "val_class(y_test,y_pred_hard)"
   ]
  },
  {
   "cell_type": "markdown",
   "id": "b14a4ff8",
   "metadata": {},
   "source": [
    "# Gradient boosting "
   ]
  },
  {
   "cell_type": "code",
   "execution_count": 39,
   "id": "20ab574d",
   "metadata": {},
   "outputs": [],
   "source": [
    "from sklearn.ensemble import GradientBoostingClassifier"
   ]
  },
  {
   "cell_type": "code",
   "execution_count": 58,
   "id": "a4d51aff",
   "metadata": {},
   "outputs": [],
   "source": [
    "graidboost=GradientBoostingClassifier(n_estimators=800,learning_rate=0.99)#600"
   ]
  },
  {
   "cell_type": "code",
   "execution_count": 59,
   "id": "8727a669",
   "metadata": {},
   "outputs": [
    {
     "data": {
      "text/plain": [
       "GradientBoostingClassifier(learning_rate=0.99, n_estimators=800)"
      ]
     },
     "execution_count": 59,
     "metadata": {},
     "output_type": "execute_result"
    }
   ],
   "source": [
    "graidboost.fit(x_train,y_train)"
   ]
  },
  {
   "cell_type": "code",
   "execution_count": 60,
   "id": "dc9e0e5f",
   "metadata": {},
   "outputs": [],
   "source": [
    "y_pred_g=graidboost.predict(x_test)"
   ]
  },
  {
   "cell_type": "code",
   "execution_count": 61,
   "id": "77b94810",
   "metadata": {},
   "outputs": [
    {
     "name": "stdout",
     "output_type": "stream",
     "text": [
      "confusion_matrix=\n",
      " [[54382  3762]\n",
      " [ 6575 52250]]\n",
      "Accuracy 0.9116261573579324\n",
      "recall 0.8882277943051424\n",
      "precision 0.9328358208955224\n",
      "loss 3.0523501071200423\n",
      "              precision    recall  f1-score   support\n",
      "\n",
      "           0       0.89      0.94      0.91     58144\n",
      "           1       0.93      0.89      0.91     58825\n",
      "\n",
      "    accuracy                           0.91    116969\n",
      "   macro avg       0.91      0.91      0.91    116969\n",
      "weighted avg       0.91      0.91      0.91    116969\n",
      "\n"
     ]
    }
   ],
   "source": [
    "val_values(y_test,y_pred_g)\n",
    "val_class(y_test,y_pred_g)\n"
   ]
  },
  {
   "cell_type": "code",
   "execution_count": 62,
   "id": "4b85cb42",
   "metadata": {},
   "outputs": [
    {
     "data": {
      "text/plain": [
       "0.9190382046486776"
      ]
     },
     "execution_count": 62,
     "metadata": {},
     "output_type": "execute_result"
    }
   ],
   "source": [
    "graidboost.score(x_train,y_train)"
   ]
  },
  {
   "cell_type": "code",
   "execution_count": 63,
   "id": "4ba6179e",
   "metadata": {},
   "outputs": [
    {
     "data": {
      "text/plain": [
       "0.9116261573579324"
      ]
     },
     "execution_count": 63,
     "metadata": {},
     "output_type": "execute_result"
    }
   ],
   "source": [
    "graidboost.score(x_test,y_test)"
   ]
  },
  {
   "cell_type": "markdown",
   "id": "472e66b2",
   "metadata": {},
   "source": [
    "# xgboost"
   ]
  },
  {
   "cell_type": "code",
   "execution_count": 40,
   "id": "cd3b31e7",
   "metadata": {},
   "outputs": [],
   "source": [
    "from xgboost import XGBClassifier"
   ]
  },
  {
   "cell_type": "code",
   "execution_count": 41,
   "id": "daa723ba",
   "metadata": {},
   "outputs": [
    {
     "data": {
      "text/plain": [
       "XGBClassifier(alpha=10, base_score=0.5, booster='gbtree', callbacks=None,\n",
       "              colsample_bylevel=1, colsample_bynode=1, colsample_bytree=1,\n",
       "              early_stopping_rounds=None, enable_categorical=False,\n",
       "              eval_metric=None, gamma=0, gpu_id=-1, grow_policy='depthwise',\n",
       "              importance_type=None, interaction_constraints='',\n",
       "              learning_rate=0.9, max_bin=256, max_cat_to_onehot=4,\n",
       "              max_delta_step=0, max_depth=11, max_leaves=0, min_child_weight=1,\n",
       "              missing=nan, monotone_constraints='()', n_estimators=300,\n",
       "              n_jobs=0, num_parallel_tree=1, predictor='auto', random_state=0,\n",
       "              reg_alpha=10, ...)"
      ]
     },
     "execution_count": 41,
     "metadata": {},
     "output_type": "execute_result"
    }
   ],
   "source": [
    "from xgboost import XGBClassifier\n",
    "\n",
    "\n",
    "# declare parameters\n",
    "params = {\n",
    "            'objective':'binary:logistic',\n",
    "            'max_depth': 11,\n",
    "            'alpha': 10,\n",
    "            'learning_rate': 0.9,\n",
    "            'n_estimators':300,\n",
    "             \n",
    "        }\n",
    "            \n",
    "            \n",
    "            \n",
    "# instantiate the classifier \n",
    "xgb_clf = XGBClassifier(**params)\n",
    "\n",
    "\n",
    "\n",
    "# fit the classifier to the training data\n",
    "xgb_clf.fit(x_train, y_train)"
   ]
  },
  {
   "cell_type": "code",
   "execution_count": 42,
   "id": "065c5762",
   "metadata": {},
   "outputs": [
    {
     "name": "stdout",
     "output_type": "stream",
     "text": [
      "XGBClassifier(alpha=10, base_score=0.5, booster='gbtree', callbacks=None,\n",
      "              colsample_bylevel=1, colsample_bynode=1, colsample_bytree=1,\n",
      "              early_stopping_rounds=None, enable_categorical=False,\n",
      "              eval_metric=None, gamma=0, gpu_id=-1, grow_policy='depthwise',\n",
      "              importance_type=None, interaction_constraints='',\n",
      "              learning_rate=0.9, max_bin=256, max_cat_to_onehot=4,\n",
      "              max_delta_step=0, max_depth=11, max_leaves=0, min_child_weight=1,\n",
      "              missing=nan, monotone_constraints='()', n_estimators=300,\n",
      "              n_jobs=0, num_parallel_tree=1, predictor='auto', random_state=0,\n",
      "              reg_alpha=10, ...)\n"
     ]
    }
   ],
   "source": [
    "print(xgb_clf)"
   ]
  },
  {
   "cell_type": "code",
   "execution_count": 43,
   "id": "c955f5d3",
   "metadata": {},
   "outputs": [],
   "source": [
    "y_pred_XG=xgb_clf.predict(x_test)"
   ]
  },
  {
   "cell_type": "code",
   "execution_count": 44,
   "id": "0ffe7f0f",
   "metadata": {},
   "outputs": [
    {
     "name": "stdout",
     "output_type": "stream",
     "text": [
      "confusion_matrix=\n",
      " [[53946  4198]\n",
      " [ 4841 53984]]\n",
      "Accuracy 0.9227231146714087\n",
      "recall 0.9177050573735657\n",
      "precision 0.927847100477811\n",
      "loss 2.6690777602921254\n",
      "              precision    recall  f1-score   support\n",
      "\n",
      "           0       0.92      0.93      0.92     58144\n",
      "           1       0.93      0.92      0.92     58825\n",
      "\n",
      "    accuracy                           0.92    116969\n",
      "   macro avg       0.92      0.92      0.92    116969\n",
      "weighted avg       0.92      0.92      0.92    116969\n",
      "\n"
     ]
    }
   ],
   "source": [
    "val_values(y_test,y_pred_XG)\n",
    "val_class(y_test,y_pred_XG)\n"
   ]
  },
  {
   "cell_type": "code",
   "execution_count": 45,
   "id": "aa3440ff",
   "metadata": {},
   "outputs": [
    {
     "data": {
      "text/plain": [
       "0.9556719209190488"
      ]
     },
     "execution_count": 45,
     "metadata": {},
     "output_type": "execute_result"
    }
   ],
   "source": [
    "xgb_clf.score(x_train,y_train)"
   ]
  },
  {
   "cell_type": "code",
   "execution_count": 46,
   "id": "b3d079f6",
   "metadata": {},
   "outputs": [
    {
     "data": {
      "text/plain": [
       "0.9227231146714087"
      ]
     },
     "execution_count": 46,
     "metadata": {},
     "output_type": "execute_result"
    }
   ],
   "source": [
    "xgb_clf.score(x_test,y_test)"
   ]
  },
  {
   "cell_type": "code",
   "execution_count": 47,
   "id": "31b0a928",
   "metadata": {},
   "outputs": [],
   "source": [
    "import pickle\n",
    "pickle_out=open('classifiermodel.pkl','wb')\n",
    "pickle.dump(xgb_clf,pickle_out)\n",
    "pickle_out.close()"
   ]
  },
  {
   "cell_type": "code",
   "execution_count": 47,
   "id": "1863a161",
   "metadata": {},
   "outputs": [
    {
     "data": {
      "text/plain": [
       "['model_heartproject']"
      ]
     },
     "execution_count": 47,
     "metadata": {},
     "output_type": "execute_result"
    }
   ],
   "source": [
    "joblib.dump(xgb_clf,'model_heartproject')"
   ]
  },
  {
   "cell_type": "code",
   "execution_count": 3,
   "id": "c117a98a",
   "metadata": {},
   "outputs": [],
   "source": [
    "model=pickle.load(open('classifiermodel.pkl','rb'))"
   ]
  },
  {
   "cell_type": "code",
   "execution_count": 6,
   "id": "e0de0295",
   "metadata": {},
   "outputs": [
    {
     "name": "stdout",
     "output_type": "stream",
     "text": [
      "Patient safe\n"
     ]
    }
   ],
   "source": [
    "arr1 = np.array([24,0,0,0,0,1,0,1,11,0,0,0,1,5,0,1,0,0,0,0,5,4]).reshape(1,22)\n",
    "prediction=model.predict(arr1)\n",
    "if prediction==0:\n",
    "    print('Patient safe')\n",
    "else:\n",
    "    print('Patient not safe')\n"
   ]
  },
  {
   "cell_type": "code",
   "execution_count": 125,
   "id": "7060e0d1",
   "metadata": {},
   "outputs": [
    {
     "data": {
      "text/html": [
       "<div>\n",
       "<style scoped>\n",
       "    .dataframe tbody tr th:only-of-type {\n",
       "        vertical-align: middle;\n",
       "    }\n",
       "\n",
       "    .dataframe tbody tr th {\n",
       "        vertical-align: top;\n",
       "    }\n",
       "\n",
       "    .dataframe thead th {\n",
       "        text-align: right;\n",
       "    }\n",
       "</style>\n",
       "<table border=\"1\" class=\"dataframe\">\n",
       "  <thead>\n",
       "    <tr style=\"text-align: right;\">\n",
       "      <th></th>\n",
       "      <th>BMI</th>\n",
       "      <th>Smoking</th>\n",
       "      <th>AlcoholDrinking</th>\n",
       "      <th>Stroke</th>\n",
       "      <th>DiffWalking</th>\n",
       "      <th>Sex</th>\n",
       "      <th>Diabetic</th>\n",
       "      <th>PhysicalActivity</th>\n",
       "      <th>SleepTime</th>\n",
       "      <th>Asthma</th>\n",
       "      <th>...</th>\n",
       "      <th>AgeCategory1</th>\n",
       "      <th>GenHealth1</th>\n",
       "      <th>Race_American Indian/Alaskan Native</th>\n",
       "      <th>Race_Asian</th>\n",
       "      <th>Race_Black</th>\n",
       "      <th>Race_Hispanic</th>\n",
       "      <th>Race_Other</th>\n",
       "      <th>Race_White</th>\n",
       "      <th>PhysicalHealth1</th>\n",
       "      <th>MentalHealth1</th>\n",
       "    </tr>\n",
       "  </thead>\n",
       "  <tbody>\n",
       "    <tr>\n",
       "      <th>26036</th>\n",
       "      <td>28.97</td>\n",
       "      <td>0</td>\n",
       "      <td>0</td>\n",
       "      <td>0</td>\n",
       "      <td>0</td>\n",
       "      <td>0</td>\n",
       "      <td>0</td>\n",
       "      <td>1</td>\n",
       "      <td>7.0</td>\n",
       "      <td>0</td>\n",
       "      <td>...</td>\n",
       "      <td>8</td>\n",
       "      <td>3</td>\n",
       "      <td>0</td>\n",
       "      <td>0</td>\n",
       "      <td>0</td>\n",
       "      <td>0</td>\n",
       "      <td>0</td>\n",
       "      <td>1</td>\n",
       "      <td>1</td>\n",
       "      <td>1</td>\n",
       "    </tr>\n",
       "  </tbody>\n",
       "</table>\n",
       "<p>1 rows × 22 columns</p>\n",
       "</div>"
      ],
      "text/plain": [
       "         BMI  Smoking  AlcoholDrinking  Stroke  DiffWalking  Sex  Diabetic  \\\n",
       "26036  28.97        0                0       0            0    0         0   \n",
       "\n",
       "       PhysicalActivity  SleepTime  Asthma  ...  AgeCategory1  GenHealth1  \\\n",
       "26036                 1        7.0       0  ...             8           3   \n",
       "\n",
       "       Race_American Indian/Alaskan Native  Race_Asian  Race_Black  \\\n",
       "26036                                    0           0           0   \n",
       "\n",
       "       Race_Hispanic  Race_Other  Race_White  PhysicalHealth1  MentalHealth1  \n",
       "26036              0           0           1                1              1  \n",
       "\n",
       "[1 rows x 22 columns]"
      ]
     },
     "execution_count": 125,
     "metadata": {},
     "output_type": "execute_result"
    }
   ],
   "source": [
    "x_train.head(1)"
   ]
  },
  {
   "cell_type": "code",
   "execution_count": 162,
   "id": "eead7f96",
   "metadata": {},
   "outputs": [
    {
     "data": {
      "text/plain": [
       "Index(['BMI', 'Smoking', 'AlcoholDrinking', 'Stroke', 'DiffWalking', 'Sex',\n",
       "       'Diabetic', 'PhysicalActivity', 'SleepTime', 'Asthma', 'KidneyDisease',\n",
       "       'SkinCancer', 'AgeCategory1', 'GenHealth1',\n",
       "       'Race_American Indian/Alaskan Native', 'Race_Asian', 'Race_Black',\n",
       "       'Race_Hispanic', 'Race_Other', 'Race_White', 'PhysicalHealth1',\n",
       "       'MentalHealth1'],\n",
       "      dtype='object')"
      ]
     },
     "execution_count": 162,
     "metadata": {},
     "output_type": "execute_result"
    }
   ],
   "source": [
    "x_test.columns"
   ]
  },
  {
   "cell_type": "code",
   "execution_count": 5,
   "id": "2f653f33",
   "metadata": {},
   "outputs": [
    {
     "name": "stdout",
     "output_type": "stream",
     "text": [
      "Patient safe\n"
     ]
    }
   ],
   "source": [
    "arr1 = np.array([24,0,0,0,0,1,0,1,11,0,0,0,1,5,0,1,0,0,0,0,5,4]).reshape(1,22)\n",
    "prediction=xgb_clf.predict(arr1)\n",
    "if prediction==0:\n",
    "    print('Patient safe')\n",
    "else:\n",
    "    print('Patient not safe')\n"
   ]
  },
  {
   "cell_type": "markdown",
   "id": "03bc7603",
   "metadata": {},
   "source": [
    "# Standardize the Data"
   ]
  },
  {
   "cell_type": "code",
   "execution_count": 53,
   "id": "ea45ee73",
   "metadata": {},
   "outputs": [],
   "source": [
    "from sklearn.preprocessing import StandardScaler"
   ]
  },
  {
   "cell_type": "code",
   "execution_count": 54,
   "id": "c1dc3374",
   "metadata": {},
   "outputs": [],
   "source": [
    "x_sm = StandardScaler().fit_transform(x_sm)"
   ]
  },
  {
   "cell_type": "code",
   "execution_count": 55,
   "id": "3caedad4",
   "metadata": {},
   "outputs": [],
   "source": [
    "from sklearn.model_selection import train_test_split\n",
    "x_train,x_test,y_train,y_test=train_test_split(x_sm,y_sm,train_size=0.8, random_state=2,shuffle=y)"
   ]
  },
  {
   "cell_type": "markdown",
   "id": "2aa9fc7c",
   "metadata": {},
   "source": [
    "# KNN(K nearest neighbour)"
   ]
  },
  {
   "cell_type": "code",
   "execution_count": 38,
   "id": "7364c299",
   "metadata": {},
   "outputs": [],
   "source": [
    "from sklearn.neighbors import KNeighborsClassifier\n",
    "model_knn=KNeighborsClassifier(n_neighbors=5)"
   ]
  },
  {
   "cell_type": "code",
   "execution_count": 39,
   "id": "a1e33781",
   "metadata": {},
   "outputs": [
    {
     "data": {
      "text/plain": [
       "KNeighborsClassifier()"
      ]
     },
     "execution_count": 39,
     "metadata": {},
     "output_type": "execute_result"
    }
   ],
   "source": [
    "model_knn.fit(x_train,y_train)"
   ]
  },
  {
   "cell_type": "code",
   "execution_count": 40,
   "id": "9a6d384c",
   "metadata": {},
   "outputs": [],
   "source": [
    "y_pred_knn=model_knn.predict(x_test)"
   ]
  },
  {
   "cell_type": "code",
   "execution_count": 41,
   "id": "d2812828",
   "metadata": {},
   "outputs": [
    {
     "name": "stdout",
     "output_type": "stream",
     "text": [
      "confusion_matrix=\n",
      " [[45933 12211]\n",
      " [ 5535 53290]]\n",
      "Accuracy 0.8482845882242304\n",
      "recall 0.9059073523161921\n",
      "precision 0.813575365261599\n",
      "loss 5.2401481571040645\n",
      "              precision    recall  f1-score   support\n",
      "\n",
      "           0       0.89      0.79      0.84     58144\n",
      "           1       0.81      0.91      0.86     58825\n",
      "\n",
      "    accuracy                           0.85    116969\n",
      "   macro avg       0.85      0.85      0.85    116969\n",
      "weighted avg       0.85      0.85      0.85    116969\n",
      "\n"
     ]
    }
   ],
   "source": [
    "val_values(y_test,y_pred_knn)\n",
    "val_class(y_test,y_pred_knn)"
   ]
  },
  {
   "cell_type": "markdown",
   "id": "471cce39",
   "metadata": {},
   "source": [
    "# SVM"
   ]
  },
  {
   "cell_type": "code",
   "execution_count": null,
   "id": "d78374d1",
   "metadata": {},
   "outputs": [],
   "source": [
    "from sklearn.model_selection import GridSearchCV\n",
    "from sklearn import svm\n",
    "#param_grid = {'C' : [2, 1,5 ,10],\n",
    " #             'gamma' : [0.1,0.2,0.3,0.4,0.5,0.6,0.7 ],\n",
    "  #            'kernel' : ['rbf', 'linear']\n",
    "   #          }\n",
    "grid =svm.SVC()\n",
    "grid.fit(x_train,y_train)"
   ]
  },
  {
   "cell_type": "code",
   "execution_count": null,
   "id": "bddf5813",
   "metadata": {},
   "outputs": [],
   "source": [
    "model.score(x_train,y_train)"
   ]
  },
  {
   "cell_type": "code",
   "execution_count": null,
   "id": "4e0dc05f",
   "metadata": {},
   "outputs": [],
   "source": [
    "grid.best_params_"
   ]
  },
  {
   "cell_type": "code",
   "execution_count": null,
   "id": "9c0a1b60",
   "metadata": {},
   "outputs": [],
   "source": [
    "grid.best_score_"
   ]
  },
  {
   "cell_type": "code",
   "execution_count": null,
   "id": "f960ba71",
   "metadata": {},
   "outputs": [],
   "source": [
    "y_pred_svm=model.predict(x_test)"
   ]
  },
  {
   "cell_type": "code",
   "execution_count": null,
   "id": "c5dfda84",
   "metadata": {},
   "outputs": [],
   "source": [
    "val_values(y_test,y_pred_svm)\n",
    "val_class(y_test,y_pred_svm)"
   ]
  },
  {
   "cell_type": "markdown",
   "id": "d3c236a6",
   "metadata": {},
   "source": [
    "# ANN"
   ]
  },
  {
   "cell_type": "code",
   "execution_count": 56,
   "id": "1d04f45b",
   "metadata": {},
   "outputs": [],
   "source": [
    "model=Sequential()\n",
    "model.add(Dense(500,input_dim=22,activation='relu'))\n",
    "model.add(Dense(300,activation='relu'))\n",
    "model.add(Dense(200,activation='relu'))\n",
    "model.add(Dense(100,activation='relu'))\n",
    "model.add(Dense(50,activation='relu'))\n",
    "model.add(Dense(10,activation='relu'))\n",
    "model.add(Dense(1,activation='sigmoid'))"
   ]
  },
  {
   "cell_type": "code",
   "execution_count": 57,
   "id": "dd3177c5",
   "metadata": {},
   "outputs": [],
   "source": [
    "model.compile(loss='binary_crossentropy',optimizer='rmsprop',metrics=['accuracy'])"
   ]
  },
  {
   "cell_type": "code",
   "execution_count": 58,
   "id": "2bf96c06",
   "metadata": {},
   "outputs": [
    {
     "name": "stdout",
     "output_type": "stream",
     "text": [
      "Epoch 1/3\n",
      "14622/14622 [==============================] - 90s 6ms/step - loss: 0.4480 - accuracy: 0.7892\n",
      "Epoch 2/3\n",
      "14622/14622 [==============================] - 90s 6ms/step - loss: 0.4436 - accuracy: 0.7919\n",
      "Epoch 3/3\n",
      "14622/14622 [==============================] - 89s 6ms/step - loss: 0.4434 - accuracy: 0.7931\n"
     ]
    }
   ],
   "source": [
    "history=model.fit(x_train,y_train,epochs=3,verbose=1)"
   ]
  },
  {
   "cell_type": "code",
   "execution_count": 59,
   "id": "0b49a747",
   "metadata": {},
   "outputs": [
    {
     "data": {
      "text/plain": [
       "Text(0, 0.5, 'accuracy')"
      ]
     },
     "execution_count": 59,
     "metadata": {},
     "output_type": "execute_result"
    },
    {
     "data": {
      "image/png": "[encoded data removed]",
      "text/plain": [
       "<Figure size 432x288 with 1 Axes>"
      ]
     },
     "metadata": {
      "needs_background": "light"
     },
     "output_type": "display_data"
    }
   ],
   "source": [
    "plt.plot(history.history['loss'])\n",
    "plt.plot(history.history['accuracy'])\n",
    "plt.xlabel('Epochs')\n",
    "plt.ylabel('accuracy')"
   ]
  },
  {
   "cell_type": "code",
   "execution_count": 60,
   "id": "df67c6bb",
   "metadata": {},
   "outputs": [
    {
     "name": "stdout",
     "output_type": "stream",
     "text": [
      "3656/3656 [==============================] - 10s 3ms/step - loss: 0.4431 - accuracy: 0.7926\n"
     ]
    },
    {
     "data": {
      "text/plain": [
       "[0.4430871307849884, 0.7926031947135925]"
      ]
     },
     "execution_count": 60,
     "metadata": {},
     "output_type": "execute_result"
    }
   ],
   "source": [
    "model.evaluate(x_test,y_test)"
   ]
  },
  {
   "cell_type": "code",
   "execution_count": 61,
   "id": "d51430da",
   "metadata": {},
   "outputs": [],
   "source": [
    "y_pred=model.predict(x_test)"
   ]
  },
  {
   "cell_type": "code",
   "execution_count": 62,
   "id": "95775903",
   "metadata": {},
   "outputs": [],
   "source": [
    "y_pred_hard=np.round(y_pred).astype(int)"
   ]
  },
  {
   "cell_type": "code",
   "execution_count": 63,
   "id": "80e09ebc",
   "metadata": {},
   "outputs": [
    {
     "name": "stdout",
     "output_type": "stream",
     "text": [
      "Accuracy 0.7926031683608478\n",
      "confusion matrix [[43526 14618]\n",
      " [ 9641 49184]]\n",
      "F1 Score 0.8021724416319408\n"
     ]
    }
   ],
   "source": [
    "print('Accuracy',accuracy_score(y_test,y_pred_hard))\n",
    "print('confusion matrix',confusion_matrix(y_test,y_pred_hard))\n",
    "print('F1 Score',f1_score(y_test,y_pred_hard))"
   ]
  },
  {
   "cell_type": "code",
   "execution_count": 64,
   "id": "93c7d814",
   "metadata": {},
   "outputs": [
    {
     "name": "stdout",
     "output_type": "stream",
     "text": [
      "confusion_matrix=\n",
      " [[43526 14618]\n",
      " [ 9641 49184]]\n",
      "Accuracy 0.7926031683608478\n",
      "recall 0.8361070973225669\n",
      "precision 0.7708849252374533\n",
      "loss 7.163332721313964\n",
      "None\n",
      "              precision    recall  f1-score   support\n",
      "\n",
      "           0       0.82      0.75      0.78     58144\n",
      "           1       0.77      0.84      0.80     58825\n",
      "\n",
      "    accuracy                           0.79    116969\n",
      "   macro avg       0.79      0.79      0.79    116969\n",
      "weighted avg       0.79      0.79      0.79    116969\n",
      "\n",
      "None\n"
     ]
    }
   ],
   "source": [
    "print(val_values(y_test,y_pred_hard))\n",
    "print(val_class(y_test,y_pred_hard))"
   ]
  },
  {
   "cell_type": "code",
   "execution_count": null,
   "id": "648f73dc",
   "metadata": {},
   "outputs": [],
   "source": []
  }
 ],
 "metadata": {
  "kernelspec": {
   "display_name": "Python 3 (ipykernel)",
   "language": "python",
   "name": "python3"
  },
  "language_info": {
   "codemirror_mode": {
    "name": "ipython",
    "version": 3
   },
   "file_extension": ".py",
   "mimetype": "text/x-python",
   "name": "python",
   "nbconvert_exporter": "python",
   "pygments_lexer": "ipython3",
   "version": "3.9.7"
  }
 },
 "nbformat": 4,
 "nbformat_minor": 5
}
