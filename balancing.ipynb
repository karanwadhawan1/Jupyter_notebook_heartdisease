{
 "cells": [
  {
   "cell_type": "code",
   "execution_count": 1,
   "id": "e37a2e8a",
   "metadata": {},
   "outputs": [],
   "source": [
    "import numpy as np\n",
    "import matplotlib.pyplot as plt\n",
    "import seaborn as sns\n",
    "import pandas as pd\n",
    "import warnings\n",
    "warnings.filterwarnings('ignore')"
   ]
  },
  {
   "cell_type": "code",
   "execution_count": 2,
   "id": "0e82b011",
   "metadata": {},
   "outputs": [],
   "source": [
    "df = pd.read_csv('heart_2020_cleaned.csv')"
   ]
  },
  {
   "cell_type": "code",
   "execution_count": 3,
   "id": "fa0cc0e8",
   "metadata": {},
   "outputs": [
    {
     "data": {
      "text/html": [
       "<div>\n",
       "<style scoped>\n",
       "    .dataframe tbody tr th:only-of-type {\n",
       "        vertical-align: middle;\n",
       "    }\n",
       "\n",
       "    .dataframe tbody tr th {\n",
       "        vertical-align: top;\n",
       "    }\n",
       "\n",
       "    .dataframe thead th {\n",
       "        text-align: right;\n",
       "    }\n",
       "</style>\n",
       "<table border=\"1\" class=\"dataframe\">\n",
       "  <thead>\n",
       "    <tr style=\"text-align: right;\">\n",
       "      <th></th>\n",
       "      <th>HeartDisease</th>\n",
       "      <th>BMI</th>\n",
       "      <th>Smoking</th>\n",
       "      <th>AlcoholDrinking</th>\n",
       "      <th>Stroke</th>\n",
       "      <th>PhysicalHealth</th>\n",
       "      <th>MentalHealth</th>\n",
       "      <th>DiffWalking</th>\n",
       "      <th>Sex</th>\n",
       "      <th>AgeCategory</th>\n",
       "      <th>Race</th>\n",
       "      <th>Diabetic</th>\n",
       "      <th>PhysicalActivity</th>\n",
       "      <th>GenHealth</th>\n",
       "      <th>SleepTime</th>\n",
       "      <th>Asthma</th>\n",
       "      <th>KidneyDisease</th>\n",
       "      <th>SkinCancer</th>\n",
       "    </tr>\n",
       "  </thead>\n",
       "  <tbody>\n",
       "    <tr>\n",
       "      <th>0</th>\n",
       "      <td>No</td>\n",
       "      <td>16.60</td>\n",
       "      <td>Yes</td>\n",
       "      <td>No</td>\n",
       "      <td>No</td>\n",
       "      <td>3.0</td>\n",
       "      <td>30.0</td>\n",
       "      <td>No</td>\n",
       "      <td>Female</td>\n",
       "      <td>55-59</td>\n",
       "      <td>White</td>\n",
       "      <td>Yes</td>\n",
       "      <td>Yes</td>\n",
       "      <td>Very good</td>\n",
       "      <td>5.0</td>\n",
       "      <td>Yes</td>\n",
       "      <td>No</td>\n",
       "      <td>Yes</td>\n",
       "    </tr>\n",
       "    <tr>\n",
       "      <th>1</th>\n",
       "      <td>No</td>\n",
       "      <td>20.34</td>\n",
       "      <td>No</td>\n",
       "      <td>No</td>\n",
       "      <td>Yes</td>\n",
       "      <td>0.0</td>\n",
       "      <td>0.0</td>\n",
       "      <td>No</td>\n",
       "      <td>Female</td>\n",
       "      <td>80 or older</td>\n",
       "      <td>White</td>\n",
       "      <td>No</td>\n",
       "      <td>Yes</td>\n",
       "      <td>Very good</td>\n",
       "      <td>7.0</td>\n",
       "      <td>No</td>\n",
       "      <td>No</td>\n",
       "      <td>No</td>\n",
       "    </tr>\n",
       "    <tr>\n",
       "      <th>2</th>\n",
       "      <td>No</td>\n",
       "      <td>26.58</td>\n",
       "      <td>Yes</td>\n",
       "      <td>No</td>\n",
       "      <td>No</td>\n",
       "      <td>20.0</td>\n",
       "      <td>30.0</td>\n",
       "      <td>No</td>\n",
       "      <td>Male</td>\n",
       "      <td>65-69</td>\n",
       "      <td>White</td>\n",
       "      <td>Yes</td>\n",
       "      <td>Yes</td>\n",
       "      <td>Fair</td>\n",
       "      <td>8.0</td>\n",
       "      <td>Yes</td>\n",
       "      <td>No</td>\n",
       "      <td>No</td>\n",
       "    </tr>\n",
       "    <tr>\n",
       "      <th>3</th>\n",
       "      <td>No</td>\n",
       "      <td>24.21</td>\n",
       "      <td>No</td>\n",
       "      <td>No</td>\n",
       "      <td>No</td>\n",
       "      <td>0.0</td>\n",
       "      <td>0.0</td>\n",
       "      <td>No</td>\n",
       "      <td>Female</td>\n",
       "      <td>75-79</td>\n",
       "      <td>White</td>\n",
       "      <td>No</td>\n",
       "      <td>No</td>\n",
       "      <td>Good</td>\n",
       "      <td>6.0</td>\n",
       "      <td>No</td>\n",
       "      <td>No</td>\n",
       "      <td>Yes</td>\n",
       "    </tr>\n",
       "    <tr>\n",
       "      <th>4</th>\n",
       "      <td>No</td>\n",
       "      <td>23.71</td>\n",
       "      <td>No</td>\n",
       "      <td>No</td>\n",
       "      <td>No</td>\n",
       "      <td>28.0</td>\n",
       "      <td>0.0</td>\n",
       "      <td>Yes</td>\n",
       "      <td>Female</td>\n",
       "      <td>40-44</td>\n",
       "      <td>White</td>\n",
       "      <td>No</td>\n",
       "      <td>Yes</td>\n",
       "      <td>Very good</td>\n",
       "      <td>8.0</td>\n",
       "      <td>No</td>\n",
       "      <td>No</td>\n",
       "      <td>No</td>\n",
       "    </tr>\n",
       "  </tbody>\n",
       "</table>\n",
       "</div>"
      ],
      "text/plain": [
       "  HeartDisease    BMI Smoking AlcoholDrinking Stroke  PhysicalHealth  \\\n",
       "0           No  16.60     Yes              No     No             3.0   \n",
       "1           No  20.34      No              No    Yes             0.0   \n",
       "2           No  26.58     Yes              No     No            20.0   \n",
       "3           No  24.21      No              No     No             0.0   \n",
       "4           No  23.71      No              No     No            28.0   \n",
       "\n",
       "   MentalHealth DiffWalking     Sex  AgeCategory   Race Diabetic  \\\n",
       "0          30.0          No  Female        55-59  White      Yes   \n",
       "1           0.0          No  Female  80 or older  White       No   \n",
       "2          30.0          No    Male        65-69  White      Yes   \n",
       "3           0.0          No  Female        75-79  White       No   \n",
       "4           0.0         Yes  Female        40-44  White       No   \n",
       "\n",
       "  PhysicalActivity  GenHealth  SleepTime Asthma KidneyDisease SkinCancer  \n",
       "0              Yes  Very good        5.0    Yes            No        Yes  \n",
       "1              Yes  Very good        7.0     No            No         No  \n",
       "2              Yes       Fair        8.0    Yes            No         No  \n",
       "3               No       Good        6.0     No            No        Yes  \n",
       "4              Yes  Very good        8.0     No            No         No  "
      ]
     },
     "execution_count": 3,
     "metadata": {},
     "output_type": "execute_result"
    }
   ],
   "source": [
    "df.head()"
   ]
  },
  {
   "cell_type": "code",
   "execution_count": 4,
   "id": "b129d0ae",
   "metadata": {},
   "outputs": [
    {
     "name": "stdout",
     "output_type": "stream",
     "text": [
      "<class 'pandas.core.frame.DataFrame'>\n",
      "RangeIndex: 319795 entries, 0 to 319794\n",
      "Data columns (total 18 columns):\n",
      " #   Column            Non-Null Count   Dtype  \n",
      "---  ------            --------------   -----  \n",
      " 0   HeartDisease      319795 non-null  object \n",
      " 1   BMI               319795 non-null  float64\n",
      " 2   Smoking           319795 non-null  object \n",
      " 3   AlcoholDrinking   319795 non-null  object \n",
      " 4   Stroke            319795 non-null  object \n",
      " 5   PhysicalHealth    319795 non-null  float64\n",
      " 6   MentalHealth      319795 non-null  float64\n",
      " 7   DiffWalking       319795 non-null  object \n",
      " 8   Sex               319795 non-null  object \n",
      " 9   AgeCategory       319795 non-null  object \n",
      " 10  Race              319795 non-null  object \n",
      " 11  Diabetic          319795 non-null  object \n",
      " 12  PhysicalActivity  319795 non-null  object \n",
      " 13  GenHealth         319795 non-null  object \n",
      " 14  SleepTime         319795 non-null  float64\n",
      " 15  Asthma            319795 non-null  object \n",
      " 16  KidneyDisease     319795 non-null  object \n",
      " 17  SkinCancer        319795 non-null  object \n",
      "dtypes: float64(4), object(14)\n",
      "memory usage: 43.9+ MB\n"
     ]
    }
   ],
   "source": [
    "df.info()"
   ]
  },
  {
   "cell_type": "code",
   "execution_count": 5,
   "id": "142e8c97",
   "metadata": {},
   "outputs": [
    {
     "data": {
      "text/plain": [
       "18078"
      ]
     },
     "execution_count": 5,
     "metadata": {},
     "output_type": "execute_result"
    }
   ],
   "source": [
    "df.duplicated().sum() "
   ]
  },
  {
   "cell_type": "code",
   "execution_count": 6,
   "id": "aa1c4f01",
   "metadata": {},
   "outputs": [],
   "source": [
    "m=df.drop_duplicates()"
   ]
  },
  {
   "cell_type": "code",
   "execution_count": 7,
   "id": "b3509baa",
   "metadata": {},
   "outputs": [
    {
     "data": {
      "text/plain": [
       "Female    159671\n",
       "Male      142046\n",
       "Name: Sex, dtype: int64"
      ]
     },
     "execution_count": 7,
     "metadata": {},
     "output_type": "execute_result"
    }
   ],
   "source": [
    "m.Sex.value_counts()"
   ]
  },
  {
   "cell_type": "code",
   "execution_count": 8,
   "id": "e5de72de",
   "metadata": {},
   "outputs": [
    {
     "data": {
      "text/plain": [
       "Female    167805\n",
       "Male      151990\n",
       "Name: Sex, dtype: int64"
      ]
     },
     "execution_count": 8,
     "metadata": {},
     "output_type": "execute_result"
    }
   ],
   "source": [
    "df.Sex.value_counts()"
   ]
  },
  {
   "cell_type": "code",
   "execution_count": 9,
   "id": "d34be543",
   "metadata": {},
   "outputs": [
    {
     "data": {
      "text/plain": [
       "(319795, 18)"
      ]
     },
     "execution_count": 9,
     "metadata": {},
     "output_type": "execute_result"
    }
   ],
   "source": [
    "df.shape"
   ]
  },
  {
   "cell_type": "code",
   "execution_count": 10,
   "id": "541b7d35",
   "metadata": {},
   "outputs": [
    {
     "data": {
      "text/plain": [
       "HeartDisease             0\n",
       "BMI                      0\n",
       "Smoking                  0\n",
       "AlcoholDrinking          0\n",
       "Stroke                   0\n",
       "PhysicalHealth      226589\n",
       "MentalHealth        205401\n",
       "DiffWalking              0\n",
       "Sex                      0\n",
       "AgeCategory              0\n",
       "Race                     0\n",
       "Diabetic                 0\n",
       "PhysicalActivity         0\n",
       "GenHealth                0\n",
       "SleepTime                0\n",
       "Asthma                   0\n",
       "KidneyDisease            0\n",
       "SkinCancer               0\n",
       "dtype: int64"
      ]
     },
     "execution_count": 10,
     "metadata": {},
     "output_type": "execute_result"
    }
   ],
   "source": [
    "df[df==0].count()"
   ]
  },
  {
   "cell_type": "code",
   "execution_count": 11,
   "id": "475e3449",
   "metadata": {},
   "outputs": [
    {
     "data": {
      "text/html": [
       "<div>\n",
       "<style scoped>\n",
       "    .dataframe tbody tr th:only-of-type {\n",
       "        vertical-align: middle;\n",
       "    }\n",
       "\n",
       "    .dataframe tbody tr th {\n",
       "        vertical-align: top;\n",
       "    }\n",
       "\n",
       "    .dataframe thead th {\n",
       "        text-align: right;\n",
       "    }\n",
       "</style>\n",
       "<table border=\"1\" class=\"dataframe\">\n",
       "  <thead>\n",
       "    <tr style=\"text-align: right;\">\n",
       "      <th></th>\n",
       "      <th>BMI</th>\n",
       "      <th>PhysicalHealth</th>\n",
       "      <th>MentalHealth</th>\n",
       "      <th>SleepTime</th>\n",
       "    </tr>\n",
       "  </thead>\n",
       "  <tbody>\n",
       "    <tr>\n",
       "      <th>BMI</th>\n",
       "      <td>1.000000</td>\n",
       "      <td>0.109788</td>\n",
       "      <td>0.064131</td>\n",
       "      <td>-0.051822</td>\n",
       "    </tr>\n",
       "    <tr>\n",
       "      <th>PhysicalHealth</th>\n",
       "      <td>0.109788</td>\n",
       "      <td>1.000000</td>\n",
       "      <td>0.287987</td>\n",
       "      <td>-0.061387</td>\n",
       "    </tr>\n",
       "    <tr>\n",
       "      <th>MentalHealth</th>\n",
       "      <td>0.064131</td>\n",
       "      <td>0.287987</td>\n",
       "      <td>1.000000</td>\n",
       "      <td>-0.119717</td>\n",
       "    </tr>\n",
       "    <tr>\n",
       "      <th>SleepTime</th>\n",
       "      <td>-0.051822</td>\n",
       "      <td>-0.061387</td>\n",
       "      <td>-0.119717</td>\n",
       "      <td>1.000000</td>\n",
       "    </tr>\n",
       "  </tbody>\n",
       "</table>\n",
       "</div>"
      ],
      "text/plain": [
       "                     BMI  PhysicalHealth  MentalHealth  SleepTime\n",
       "BMI             1.000000        0.109788      0.064131  -0.051822\n",
       "PhysicalHealth  0.109788        1.000000      0.287987  -0.061387\n",
       "MentalHealth    0.064131        0.287987      1.000000  -0.119717\n",
       "SleepTime      -0.051822       -0.061387     -0.119717   1.000000"
      ]
     },
     "execution_count": 11,
     "metadata": {},
     "output_type": "execute_result"
    }
   ],
   "source": [
    "df.corr()"
   ]
  },
  {
   "cell_type": "code",
   "execution_count": 12,
   "id": "bf90eef2",
   "metadata": {},
   "outputs": [
    {
     "data": {
      "text/plain": [
       "Index(['HeartDisease', 'BMI', 'Smoking', 'AlcoholDrinking', 'Stroke',\n",
       "       'PhysicalHealth', 'MentalHealth', 'DiffWalking', 'Sex', 'AgeCategory',\n",
       "       'Race', 'Diabetic', 'PhysicalActivity', 'GenHealth', 'SleepTime',\n",
       "       'Asthma', 'KidneyDisease', 'SkinCancer'],\n",
       "      dtype='object')"
      ]
     },
     "execution_count": 12,
     "metadata": {},
     "output_type": "execute_result"
    }
   ],
   "source": [
    "df.columns"
   ]
  },
  {
   "cell_type": "code",
   "execution_count": 13,
   "id": "8c379da8",
   "metadata": {},
   "outputs": [
    {
     "data": {
      "text/plain": [
       "array(['No', 'Yes'], dtype=object)"
      ]
     },
     "execution_count": 13,
     "metadata": {},
     "output_type": "execute_result"
    }
   ],
   "source": [
    "df['HeartDisease'].unique()"
   ]
  },
  {
   "cell_type": "code",
   "execution_count": 14,
   "id": "492fe3c6",
   "metadata": {},
   "outputs": [],
   "source": [
    "df['HeartDisease']=np.where(df['HeartDisease']=='Yes',1,0)"
   ]
  },
  {
   "cell_type": "code",
   "execution_count": 15,
   "id": "521d3aad",
   "metadata": {},
   "outputs": [],
   "source": [
    "df['Smoking']=np.where(df['Smoking']=='Yes',1,0)"
   ]
  },
  {
   "cell_type": "code",
   "execution_count": 16,
   "id": "b1b281c5",
   "metadata": {},
   "outputs": [],
   "source": [
    "df['Stroke']=np.where(df['Stroke']=='Yes',1,0)"
   ]
  },
  {
   "cell_type": "code",
   "execution_count": 17,
   "id": "ac7b53a3",
   "metadata": {},
   "outputs": [],
   "source": [
    "df['AlcoholDrinking']=np.where(df['AlcoholDrinking']=='Yes',1,0)"
   ]
  },
  {
   "cell_type": "code",
   "execution_count": 18,
   "id": "299f8d53",
   "metadata": {},
   "outputs": [],
   "source": [
    "df['Diabetic']=np.where(df['Diabetic']=='Yes',1,0)"
   ]
  },
  {
   "cell_type": "code",
   "execution_count": 19,
   "id": "463a20ef",
   "metadata": {},
   "outputs": [],
   "source": [
    "df['PhysicalActivity']=np.where(df['PhysicalActivity']=='Yes',1,0)"
   ]
  },
  {
   "cell_type": "code",
   "execution_count": 20,
   "id": "6a97d530",
   "metadata": {},
   "outputs": [],
   "source": [
    "df['Asthma']=np.where(df['Asthma']=='Yes',1,0)"
   ]
  },
  {
   "cell_type": "code",
   "execution_count": 21,
   "id": "fd2e108a",
   "metadata": {},
   "outputs": [],
   "source": [
    "df['KidneyDisease']=np.where(df['KidneyDisease']=='Yes',1,0)"
   ]
  },
  {
   "cell_type": "code",
   "execution_count": 22,
   "id": "94ee203d",
   "metadata": {},
   "outputs": [],
   "source": [
    "df['SkinCancer']=np.where(df['SkinCancer']=='Yes',1,0)"
   ]
  },
  {
   "cell_type": "code",
   "execution_count": 23,
   "id": "f038cefb",
   "metadata": {},
   "outputs": [],
   "source": [
    "df['DiffWalking']=np.where(df['DiffWalking']=='Yes',1,0)"
   ]
  },
  {
   "cell_type": "code",
   "execution_count": 24,
   "id": "2ea9b9ff",
   "metadata": {},
   "outputs": [],
   "source": [
    "df['Sex']=np.where(df['Sex']=='Male',1,0)"
   ]
  },
  {
   "cell_type": "code",
   "execution_count": 25,
   "id": "62199b61",
   "metadata": {},
   "outputs": [
    {
     "data": {
      "text/plain": [
       "array(['55-59', '80 or older', '65-69', '75-79', '40-44', '70-74',\n",
       "       '60-64', '50-54', '45-49', '18-24', '35-39', '30-34', '25-29'],\n",
       "      dtype=object)"
      ]
     },
     "execution_count": 25,
     "metadata": {},
     "output_type": "execute_result"
    }
   ],
   "source": [
    "df.AgeCategory.unique()"
   ]
  },
  {
   "cell_type": "code",
   "execution_count": 26,
   "id": "be36c616",
   "metadata": {},
   "outputs": [],
   "source": [
    "lable={ '80 or older':13,'75-79':12,'70-74':11, '65-69':10,'60-64':9,'55-59':8, \n",
    "        '50-54':7, '45-49':6,'40-44':5, '35-39':4, '30-34':3, '25-29':2,'18-24':1\n",
    "}\n",
    "df['AgeCategory1']=df['AgeCategory'].map(lable)\n",
    "df.drop(columns=['AgeCategory'],axis=1,inplace=True)"
   ]
  },
  {
   "cell_type": "code",
   "execution_count": 27,
   "id": "40cc5c2e",
   "metadata": {},
   "outputs": [
    {
     "data": {
      "text/plain": [
       "array(['White', 'Black', 'Asian', 'American Indian/Alaskan Native',\n",
       "       'Other', 'Hispanic'], dtype=object)"
      ]
     },
     "execution_count": 27,
     "metadata": {},
     "output_type": "execute_result"
    }
   ],
   "source": [
    "df.Race.unique()"
   ]
  },
  {
   "cell_type": "code",
   "execution_count": 28,
   "id": "c918526d",
   "metadata": {},
   "outputs": [
    {
     "data": {
      "text/plain": [
       "array(['Very good', 'Fair', 'Good', 'Poor', 'Excellent'], dtype=object)"
      ]
     },
     "execution_count": 28,
     "metadata": {},
     "output_type": "execute_result"
    }
   ],
   "source": [
    "df.GenHealth.unique()"
   ]
  },
  {
   "cell_type": "code",
   "execution_count": 29,
   "id": "366d0980",
   "metadata": {},
   "outputs": [],
   "source": [
    "lable={'Excellent':5,'Very good':4, 'Good':3,'Fair':2,'Poor':1}\n",
    "df['GenHealth1']=df['GenHealth'].map(lable)\n",
    "df.drop(columns=['GenHealth'],axis=1,inplace=True)"
   ]
  },
  {
   "cell_type": "code",
   "execution_count": 30,
   "id": "21388f90",
   "metadata": {},
   "outputs": [
    {
     "data": {
      "text/html": [
       "<div>\n",
       "<style scoped>\n",
       "    .dataframe tbody tr th:only-of-type {\n",
       "        vertical-align: middle;\n",
       "    }\n",
       "\n",
       "    .dataframe tbody tr th {\n",
       "        vertical-align: top;\n",
       "    }\n",
       "\n",
       "    .dataframe thead th {\n",
       "        text-align: right;\n",
       "    }\n",
       "</style>\n",
       "<table border=\"1\" class=\"dataframe\">\n",
       "  <thead>\n",
       "    <tr style=\"text-align: right;\">\n",
       "      <th></th>\n",
       "      <th>HeartDisease</th>\n",
       "      <th>BMI</th>\n",
       "      <th>Smoking</th>\n",
       "      <th>AlcoholDrinking</th>\n",
       "      <th>Stroke</th>\n",
       "      <th>PhysicalHealth</th>\n",
       "      <th>MentalHealth</th>\n",
       "      <th>DiffWalking</th>\n",
       "      <th>Sex</th>\n",
       "      <th>Race</th>\n",
       "      <th>Diabetic</th>\n",
       "      <th>PhysicalActivity</th>\n",
       "      <th>SleepTime</th>\n",
       "      <th>Asthma</th>\n",
       "      <th>KidneyDisease</th>\n",
       "      <th>SkinCancer</th>\n",
       "      <th>AgeCategory1</th>\n",
       "      <th>GenHealth1</th>\n",
       "    </tr>\n",
       "  </thead>\n",
       "  <tbody>\n",
       "    <tr>\n",
       "      <th>0</th>\n",
       "      <td>0</td>\n",
       "      <td>16.60</td>\n",
       "      <td>1</td>\n",
       "      <td>0</td>\n",
       "      <td>0</td>\n",
       "      <td>3.0</td>\n",
       "      <td>30.0</td>\n",
       "      <td>0</td>\n",
       "      <td>0</td>\n",
       "      <td>White</td>\n",
       "      <td>1</td>\n",
       "      <td>1</td>\n",
       "      <td>5.0</td>\n",
       "      <td>1</td>\n",
       "      <td>0</td>\n",
       "      <td>1</td>\n",
       "      <td>8</td>\n",
       "      <td>4</td>\n",
       "    </tr>\n",
       "    <tr>\n",
       "      <th>1</th>\n",
       "      <td>0</td>\n",
       "      <td>20.34</td>\n",
       "      <td>0</td>\n",
       "      <td>0</td>\n",
       "      <td>1</td>\n",
       "      <td>0.0</td>\n",
       "      <td>0.0</td>\n",
       "      <td>0</td>\n",
       "      <td>0</td>\n",
       "      <td>White</td>\n",
       "      <td>0</td>\n",
       "      <td>1</td>\n",
       "      <td>7.0</td>\n",
       "      <td>0</td>\n",
       "      <td>0</td>\n",
       "      <td>0</td>\n",
       "      <td>13</td>\n",
       "      <td>4</td>\n",
       "    </tr>\n",
       "    <tr>\n",
       "      <th>2</th>\n",
       "      <td>0</td>\n",
       "      <td>26.58</td>\n",
       "      <td>1</td>\n",
       "      <td>0</td>\n",
       "      <td>0</td>\n",
       "      <td>20.0</td>\n",
       "      <td>30.0</td>\n",
       "      <td>0</td>\n",
       "      <td>1</td>\n",
       "      <td>White</td>\n",
       "      <td>1</td>\n",
       "      <td>1</td>\n",
       "      <td>8.0</td>\n",
       "      <td>1</td>\n",
       "      <td>0</td>\n",
       "      <td>0</td>\n",
       "      <td>10</td>\n",
       "      <td>2</td>\n",
       "    </tr>\n",
       "    <tr>\n",
       "      <th>3</th>\n",
       "      <td>0</td>\n",
       "      <td>24.21</td>\n",
       "      <td>0</td>\n",
       "      <td>0</td>\n",
       "      <td>0</td>\n",
       "      <td>0.0</td>\n",
       "      <td>0.0</td>\n",
       "      <td>0</td>\n",
       "      <td>0</td>\n",
       "      <td>White</td>\n",
       "      <td>0</td>\n",
       "      <td>0</td>\n",
       "      <td>6.0</td>\n",
       "      <td>0</td>\n",
       "      <td>0</td>\n",
       "      <td>1</td>\n",
       "      <td>12</td>\n",
       "      <td>3</td>\n",
       "    </tr>\n",
       "    <tr>\n",
       "      <th>4</th>\n",
       "      <td>0</td>\n",
       "      <td>23.71</td>\n",
       "      <td>0</td>\n",
       "      <td>0</td>\n",
       "      <td>0</td>\n",
       "      <td>28.0</td>\n",
       "      <td>0.0</td>\n",
       "      <td>1</td>\n",
       "      <td>0</td>\n",
       "      <td>White</td>\n",
       "      <td>0</td>\n",
       "      <td>1</td>\n",
       "      <td>8.0</td>\n",
       "      <td>0</td>\n",
       "      <td>0</td>\n",
       "      <td>0</td>\n",
       "      <td>5</td>\n",
       "      <td>4</td>\n",
       "    </tr>\n",
       "  </tbody>\n",
       "</table>\n",
       "</div>"
      ],
      "text/plain": [
       "   HeartDisease    BMI  Smoking  AlcoholDrinking  Stroke  PhysicalHealth  \\\n",
       "0             0  16.60        1                0       0             3.0   \n",
       "1             0  20.34        0                0       1             0.0   \n",
       "2             0  26.58        1                0       0            20.0   \n",
       "3             0  24.21        0                0       0             0.0   \n",
       "4             0  23.71        0                0       0            28.0   \n",
       "\n",
       "   MentalHealth  DiffWalking  Sex   Race  Diabetic  PhysicalActivity  \\\n",
       "0          30.0            0    0  White         1                 1   \n",
       "1           0.0            0    0  White         0                 1   \n",
       "2          30.0            0    1  White         1                 1   \n",
       "3           0.0            0    0  White         0                 0   \n",
       "4           0.0            1    0  White         0                 1   \n",
       "\n",
       "   SleepTime  Asthma  KidneyDisease  SkinCancer  AgeCategory1  GenHealth1  \n",
       "0        5.0       1              0           1             8           4  \n",
       "1        7.0       0              0           0            13           4  \n",
       "2        8.0       1              0           0            10           2  \n",
       "3        6.0       0              0           1            12           3  \n",
       "4        8.0       0              0           0             5           4  "
      ]
     },
     "execution_count": 30,
     "metadata": {},
     "output_type": "execute_result"
    }
   ],
   "source": [
    "df.head()"
   ]
  },
  {
   "cell_type": "code",
   "execution_count": 31,
   "id": "5ae51c3d",
   "metadata": {},
   "outputs": [
    {
     "data": {
      "text/html": [
       "<div>\n",
       "<style scoped>\n",
       "    .dataframe tbody tr th:only-of-type {\n",
       "        vertical-align: middle;\n",
       "    }\n",
       "\n",
       "    .dataframe tbody tr th {\n",
       "        vertical-align: top;\n",
       "    }\n",
       "\n",
       "    .dataframe thead th {\n",
       "        text-align: right;\n",
       "    }\n",
       "</style>\n",
       "<table border=\"1\" class=\"dataframe\">\n",
       "  <thead>\n",
       "    <tr style=\"text-align: right;\">\n",
       "      <th></th>\n",
       "      <th>HeartDisease</th>\n",
       "      <th>BMI</th>\n",
       "      <th>Smoking</th>\n",
       "      <th>AlcoholDrinking</th>\n",
       "      <th>Stroke</th>\n",
       "      <th>PhysicalHealth</th>\n",
       "      <th>MentalHealth</th>\n",
       "      <th>DiffWalking</th>\n",
       "      <th>Sex</th>\n",
       "      <th>Diabetic</th>\n",
       "      <th>PhysicalActivity</th>\n",
       "      <th>SleepTime</th>\n",
       "      <th>Asthma</th>\n",
       "      <th>KidneyDisease</th>\n",
       "      <th>SkinCancer</th>\n",
       "      <th>AgeCategory1</th>\n",
       "      <th>GenHealth1</th>\n",
       "    </tr>\n",
       "  </thead>\n",
       "  <tbody>\n",
       "    <tr>\n",
       "      <th>HeartDisease</th>\n",
       "      <td>1.000000</td>\n",
       "      <td>0.051803</td>\n",
       "      <td>0.107764</td>\n",
       "      <td>-0.032080</td>\n",
       "      <td>0.196835</td>\n",
       "      <td>0.170721</td>\n",
       "      <td>0.028591</td>\n",
       "      <td>0.201258</td>\n",
       "      <td>0.070040</td>\n",
       "      <td>0.183072</td>\n",
       "      <td>-0.100030</td>\n",
       "      <td>0.008327</td>\n",
       "      <td>0.041444</td>\n",
       "      <td>0.145197</td>\n",
       "      <td>0.093317</td>\n",
       "      <td>0.233432</td>\n",
       "      <td>-0.243182</td>\n",
       "    </tr>\n",
       "    <tr>\n",
       "      <th>BMI</th>\n",
       "      <td>0.051803</td>\n",
       "      <td>1.000000</td>\n",
       "      <td>0.023118</td>\n",
       "      <td>-0.038816</td>\n",
       "      <td>0.019733</td>\n",
       "      <td>0.109788</td>\n",
       "      <td>0.064131</td>\n",
       "      <td>0.181678</td>\n",
       "      <td>0.026940</td>\n",
       "      <td>0.203494</td>\n",
       "      <td>-0.150616</td>\n",
       "      <td>-0.051822</td>\n",
       "      <td>0.092345</td>\n",
       "      <td>0.050768</td>\n",
       "      <td>-0.033644</td>\n",
       "      <td>-0.004744</td>\n",
       "      <td>-0.230720</td>\n",
       "    </tr>\n",
       "    <tr>\n",
       "      <th>Smoking</th>\n",
       "      <td>0.107764</td>\n",
       "      <td>0.023118</td>\n",
       "      <td>1.000000</td>\n",
       "      <td>0.111768</td>\n",
       "      <td>0.061226</td>\n",
       "      <td>0.115352</td>\n",
       "      <td>0.085157</td>\n",
       "      <td>0.120074</td>\n",
       "      <td>0.085052</td>\n",
       "      <td>0.058434</td>\n",
       "      <td>-0.097174</td>\n",
       "      <td>-0.030336</td>\n",
       "      <td>0.024149</td>\n",
       "      <td>0.034920</td>\n",
       "      <td>0.033977</td>\n",
       "      <td>0.128331</td>\n",
       "      <td>-0.174717</td>\n",
       "    </tr>\n",
       "    <tr>\n",
       "      <th>AlcoholDrinking</th>\n",
       "      <td>-0.032080</td>\n",
       "      <td>-0.038816</td>\n",
       "      <td>0.111768</td>\n",
       "      <td>1.000000</td>\n",
       "      <td>-0.019858</td>\n",
       "      <td>-0.017254</td>\n",
       "      <td>0.051282</td>\n",
       "      <td>-0.035328</td>\n",
       "      <td>0.004200</td>\n",
       "      <td>-0.058208</td>\n",
       "      <td>0.017487</td>\n",
       "      <td>-0.005065</td>\n",
       "      <td>-0.002202</td>\n",
       "      <td>-0.028280</td>\n",
       "      <td>-0.005702</td>\n",
       "      <td>-0.059528</td>\n",
       "      <td>0.029780</td>\n",
       "    </tr>\n",
       "    <tr>\n",
       "      <th>Stroke</th>\n",
       "      <td>0.196835</td>\n",
       "      <td>0.019733</td>\n",
       "      <td>0.061226</td>\n",
       "      <td>-0.019858</td>\n",
       "      <td>1.000000</td>\n",
       "      <td>0.137014</td>\n",
       "      <td>0.046467</td>\n",
       "      <td>0.174143</td>\n",
       "      <td>-0.003091</td>\n",
       "      <td>0.108407</td>\n",
       "      <td>-0.079455</td>\n",
       "      <td>0.011900</td>\n",
       "      <td>0.038866</td>\n",
       "      <td>0.091167</td>\n",
       "      <td>0.048116</td>\n",
       "      <td>0.137822</td>\n",
       "      <td>-0.168090</td>\n",
       "    </tr>\n",
       "    <tr>\n",
       "      <th>PhysicalHealth</th>\n",
       "      <td>0.170721</td>\n",
       "      <td>0.109788</td>\n",
       "      <td>0.115352</td>\n",
       "      <td>-0.017254</td>\n",
       "      <td>0.137014</td>\n",
       "      <td>1.000000</td>\n",
       "      <td>0.287987</td>\n",
       "      <td>0.428373</td>\n",
       "      <td>-0.040904</td>\n",
       "      <td>0.158207</td>\n",
       "      <td>-0.232283</td>\n",
       "      <td>-0.061387</td>\n",
       "      <td>0.117907</td>\n",
       "      <td>0.142197</td>\n",
       "      <td>0.041700</td>\n",
       "      <td>0.110763</td>\n",
       "      <td>-0.482697</td>\n",
       "    </tr>\n",
       "    <tr>\n",
       "      <th>MentalHealth</th>\n",
       "      <td>0.028591</td>\n",
       "      <td>0.064131</td>\n",
       "      <td>0.085157</td>\n",
       "      <td>0.051282</td>\n",
       "      <td>0.046467</td>\n",
       "      <td>0.287987</td>\n",
       "      <td>1.000000</td>\n",
       "      <td>0.152235</td>\n",
       "      <td>-0.100058</td>\n",
       "      <td>0.025480</td>\n",
       "      <td>-0.095808</td>\n",
       "      <td>-0.119717</td>\n",
       "      <td>0.114008</td>\n",
       "      <td>0.037281</td>\n",
       "      <td>-0.033412</td>\n",
       "      <td>-0.155506</td>\n",
       "      <td>-0.241625</td>\n",
       "    </tr>\n",
       "    <tr>\n",
       "      <th>DiffWalking</th>\n",
       "      <td>0.201258</td>\n",
       "      <td>0.181678</td>\n",
       "      <td>0.120074</td>\n",
       "      <td>-0.035328</td>\n",
       "      <td>0.174143</td>\n",
       "      <td>0.428373</td>\n",
       "      <td>0.152235</td>\n",
       "      <td>1.000000</td>\n",
       "      <td>-0.068860</td>\n",
       "      <td>0.216605</td>\n",
       "      <td>-0.278524</td>\n",
       "      <td>-0.022216</td>\n",
       "      <td>0.103222</td>\n",
       "      <td>0.153064</td>\n",
       "      <td>0.064840</td>\n",
       "      <td>0.243263</td>\n",
       "      <td>-0.413797</td>\n",
       "    </tr>\n",
       "    <tr>\n",
       "      <th>Sex</th>\n",
       "      <td>0.070040</td>\n",
       "      <td>0.026940</td>\n",
       "      <td>0.085052</td>\n",
       "      <td>0.004200</td>\n",
       "      <td>-0.003091</td>\n",
       "      <td>-0.040904</td>\n",
       "      <td>-0.100058</td>\n",
       "      <td>-0.068860</td>\n",
       "      <td>1.000000</td>\n",
       "      <td>0.020718</td>\n",
       "      <td>0.048247</td>\n",
       "      <td>-0.015704</td>\n",
       "      <td>-0.069191</td>\n",
       "      <td>-0.009084</td>\n",
       "      <td>0.013434</td>\n",
       "      <td>-0.067478</td>\n",
       "      <td>0.025947</td>\n",
       "    </tr>\n",
       "    <tr>\n",
       "      <th>Diabetic</th>\n",
       "      <td>0.183072</td>\n",
       "      <td>0.203494</td>\n",
       "      <td>0.058434</td>\n",
       "      <td>-0.058208</td>\n",
       "      <td>0.108407</td>\n",
       "      <td>0.158207</td>\n",
       "      <td>0.025480</td>\n",
       "      <td>0.216605</td>\n",
       "      <td>0.020718</td>\n",
       "      <td>1.000000</td>\n",
       "      <td>-0.140571</td>\n",
       "      <td>0.006658</td>\n",
       "      <td>0.044565</td>\n",
       "      <td>0.154268</td>\n",
       "      <td>0.037663</td>\n",
       "      <td>0.211174</td>\n",
       "      <td>-0.276990</td>\n",
       "    </tr>\n",
       "    <tr>\n",
       "      <th>PhysicalActivity</th>\n",
       "      <td>-0.100030</td>\n",
       "      <td>-0.150616</td>\n",
       "      <td>-0.097174</td>\n",
       "      <td>0.017487</td>\n",
       "      <td>-0.079455</td>\n",
       "      <td>-0.232283</td>\n",
       "      <td>-0.095808</td>\n",
       "      <td>-0.278524</td>\n",
       "      <td>0.048247</td>\n",
       "      <td>-0.140571</td>\n",
       "      <td>1.000000</td>\n",
       "      <td>0.003849</td>\n",
       "      <td>-0.041526</td>\n",
       "      <td>-0.081827</td>\n",
       "      <td>-0.001328</td>\n",
       "      <td>-0.121687</td>\n",
       "      <td>0.281249</td>\n",
       "    </tr>\n",
       "    <tr>\n",
       "      <th>SleepTime</th>\n",
       "      <td>0.008327</td>\n",
       "      <td>-0.051822</td>\n",
       "      <td>-0.030336</td>\n",
       "      <td>-0.005065</td>\n",
       "      <td>0.011900</td>\n",
       "      <td>-0.061387</td>\n",
       "      <td>-0.119717</td>\n",
       "      <td>-0.022216</td>\n",
       "      <td>-0.015704</td>\n",
       "      <td>0.006658</td>\n",
       "      <td>0.003849</td>\n",
       "      <td>1.000000</td>\n",
       "      <td>-0.048245</td>\n",
       "      <td>0.006238</td>\n",
       "      <td>0.041266</td>\n",
       "      <td>0.104953</td>\n",
       "      <td>0.063071</td>\n",
       "    </tr>\n",
       "    <tr>\n",
       "      <th>Asthma</th>\n",
       "      <td>0.041444</td>\n",
       "      <td>0.092345</td>\n",
       "      <td>0.024149</td>\n",
       "      <td>-0.002202</td>\n",
       "      <td>0.038866</td>\n",
       "      <td>0.117907</td>\n",
       "      <td>0.114008</td>\n",
       "      <td>0.103222</td>\n",
       "      <td>-0.069191</td>\n",
       "      <td>0.044565</td>\n",
       "      <td>-0.041526</td>\n",
       "      <td>-0.048245</td>\n",
       "      <td>1.000000</td>\n",
       "      <td>0.039707</td>\n",
       "      <td>-0.000396</td>\n",
       "      <td>-0.058108</td>\n",
       "      <td>-0.137342</td>\n",
       "    </tr>\n",
       "    <tr>\n",
       "      <th>KidneyDisease</th>\n",
       "      <td>0.145197</td>\n",
       "      <td>0.050768</td>\n",
       "      <td>0.034920</td>\n",
       "      <td>-0.028280</td>\n",
       "      <td>0.091167</td>\n",
       "      <td>0.142197</td>\n",
       "      <td>0.037281</td>\n",
       "      <td>0.153064</td>\n",
       "      <td>-0.009084</td>\n",
       "      <td>0.154268</td>\n",
       "      <td>-0.081827</td>\n",
       "      <td>0.006238</td>\n",
       "      <td>0.039707</td>\n",
       "      <td>1.000000</td>\n",
       "      <td>0.061816</td>\n",
       "      <td>0.123190</td>\n",
       "      <td>-0.174642</td>\n",
       "    </tr>\n",
       "    <tr>\n",
       "      <th>SkinCancer</th>\n",
       "      <td>0.093317</td>\n",
       "      <td>-0.033644</td>\n",
       "      <td>0.033977</td>\n",
       "      <td>-0.005702</td>\n",
       "      <td>0.048116</td>\n",
       "      <td>0.041700</td>\n",
       "      <td>-0.033412</td>\n",
       "      <td>0.064840</td>\n",
       "      <td>0.013434</td>\n",
       "      <td>0.037663</td>\n",
       "      <td>-0.001328</td>\n",
       "      <td>0.041266</td>\n",
       "      <td>-0.000396</td>\n",
       "      <td>0.061816</td>\n",
       "      <td>1.000000</td>\n",
       "      <td>0.263537</td>\n",
       "      <td>-0.050641</td>\n",
       "    </tr>\n",
       "    <tr>\n",
       "      <th>AgeCategory1</th>\n",
       "      <td>0.233432</td>\n",
       "      <td>-0.004744</td>\n",
       "      <td>0.128331</td>\n",
       "      <td>-0.059528</td>\n",
       "      <td>0.137822</td>\n",
       "      <td>0.110763</td>\n",
       "      <td>-0.155506</td>\n",
       "      <td>0.243263</td>\n",
       "      <td>-0.067478</td>\n",
       "      <td>0.211174</td>\n",
       "      <td>-0.121687</td>\n",
       "      <td>0.104953</td>\n",
       "      <td>-0.058108</td>\n",
       "      <td>0.123190</td>\n",
       "      <td>0.263537</td>\n",
       "      <td>1.000000</td>\n",
       "      <td>-0.188381</td>\n",
       "    </tr>\n",
       "    <tr>\n",
       "      <th>GenHealth1</th>\n",
       "      <td>-0.243182</td>\n",
       "      <td>-0.230720</td>\n",
       "      <td>-0.174717</td>\n",
       "      <td>0.029780</td>\n",
       "      <td>-0.168090</td>\n",
       "      <td>-0.482697</td>\n",
       "      <td>-0.241625</td>\n",
       "      <td>-0.413797</td>\n",
       "      <td>0.025947</td>\n",
       "      <td>-0.276990</td>\n",
       "      <td>0.281249</td>\n",
       "      <td>0.063071</td>\n",
       "      <td>-0.137342</td>\n",
       "      <td>-0.174642</td>\n",
       "      <td>-0.050641</td>\n",
       "      <td>-0.188381</td>\n",
       "      <td>1.000000</td>\n",
       "    </tr>\n",
       "  </tbody>\n",
       "</table>\n",
       "</div>"
      ],
      "text/plain": [
       "                  HeartDisease       BMI   Smoking  AlcoholDrinking    Stroke  \\\n",
       "HeartDisease          1.000000  0.051803  0.107764        -0.032080  0.196835   \n",
       "BMI                   0.051803  1.000000  0.023118        -0.038816  0.019733   \n",
       "Smoking               0.107764  0.023118  1.000000         0.111768  0.061226   \n",
       "AlcoholDrinking      -0.032080 -0.038816  0.111768         1.000000 -0.019858   \n",
       "Stroke                0.196835  0.019733  0.061226        -0.019858  1.000000   \n",
       "PhysicalHealth        0.170721  0.109788  0.115352        -0.017254  0.137014   \n",
       "MentalHealth          0.028591  0.064131  0.085157         0.051282  0.046467   \n",
       "DiffWalking           0.201258  0.181678  0.120074        -0.035328  0.174143   \n",
       "Sex                   0.070040  0.026940  0.085052         0.004200 -0.003091   \n",
       "Diabetic              0.183072  0.203494  0.058434        -0.058208  0.108407   \n",
       "PhysicalActivity     -0.100030 -0.150616 -0.097174         0.017487 -0.079455   \n",
       "SleepTime             0.008327 -0.051822 -0.030336        -0.005065  0.011900   \n",
       "Asthma                0.041444  0.092345  0.024149        -0.002202  0.038866   \n",
       "KidneyDisease         0.145197  0.050768  0.034920        -0.028280  0.091167   \n",
       "SkinCancer            0.093317 -0.033644  0.033977        -0.005702  0.048116   \n",
       "AgeCategory1          0.233432 -0.004744  0.128331        -0.059528  0.137822   \n",
       "GenHealth1           -0.243182 -0.230720 -0.174717         0.029780 -0.168090   \n",
       "\n",
       "                  PhysicalHealth  MentalHealth  DiffWalking       Sex  \\\n",
       "HeartDisease            0.170721      0.028591     0.201258  0.070040   \n",
       "BMI                     0.109788      0.064131     0.181678  0.026940   \n",
       "Smoking                 0.115352      0.085157     0.120074  0.085052   \n",
       "AlcoholDrinking        -0.017254      0.051282    -0.035328  0.004200   \n",
       "Stroke                  0.137014      0.046467     0.174143 -0.003091   \n",
       "PhysicalHealth          1.000000      0.287987     0.428373 -0.040904   \n",
       "MentalHealth            0.287987      1.000000     0.152235 -0.100058   \n",
       "DiffWalking             0.428373      0.152235     1.000000 -0.068860   \n",
       "Sex                    -0.040904     -0.100058    -0.068860  1.000000   \n",
       "Diabetic                0.158207      0.025480     0.216605  0.020718   \n",
       "PhysicalActivity       -0.232283     -0.095808    -0.278524  0.048247   \n",
       "SleepTime              -0.061387     -0.119717    -0.022216 -0.015704   \n",
       "Asthma                  0.117907      0.114008     0.103222 -0.069191   \n",
       "KidneyDisease           0.142197      0.037281     0.153064 -0.009084   \n",
       "SkinCancer              0.041700     -0.033412     0.064840  0.013434   \n",
       "AgeCategory1            0.110763     -0.155506     0.243263 -0.067478   \n",
       "GenHealth1             -0.482697     -0.241625    -0.413797  0.025947   \n",
       "\n",
       "                  Diabetic  PhysicalActivity  SleepTime    Asthma  \\\n",
       "HeartDisease      0.183072         -0.100030   0.008327  0.041444   \n",
       "BMI               0.203494         -0.150616  -0.051822  0.092345   \n",
       "Smoking           0.058434         -0.097174  -0.030336  0.024149   \n",
       "AlcoholDrinking  -0.058208          0.017487  -0.005065 -0.002202   \n",
       "Stroke            0.108407         -0.079455   0.011900  0.038866   \n",
       "PhysicalHealth    0.158207         -0.232283  -0.061387  0.117907   \n",
       "MentalHealth      0.025480         -0.095808  -0.119717  0.114008   \n",
       "DiffWalking       0.216605         -0.278524  -0.022216  0.103222   \n",
       "Sex               0.020718          0.048247  -0.015704 -0.069191   \n",
       "Diabetic          1.000000         -0.140571   0.006658  0.044565   \n",
       "PhysicalActivity -0.140571          1.000000   0.003849 -0.041526   \n",
       "SleepTime         0.006658          0.003849   1.000000 -0.048245   \n",
       "Asthma            0.044565         -0.041526  -0.048245  1.000000   \n",
       "KidneyDisease     0.154268         -0.081827   0.006238  0.039707   \n",
       "SkinCancer        0.037663         -0.001328   0.041266 -0.000396   \n",
       "AgeCategory1      0.211174         -0.121687   0.104953 -0.058108   \n",
       "GenHealth1       -0.276990          0.281249   0.063071 -0.137342   \n",
       "\n",
       "                  KidneyDisease  SkinCancer  AgeCategory1  GenHealth1  \n",
       "HeartDisease           0.145197    0.093317      0.233432   -0.243182  \n",
       "BMI                    0.050768   -0.033644     -0.004744   -0.230720  \n",
       "Smoking                0.034920    0.033977      0.128331   -0.174717  \n",
       "AlcoholDrinking       -0.028280   -0.005702     -0.059528    0.029780  \n",
       "Stroke                 0.091167    0.048116      0.137822   -0.168090  \n",
       "PhysicalHealth         0.142197    0.041700      0.110763   -0.482697  \n",
       "MentalHealth           0.037281   -0.033412     -0.155506   -0.241625  \n",
       "DiffWalking            0.153064    0.064840      0.243263   -0.413797  \n",
       "Sex                   -0.009084    0.013434     -0.067478    0.025947  \n",
       "Diabetic               0.154268    0.037663      0.211174   -0.276990  \n",
       "PhysicalActivity      -0.081827   -0.001328     -0.121687    0.281249  \n",
       "SleepTime              0.006238    0.041266      0.104953    0.063071  \n",
       "Asthma                 0.039707   -0.000396     -0.058108   -0.137342  \n",
       "KidneyDisease          1.000000    0.061816      0.123190   -0.174642  \n",
       "SkinCancer             0.061816    1.000000      0.263537   -0.050641  \n",
       "AgeCategory1           0.123190    0.263537      1.000000   -0.188381  \n",
       "GenHealth1            -0.174642   -0.050641     -0.188381    1.000000  "
      ]
     },
     "execution_count": 31,
     "metadata": {},
     "output_type": "execute_result"
    }
   ],
   "source": [
    "df.corr()"
   ]
  },
  {
   "cell_type": "code",
   "execution_count": 32,
   "id": "b74d1627",
   "metadata": {},
   "outputs": [
    {
     "data": {
      "text/plain": [
       "White                             245212\n",
       "Hispanic                           27446\n",
       "Black                              22939\n",
       "Other                              10928\n",
       "Asian                               8068\n",
       "American Indian/Alaskan Native      5202\n",
       "Name: Race, dtype: int64"
      ]
     },
     "execution_count": 32,
     "metadata": {},
     "output_type": "execute_result"
    }
   ],
   "source": [
    "df.Race.value_counts()"
   ]
  },
  {
   "cell_type": "code",
   "execution_count": 33,
   "id": "2d41607a",
   "metadata": {},
   "outputs": [
    {
     "data": {
      "text/html": [
       "<div>\n",
       "<style scoped>\n",
       "    .dataframe tbody tr th:only-of-type {\n",
       "        vertical-align: middle;\n",
       "    }\n",
       "\n",
       "    .dataframe tbody tr th {\n",
       "        vertical-align: top;\n",
       "    }\n",
       "\n",
       "    .dataframe thead th {\n",
       "        text-align: right;\n",
       "    }\n",
       "</style>\n",
       "<table border=\"1\" class=\"dataframe\">\n",
       "  <thead>\n",
       "    <tr style=\"text-align: right;\">\n",
       "      <th></th>\n",
       "      <th>HeartDisease</th>\n",
       "      <th>BMI</th>\n",
       "      <th>Smoking</th>\n",
       "      <th>AlcoholDrinking</th>\n",
       "      <th>Stroke</th>\n",
       "      <th>PhysicalHealth</th>\n",
       "      <th>MentalHealth</th>\n",
       "      <th>DiffWalking</th>\n",
       "      <th>Sex</th>\n",
       "      <th>Diabetic</th>\n",
       "      <th>PhysicalActivity</th>\n",
       "      <th>SleepTime</th>\n",
       "      <th>Asthma</th>\n",
       "      <th>KidneyDisease</th>\n",
       "      <th>SkinCancer</th>\n",
       "      <th>AgeCategory1</th>\n",
       "      <th>GenHealth1</th>\n",
       "    </tr>\n",
       "  </thead>\n",
       "  <tbody>\n",
       "    <tr>\n",
       "      <th>count</th>\n",
       "      <td>319795.000000</td>\n",
       "      <td>319795.000000</td>\n",
       "      <td>319795.000000</td>\n",
       "      <td>319795.000000</td>\n",
       "      <td>319795.000000</td>\n",
       "      <td>319795.00000</td>\n",
       "      <td>319795.000000</td>\n",
       "      <td>319795.000000</td>\n",
       "      <td>319795.000000</td>\n",
       "      <td>319795.000000</td>\n",
       "      <td>319795.000000</td>\n",
       "      <td>319795.000000</td>\n",
       "      <td>319795.000000</td>\n",
       "      <td>319795.000000</td>\n",
       "      <td>319795.000000</td>\n",
       "      <td>319795.000000</td>\n",
       "      <td>319795.000000</td>\n",
       "    </tr>\n",
       "    <tr>\n",
       "      <th>mean</th>\n",
       "      <td>0.085595</td>\n",
       "      <td>28.325399</td>\n",
       "      <td>0.412477</td>\n",
       "      <td>0.068097</td>\n",
       "      <td>0.037740</td>\n",
       "      <td>3.37171</td>\n",
       "      <td>3.898366</td>\n",
       "      <td>0.138870</td>\n",
       "      <td>0.475273</td>\n",
       "      <td>0.127588</td>\n",
       "      <td>0.775362</td>\n",
       "      <td>7.097075</td>\n",
       "      <td>0.134061</td>\n",
       "      <td>0.036833</td>\n",
       "      <td>0.093244</td>\n",
       "      <td>7.514536</td>\n",
       "      <td>3.595028</td>\n",
       "    </tr>\n",
       "    <tr>\n",
       "      <th>std</th>\n",
       "      <td>0.279766</td>\n",
       "      <td>6.356100</td>\n",
       "      <td>0.492281</td>\n",
       "      <td>0.251912</td>\n",
       "      <td>0.190567</td>\n",
       "      <td>7.95085</td>\n",
       "      <td>7.955235</td>\n",
       "      <td>0.345812</td>\n",
       "      <td>0.499389</td>\n",
       "      <td>0.333631</td>\n",
       "      <td>0.417344</td>\n",
       "      <td>1.436007</td>\n",
       "      <td>0.340718</td>\n",
       "      <td>0.188352</td>\n",
       "      <td>0.290775</td>\n",
       "      <td>3.564759</td>\n",
       "      <td>1.042918</td>\n",
       "    </tr>\n",
       "    <tr>\n",
       "      <th>min</th>\n",
       "      <td>0.000000</td>\n",
       "      <td>12.020000</td>\n",
       "      <td>0.000000</td>\n",
       "      <td>0.000000</td>\n",
       "      <td>0.000000</td>\n",
       "      <td>0.00000</td>\n",
       "      <td>0.000000</td>\n",
       "      <td>0.000000</td>\n",
       "      <td>0.000000</td>\n",
       "      <td>0.000000</td>\n",
       "      <td>0.000000</td>\n",
       "      <td>1.000000</td>\n",
       "      <td>0.000000</td>\n",
       "      <td>0.000000</td>\n",
       "      <td>0.000000</td>\n",
       "      <td>1.000000</td>\n",
       "      <td>1.000000</td>\n",
       "    </tr>\n",
       "    <tr>\n",
       "      <th>25%</th>\n",
       "      <td>0.000000</td>\n",
       "      <td>24.030000</td>\n",
       "      <td>0.000000</td>\n",
       "      <td>0.000000</td>\n",
       "      <td>0.000000</td>\n",
       "      <td>0.00000</td>\n",
       "      <td>0.000000</td>\n",
       "      <td>0.000000</td>\n",
       "      <td>0.000000</td>\n",
       "      <td>0.000000</td>\n",
       "      <td>1.000000</td>\n",
       "      <td>6.000000</td>\n",
       "      <td>0.000000</td>\n",
       "      <td>0.000000</td>\n",
       "      <td>0.000000</td>\n",
       "      <td>5.000000</td>\n",
       "      <td>3.000000</td>\n",
       "    </tr>\n",
       "    <tr>\n",
       "      <th>50%</th>\n",
       "      <td>0.000000</td>\n",
       "      <td>27.340000</td>\n",
       "      <td>0.000000</td>\n",
       "      <td>0.000000</td>\n",
       "      <td>0.000000</td>\n",
       "      <td>0.00000</td>\n",
       "      <td>0.000000</td>\n",
       "      <td>0.000000</td>\n",
       "      <td>0.000000</td>\n",
       "      <td>0.000000</td>\n",
       "      <td>1.000000</td>\n",
       "      <td>7.000000</td>\n",
       "      <td>0.000000</td>\n",
       "      <td>0.000000</td>\n",
       "      <td>0.000000</td>\n",
       "      <td>8.000000</td>\n",
       "      <td>4.000000</td>\n",
       "    </tr>\n",
       "    <tr>\n",
       "      <th>75%</th>\n",
       "      <td>0.000000</td>\n",
       "      <td>31.420000</td>\n",
       "      <td>1.000000</td>\n",
       "      <td>0.000000</td>\n",
       "      <td>0.000000</td>\n",
       "      <td>2.00000</td>\n",
       "      <td>3.000000</td>\n",
       "      <td>0.000000</td>\n",
       "      <td>1.000000</td>\n",
       "      <td>0.000000</td>\n",
       "      <td>1.000000</td>\n",
       "      <td>8.000000</td>\n",
       "      <td>0.000000</td>\n",
       "      <td>0.000000</td>\n",
       "      <td>0.000000</td>\n",
       "      <td>10.000000</td>\n",
       "      <td>4.000000</td>\n",
       "    </tr>\n",
       "    <tr>\n",
       "      <th>max</th>\n",
       "      <td>1.000000</td>\n",
       "      <td>94.850000</td>\n",
       "      <td>1.000000</td>\n",
       "      <td>1.000000</td>\n",
       "      <td>1.000000</td>\n",
       "      <td>30.00000</td>\n",
       "      <td>30.000000</td>\n",
       "      <td>1.000000</td>\n",
       "      <td>1.000000</td>\n",
       "      <td>1.000000</td>\n",
       "      <td>1.000000</td>\n",
       "      <td>24.000000</td>\n",
       "      <td>1.000000</td>\n",
       "      <td>1.000000</td>\n",
       "      <td>1.000000</td>\n",
       "      <td>13.000000</td>\n",
       "      <td>5.000000</td>\n",
       "    </tr>\n",
       "  </tbody>\n",
       "</table>\n",
       "</div>"
      ],
      "text/plain": [
       "        HeartDisease            BMI        Smoking  AlcoholDrinking  \\\n",
       "count  319795.000000  319795.000000  319795.000000    319795.000000   \n",
       "mean        0.085595      28.325399       0.412477         0.068097   \n",
       "std         0.279766       6.356100       0.492281         0.251912   \n",
       "min         0.000000      12.020000       0.000000         0.000000   \n",
       "25%         0.000000      24.030000       0.000000         0.000000   \n",
       "50%         0.000000      27.340000       0.000000         0.000000   \n",
       "75%         0.000000      31.420000       1.000000         0.000000   \n",
       "max         1.000000      94.850000       1.000000         1.000000   \n",
       "\n",
       "              Stroke  PhysicalHealth   MentalHealth    DiffWalking  \\\n",
       "count  319795.000000    319795.00000  319795.000000  319795.000000   \n",
       "mean        0.037740         3.37171       3.898366       0.138870   \n",
       "std         0.190567         7.95085       7.955235       0.345812   \n",
       "min         0.000000         0.00000       0.000000       0.000000   \n",
       "25%         0.000000         0.00000       0.000000       0.000000   \n",
       "50%         0.000000         0.00000       0.000000       0.000000   \n",
       "75%         0.000000         2.00000       3.000000       0.000000   \n",
       "max         1.000000        30.00000      30.000000       1.000000   \n",
       "\n",
       "                 Sex       Diabetic  PhysicalActivity      SleepTime  \\\n",
       "count  319795.000000  319795.000000     319795.000000  319795.000000   \n",
       "mean        0.475273       0.127588          0.775362       7.097075   \n",
       "std         0.499389       0.333631          0.417344       1.436007   \n",
       "min         0.000000       0.000000          0.000000       1.000000   \n",
       "25%         0.000000       0.000000          1.000000       6.000000   \n",
       "50%         0.000000       0.000000          1.000000       7.000000   \n",
       "75%         1.000000       0.000000          1.000000       8.000000   \n",
       "max         1.000000       1.000000          1.000000      24.000000   \n",
       "\n",
       "              Asthma  KidneyDisease     SkinCancer   AgeCategory1  \\\n",
       "count  319795.000000  319795.000000  319795.000000  319795.000000   \n",
       "mean        0.134061       0.036833       0.093244       7.514536   \n",
       "std         0.340718       0.188352       0.290775       3.564759   \n",
       "min         0.000000       0.000000       0.000000       1.000000   \n",
       "25%         0.000000       0.000000       0.000000       5.000000   \n",
       "50%         0.000000       0.000000       0.000000       8.000000   \n",
       "75%         0.000000       0.000000       0.000000      10.000000   \n",
       "max         1.000000       1.000000       1.000000      13.000000   \n",
       "\n",
       "          GenHealth1  \n",
       "count  319795.000000  \n",
       "mean        3.595028  \n",
       "std         1.042918  \n",
       "min         1.000000  \n",
       "25%         3.000000  \n",
       "50%         4.000000  \n",
       "75%         4.000000  \n",
       "max         5.000000  "
      ]
     },
     "execution_count": 33,
     "metadata": {},
     "output_type": "execute_result"
    }
   ],
   "source": [
    "df.describe()"
   ]
  },
  {
   "cell_type": "code",
   "execution_count": 34,
   "id": "41fe3057",
   "metadata": {},
   "outputs": [
    {
     "data": {
      "text/html": [
       "<div>\n",
       "<style scoped>\n",
       "    .dataframe tbody tr th:only-of-type {\n",
       "        vertical-align: middle;\n",
       "    }\n",
       "\n",
       "    .dataframe tbody tr th {\n",
       "        vertical-align: top;\n",
       "    }\n",
       "\n",
       "    .dataframe thead th {\n",
       "        text-align: right;\n",
       "    }\n",
       "</style>\n",
       "<table border=\"1\" class=\"dataframe\">\n",
       "  <thead>\n",
       "    <tr style=\"text-align: right;\">\n",
       "      <th></th>\n",
       "      <th>HeartDisease</th>\n",
       "      <th>BMI</th>\n",
       "      <th>Smoking</th>\n",
       "      <th>AlcoholDrinking</th>\n",
       "      <th>Stroke</th>\n",
       "      <th>PhysicalHealth</th>\n",
       "      <th>MentalHealth</th>\n",
       "      <th>DiffWalking</th>\n",
       "      <th>Sex</th>\n",
       "      <th>Race</th>\n",
       "      <th>Diabetic</th>\n",
       "      <th>PhysicalActivity</th>\n",
       "      <th>SleepTime</th>\n",
       "      <th>Asthma</th>\n",
       "      <th>KidneyDisease</th>\n",
       "      <th>SkinCancer</th>\n",
       "      <th>AgeCategory1</th>\n",
       "      <th>GenHealth1</th>\n",
       "    </tr>\n",
       "  </thead>\n",
       "  <tbody>\n",
       "    <tr>\n",
       "      <th>10</th>\n",
       "      <td>1</td>\n",
       "      <td>34.30</td>\n",
       "      <td>1</td>\n",
       "      <td>0</td>\n",
       "      <td>0</td>\n",
       "      <td>30.0</td>\n",
       "      <td>0.0</td>\n",
       "      <td>1</td>\n",
       "      <td>1</td>\n",
       "      <td>White</td>\n",
       "      <td>1</td>\n",
       "      <td>0</td>\n",
       "      <td>15.0</td>\n",
       "      <td>1</td>\n",
       "      <td>0</td>\n",
       "      <td>0</td>\n",
       "      <td>9</td>\n",
       "      <td>1</td>\n",
       "    </tr>\n",
       "    <tr>\n",
       "      <th>5519</th>\n",
       "      <td>1</td>\n",
       "      <td>25.00</td>\n",
       "      <td>1</td>\n",
       "      <td>1</td>\n",
       "      <td>0</td>\n",
       "      <td>0.0</td>\n",
       "      <td>0.0</td>\n",
       "      <td>0</td>\n",
       "      <td>0</td>\n",
       "      <td>White</td>\n",
       "      <td>0</td>\n",
       "      <td>1</td>\n",
       "      <td>20.0</td>\n",
       "      <td>0</td>\n",
       "      <td>1</td>\n",
       "      <td>0</td>\n",
       "      <td>13</td>\n",
       "      <td>3</td>\n",
       "    </tr>\n",
       "    <tr>\n",
       "      <th>5680</th>\n",
       "      <td>1</td>\n",
       "      <td>24.41</td>\n",
       "      <td>1</td>\n",
       "      <td>0</td>\n",
       "      <td>0</td>\n",
       "      <td>5.0</td>\n",
       "      <td>0.0</td>\n",
       "      <td>0</td>\n",
       "      <td>1</td>\n",
       "      <td>White</td>\n",
       "      <td>0</td>\n",
       "      <td>1</td>\n",
       "      <td>15.0</td>\n",
       "      <td>0</td>\n",
       "      <td>0</td>\n",
       "      <td>1</td>\n",
       "      <td>10</td>\n",
       "      <td>3</td>\n",
       "    </tr>\n",
       "    <tr>\n",
       "      <th>9358</th>\n",
       "      <td>1</td>\n",
       "      <td>75.77</td>\n",
       "      <td>1</td>\n",
       "      <td>1</td>\n",
       "      <td>1</td>\n",
       "      <td>0.0</td>\n",
       "      <td>30.0</td>\n",
       "      <td>1</td>\n",
       "      <td>1</td>\n",
       "      <td>Black</td>\n",
       "      <td>1</td>\n",
       "      <td>0</td>\n",
       "      <td>15.0</td>\n",
       "      <td>1</td>\n",
       "      <td>0</td>\n",
       "      <td>0</td>\n",
       "      <td>3</td>\n",
       "      <td>2</td>\n",
       "    </tr>\n",
       "    <tr>\n",
       "      <th>9499</th>\n",
       "      <td>1</td>\n",
       "      <td>83.00</td>\n",
       "      <td>1</td>\n",
       "      <td>1</td>\n",
       "      <td>1</td>\n",
       "      <td>30.0</td>\n",
       "      <td>30.0</td>\n",
       "      <td>1</td>\n",
       "      <td>1</td>\n",
       "      <td>Asian</td>\n",
       "      <td>0</td>\n",
       "      <td>0</td>\n",
       "      <td>18.0</td>\n",
       "      <td>1</td>\n",
       "      <td>1</td>\n",
       "      <td>0</td>\n",
       "      <td>7</td>\n",
       "      <td>1</td>\n",
       "    </tr>\n",
       "    <tr>\n",
       "      <th>...</th>\n",
       "      <td>...</td>\n",
       "      <td>...</td>\n",
       "      <td>...</td>\n",
       "      <td>...</td>\n",
       "      <td>...</td>\n",
       "      <td>...</td>\n",
       "      <td>...</td>\n",
       "      <td>...</td>\n",
       "      <td>...</td>\n",
       "      <td>...</td>\n",
       "      <td>...</td>\n",
       "      <td>...</td>\n",
       "      <td>...</td>\n",
       "      <td>...</td>\n",
       "      <td>...</td>\n",
       "      <td>...</td>\n",
       "      <td>...</td>\n",
       "      <td>...</td>\n",
       "    </tr>\n",
       "    <tr>\n",
       "      <th>304960</th>\n",
       "      <td>1</td>\n",
       "      <td>36.49</td>\n",
       "      <td>1</td>\n",
       "      <td>0</td>\n",
       "      <td>0</td>\n",
       "      <td>30.0</td>\n",
       "      <td>30.0</td>\n",
       "      <td>1</td>\n",
       "      <td>0</td>\n",
       "      <td>White</td>\n",
       "      <td>0</td>\n",
       "      <td>0</td>\n",
       "      <td>15.0</td>\n",
       "      <td>1</td>\n",
       "      <td>0</td>\n",
       "      <td>0</td>\n",
       "      <td>8</td>\n",
       "      <td>2</td>\n",
       "    </tr>\n",
       "    <tr>\n",
       "      <th>306105</th>\n",
       "      <td>1</td>\n",
       "      <td>41.21</td>\n",
       "      <td>1</td>\n",
       "      <td>0</td>\n",
       "      <td>0</td>\n",
       "      <td>10.0</td>\n",
       "      <td>0.0</td>\n",
       "      <td>0</td>\n",
       "      <td>0</td>\n",
       "      <td>White</td>\n",
       "      <td>1</td>\n",
       "      <td>0</td>\n",
       "      <td>16.0</td>\n",
       "      <td>1</td>\n",
       "      <td>0</td>\n",
       "      <td>0</td>\n",
       "      <td>10</td>\n",
       "      <td>2</td>\n",
       "    </tr>\n",
       "    <tr>\n",
       "      <th>306678</th>\n",
       "      <td>1</td>\n",
       "      <td>31.32</td>\n",
       "      <td>0</td>\n",
       "      <td>0</td>\n",
       "      <td>0</td>\n",
       "      <td>0.0</td>\n",
       "      <td>0.0</td>\n",
       "      <td>1</td>\n",
       "      <td>0</td>\n",
       "      <td>White</td>\n",
       "      <td>1</td>\n",
       "      <td>0</td>\n",
       "      <td>20.0</td>\n",
       "      <td>1</td>\n",
       "      <td>0</td>\n",
       "      <td>0</td>\n",
       "      <td>11</td>\n",
       "      <td>2</td>\n",
       "    </tr>\n",
       "    <tr>\n",
       "      <th>309380</th>\n",
       "      <td>1</td>\n",
       "      <td>55.79</td>\n",
       "      <td>1</td>\n",
       "      <td>1</td>\n",
       "      <td>0</td>\n",
       "      <td>20.0</td>\n",
       "      <td>25.0</td>\n",
       "      <td>1</td>\n",
       "      <td>1</td>\n",
       "      <td>White</td>\n",
       "      <td>1</td>\n",
       "      <td>0</td>\n",
       "      <td>13.0</td>\n",
       "      <td>1</td>\n",
       "      <td>0</td>\n",
       "      <td>0</td>\n",
       "      <td>10</td>\n",
       "      <td>1</td>\n",
       "    </tr>\n",
       "    <tr>\n",
       "      <th>315663</th>\n",
       "      <td>1</td>\n",
       "      <td>31.09</td>\n",
       "      <td>0</td>\n",
       "      <td>0</td>\n",
       "      <td>1</td>\n",
       "      <td>0.0</td>\n",
       "      <td>0.0</td>\n",
       "      <td>1</td>\n",
       "      <td>0</td>\n",
       "      <td>Hispanic</td>\n",
       "      <td>1</td>\n",
       "      <td>0</td>\n",
       "      <td>15.0</td>\n",
       "      <td>1</td>\n",
       "      <td>0</td>\n",
       "      <td>0</td>\n",
       "      <td>13</td>\n",
       "      <td>3</td>\n",
       "    </tr>\n",
       "  </tbody>\n",
       "</table>\n",
       "<p>168 rows × 18 columns</p>\n",
       "</div>"
      ],
      "text/plain": [
       "        HeartDisease    BMI  Smoking  AlcoholDrinking  Stroke  PhysicalHealth  \\\n",
       "10                 1  34.30        1                0       0            30.0   \n",
       "5519               1  25.00        1                1       0             0.0   \n",
       "5680               1  24.41        1                0       0             5.0   \n",
       "9358               1  75.77        1                1       1             0.0   \n",
       "9499               1  83.00        1                1       1            30.0   \n",
       "...              ...    ...      ...              ...     ...             ...   \n",
       "304960             1  36.49        1                0       0            30.0   \n",
       "306105             1  41.21        1                0       0            10.0   \n",
       "306678             1  31.32        0                0       0             0.0   \n",
       "309380             1  55.79        1                1       0            20.0   \n",
       "315663             1  31.09        0                0       1             0.0   \n",
       "\n",
       "        MentalHealth  DiffWalking  Sex      Race  Diabetic  PhysicalActivity  \\\n",
       "10               0.0            1    1     White         1                 0   \n",
       "5519             0.0            0    0     White         0                 1   \n",
       "5680             0.0            0    1     White         0                 1   \n",
       "9358            30.0            1    1     Black         1                 0   \n",
       "9499            30.0            1    1     Asian         0                 0   \n",
       "...              ...          ...  ...       ...       ...               ...   \n",
       "304960          30.0            1    0     White         0                 0   \n",
       "306105           0.0            0    0     White         1                 0   \n",
       "306678           0.0            1    0     White         1                 0   \n",
       "309380          25.0            1    1     White         1                 0   \n",
       "315663           0.0            1    0  Hispanic         1                 0   \n",
       "\n",
       "        SleepTime  Asthma  KidneyDisease  SkinCancer  AgeCategory1  GenHealth1  \n",
       "10           15.0       1              0           0             9           1  \n",
       "5519         20.0       0              1           0            13           3  \n",
       "5680         15.0       0              0           1            10           3  \n",
       "9358         15.0       1              0           0             3           2  \n",
       "9499         18.0       1              1           0             7           1  \n",
       "...           ...     ...            ...         ...           ...         ...  \n",
       "304960       15.0       1              0           0             8           2  \n",
       "306105       16.0       1              0           0            10           2  \n",
       "306678       20.0       1              0           0            11           2  \n",
       "309380       13.0       1              0           0            10           1  \n",
       "315663       15.0       1              0           0            13           3  \n",
       "\n",
       "[168 rows x 18 columns]"
      ]
     },
     "execution_count": 34,
     "metadata": {},
     "output_type": "execute_result"
    }
   ],
   "source": [
    "df[(df['SleepTime']>12)&(df.HeartDisease==1)]"
   ]
  },
  {
   "cell_type": "code",
   "execution_count": 35,
   "id": "c9c14544",
   "metadata": {},
   "outputs": [
    {
     "data": {
      "text/plain": [
       "15.0"
      ]
     },
     "execution_count": 35,
     "metadata": {},
     "output_type": "execute_result"
    }
   ],
   "source": [
    "np.percentile(df.SleepTime,99.8)"
   ]
  },
  {
   "cell_type": "code",
   "execution_count": 36,
   "id": "6deb6fb4",
   "metadata": {},
   "outputs": [
    {
     "data": {
      "text/plain": [
       "4.0"
      ]
     },
     "execution_count": 36,
     "metadata": {},
     "output_type": "execute_result"
    }
   ],
   "source": [
    "np.percentile(df.SleepTime,2)"
   ]
  },
  {
   "cell_type": "code",
   "execution_count": 37,
   "id": "fa32f6ea",
   "metadata": {},
   "outputs": [
    {
     "data": {
      "text/html": [
       "<div>\n",
       "<style scoped>\n",
       "    .dataframe tbody tr th:only-of-type {\n",
       "        vertical-align: middle;\n",
       "    }\n",
       "\n",
       "    .dataframe tbody tr th {\n",
       "        vertical-align: top;\n",
       "    }\n",
       "\n",
       "    .dataframe thead th {\n",
       "        text-align: right;\n",
       "    }\n",
       "</style>\n",
       "<table border=\"1\" class=\"dataframe\">\n",
       "  <thead>\n",
       "    <tr style=\"text-align: right;\">\n",
       "      <th></th>\n",
       "      <th>HeartDisease</th>\n",
       "      <th>BMI</th>\n",
       "      <th>Smoking</th>\n",
       "      <th>AlcoholDrinking</th>\n",
       "      <th>Stroke</th>\n",
       "      <th>PhysicalHealth</th>\n",
       "      <th>MentalHealth</th>\n",
       "      <th>DiffWalking</th>\n",
       "      <th>Sex</th>\n",
       "      <th>Diabetic</th>\n",
       "      <th>PhysicalActivity</th>\n",
       "      <th>SleepTime</th>\n",
       "      <th>Asthma</th>\n",
       "      <th>KidneyDisease</th>\n",
       "      <th>SkinCancer</th>\n",
       "      <th>AgeCategory1</th>\n",
       "      <th>GenHealth1</th>\n",
       "    </tr>\n",
       "  </thead>\n",
       "  <tbody>\n",
       "    <tr>\n",
       "      <th>count</th>\n",
       "      <td>319795.000000</td>\n",
       "      <td>319795.000000</td>\n",
       "      <td>319795.000000</td>\n",
       "      <td>319795.000000</td>\n",
       "      <td>319795.000000</td>\n",
       "      <td>319795.00000</td>\n",
       "      <td>319795.000000</td>\n",
       "      <td>319795.000000</td>\n",
       "      <td>319795.000000</td>\n",
       "      <td>319795.000000</td>\n",
       "      <td>319795.000000</td>\n",
       "      <td>319795.000000</td>\n",
       "      <td>319795.000000</td>\n",
       "      <td>319795.000000</td>\n",
       "      <td>319795.000000</td>\n",
       "      <td>319795.000000</td>\n",
       "      <td>319795.000000</td>\n",
       "    </tr>\n",
       "    <tr>\n",
       "      <th>mean</th>\n",
       "      <td>0.085595</td>\n",
       "      <td>28.325399</td>\n",
       "      <td>0.412477</td>\n",
       "      <td>0.068097</td>\n",
       "      <td>0.037740</td>\n",
       "      <td>3.37171</td>\n",
       "      <td>3.898366</td>\n",
       "      <td>0.138870</td>\n",
       "      <td>0.475273</td>\n",
       "      <td>0.127588</td>\n",
       "      <td>0.775362</td>\n",
       "      <td>7.097075</td>\n",
       "      <td>0.134061</td>\n",
       "      <td>0.036833</td>\n",
       "      <td>0.093244</td>\n",
       "      <td>7.514536</td>\n",
       "      <td>3.595028</td>\n",
       "    </tr>\n",
       "    <tr>\n",
       "      <th>std</th>\n",
       "      <td>0.279766</td>\n",
       "      <td>6.356100</td>\n",
       "      <td>0.492281</td>\n",
       "      <td>0.251912</td>\n",
       "      <td>0.190567</td>\n",
       "      <td>7.95085</td>\n",
       "      <td>7.955235</td>\n",
       "      <td>0.345812</td>\n",
       "      <td>0.499389</td>\n",
       "      <td>0.333631</td>\n",
       "      <td>0.417344</td>\n",
       "      <td>1.436007</td>\n",
       "      <td>0.340718</td>\n",
       "      <td>0.188352</td>\n",
       "      <td>0.290775</td>\n",
       "      <td>3.564759</td>\n",
       "      <td>1.042918</td>\n",
       "    </tr>\n",
       "    <tr>\n",
       "      <th>min</th>\n",
       "      <td>0.000000</td>\n",
       "      <td>12.020000</td>\n",
       "      <td>0.000000</td>\n",
       "      <td>0.000000</td>\n",
       "      <td>0.000000</td>\n",
       "      <td>0.00000</td>\n",
       "      <td>0.000000</td>\n",
       "      <td>0.000000</td>\n",
       "      <td>0.000000</td>\n",
       "      <td>0.000000</td>\n",
       "      <td>0.000000</td>\n",
       "      <td>1.000000</td>\n",
       "      <td>0.000000</td>\n",
       "      <td>0.000000</td>\n",
       "      <td>0.000000</td>\n",
       "      <td>1.000000</td>\n",
       "      <td>1.000000</td>\n",
       "    </tr>\n",
       "    <tr>\n",
       "      <th>25%</th>\n",
       "      <td>0.000000</td>\n",
       "      <td>24.030000</td>\n",
       "      <td>0.000000</td>\n",
       "      <td>0.000000</td>\n",
       "      <td>0.000000</td>\n",
       "      <td>0.00000</td>\n",
       "      <td>0.000000</td>\n",
       "      <td>0.000000</td>\n",
       "      <td>0.000000</td>\n",
       "      <td>0.000000</td>\n",
       "      <td>1.000000</td>\n",
       "      <td>6.000000</td>\n",
       "      <td>0.000000</td>\n",
       "      <td>0.000000</td>\n",
       "      <td>0.000000</td>\n",
       "      <td>5.000000</td>\n",
       "      <td>3.000000</td>\n",
       "    </tr>\n",
       "    <tr>\n",
       "      <th>50%</th>\n",
       "      <td>0.000000</td>\n",
       "      <td>27.340000</td>\n",
       "      <td>0.000000</td>\n",
       "      <td>0.000000</td>\n",
       "      <td>0.000000</td>\n",
       "      <td>0.00000</td>\n",
       "      <td>0.000000</td>\n",
       "      <td>0.000000</td>\n",
       "      <td>0.000000</td>\n",
       "      <td>0.000000</td>\n",
       "      <td>1.000000</td>\n",
       "      <td>7.000000</td>\n",
       "      <td>0.000000</td>\n",
       "      <td>0.000000</td>\n",
       "      <td>0.000000</td>\n",
       "      <td>8.000000</td>\n",
       "      <td>4.000000</td>\n",
       "    </tr>\n",
       "    <tr>\n",
       "      <th>75%</th>\n",
       "      <td>0.000000</td>\n",
       "      <td>31.420000</td>\n",
       "      <td>1.000000</td>\n",
       "      <td>0.000000</td>\n",
       "      <td>0.000000</td>\n",
       "      <td>2.00000</td>\n",
       "      <td>3.000000</td>\n",
       "      <td>0.000000</td>\n",
       "      <td>1.000000</td>\n",
       "      <td>0.000000</td>\n",
       "      <td>1.000000</td>\n",
       "      <td>8.000000</td>\n",
       "      <td>0.000000</td>\n",
       "      <td>0.000000</td>\n",
       "      <td>0.000000</td>\n",
       "      <td>10.000000</td>\n",
       "      <td>4.000000</td>\n",
       "    </tr>\n",
       "    <tr>\n",
       "      <th>max</th>\n",
       "      <td>1.000000</td>\n",
       "      <td>94.850000</td>\n",
       "      <td>1.000000</td>\n",
       "      <td>1.000000</td>\n",
       "      <td>1.000000</td>\n",
       "      <td>30.00000</td>\n",
       "      <td>30.000000</td>\n",
       "      <td>1.000000</td>\n",
       "      <td>1.000000</td>\n",
       "      <td>1.000000</td>\n",
       "      <td>1.000000</td>\n",
       "      <td>24.000000</td>\n",
       "      <td>1.000000</td>\n",
       "      <td>1.000000</td>\n",
       "      <td>1.000000</td>\n",
       "      <td>13.000000</td>\n",
       "      <td>5.000000</td>\n",
       "    </tr>\n",
       "  </tbody>\n",
       "</table>\n",
       "</div>"
      ],
      "text/plain": [
       "        HeartDisease            BMI        Smoking  AlcoholDrinking  \\\n",
       "count  319795.000000  319795.000000  319795.000000    319795.000000   \n",
       "mean        0.085595      28.325399       0.412477         0.068097   \n",
       "std         0.279766       6.356100       0.492281         0.251912   \n",
       "min         0.000000      12.020000       0.000000         0.000000   \n",
       "25%         0.000000      24.030000       0.000000         0.000000   \n",
       "50%         0.000000      27.340000       0.000000         0.000000   \n",
       "75%         0.000000      31.420000       1.000000         0.000000   \n",
       "max         1.000000      94.850000       1.000000         1.000000   \n",
       "\n",
       "              Stroke  PhysicalHealth   MentalHealth    DiffWalking  \\\n",
       "count  319795.000000    319795.00000  319795.000000  319795.000000   \n",
       "mean        0.037740         3.37171       3.898366       0.138870   \n",
       "std         0.190567         7.95085       7.955235       0.345812   \n",
       "min         0.000000         0.00000       0.000000       0.000000   \n",
       "25%         0.000000         0.00000       0.000000       0.000000   \n",
       "50%         0.000000         0.00000       0.000000       0.000000   \n",
       "75%         0.000000         2.00000       3.000000       0.000000   \n",
       "max         1.000000        30.00000      30.000000       1.000000   \n",
       "\n",
       "                 Sex       Diabetic  PhysicalActivity      SleepTime  \\\n",
       "count  319795.000000  319795.000000     319795.000000  319795.000000   \n",
       "mean        0.475273       0.127588          0.775362       7.097075   \n",
       "std         0.499389       0.333631          0.417344       1.436007   \n",
       "min         0.000000       0.000000          0.000000       1.000000   \n",
       "25%         0.000000       0.000000          1.000000       6.000000   \n",
       "50%         0.000000       0.000000          1.000000       7.000000   \n",
       "75%         1.000000       0.000000          1.000000       8.000000   \n",
       "max         1.000000       1.000000          1.000000      24.000000   \n",
       "\n",
       "              Asthma  KidneyDisease     SkinCancer   AgeCategory1  \\\n",
       "count  319795.000000  319795.000000  319795.000000  319795.000000   \n",
       "mean        0.134061       0.036833       0.093244       7.514536   \n",
       "std         0.340718       0.188352       0.290775       3.564759   \n",
       "min         0.000000       0.000000       0.000000       1.000000   \n",
       "25%         0.000000       0.000000       0.000000       5.000000   \n",
       "50%         0.000000       0.000000       0.000000       8.000000   \n",
       "75%         0.000000       0.000000       0.000000      10.000000   \n",
       "max         1.000000       1.000000       1.000000      13.000000   \n",
       "\n",
       "          GenHealth1  \n",
       "count  319795.000000  \n",
       "mean        3.595028  \n",
       "std         1.042918  \n",
       "min         1.000000  \n",
       "25%         3.000000  \n",
       "50%         4.000000  \n",
       "75%         4.000000  \n",
       "max         5.000000  "
      ]
     },
     "execution_count": 37,
     "metadata": {},
     "output_type": "execute_result"
    }
   ],
   "source": [
    "df.describe()"
   ]
  },
  {
   "cell_type": "code",
   "execution_count": 38,
   "id": "934979e9",
   "metadata": {},
   "outputs": [
    {
     "data": {
      "text/plain": [
       "44.01"
      ]
     },
     "execution_count": 38,
     "metadata": {},
     "output_type": "execute_result"
    }
   ],
   "source": [
    "np.percentile(df.BMI,97.6)"
   ]
  },
  {
   "cell_type": "code",
   "execution_count": 39,
   "id": "a043ebe9",
   "metadata": {},
   "outputs": [],
   "source": [
    "df=pd.get_dummies(df)\n",
    "#df.drop(columns=['Race'],axis=1,inplace=True)"
   ]
  },
  {
   "cell_type": "code",
   "execution_count": 40,
   "id": "9a2fca58",
   "metadata": {},
   "outputs": [],
   "source": [
    "lable2={ 30:6,29:6,28:6,27:6,26:6,25:5,24:5,23:5,22:5,21:5,20:4,19:4,18:4,17:4,16:4,15:3,14:3,\n",
    "        13:3,12:3,11:3,10:2,9:2,8:2,7:2,6:2,5:1,4:1,3:1,2:1,1:1,0:1}\n",
    "\n",
    "df['PhysicalHealth1']=df['PhysicalHealth'].map(lable2)\n",
    "df.drop(columns=['PhysicalHealth'],axis=1,inplace=True)"
   ]
  },
  {
   "cell_type": "code",
   "execution_count": 41,
   "id": "005bf8f7",
   "metadata": {},
   "outputs": [],
   "source": [
    "df['MentalHealth1']=df['MentalHealth'].map(lable2)\n",
    "df.drop(columns=['MentalHealth'],axis=1,inplace=True)"
   ]
  },
  {
   "cell_type": "code",
   "execution_count": 42,
   "id": "f8709d07",
   "metadata": {},
   "outputs": [
    {
     "data": {
      "text/html": [
       "<div>\n",
       "<style scoped>\n",
       "    .dataframe tbody tr th:only-of-type {\n",
       "        vertical-align: middle;\n",
       "    }\n",
       "\n",
       "    .dataframe tbody tr th {\n",
       "        vertical-align: top;\n",
       "    }\n",
       "\n",
       "    .dataframe thead th {\n",
       "        text-align: right;\n",
       "    }\n",
       "</style>\n",
       "<table border=\"1\" class=\"dataframe\">\n",
       "  <thead>\n",
       "    <tr style=\"text-align: right;\">\n",
       "      <th></th>\n",
       "      <th>HeartDisease</th>\n",
       "      <th>BMI</th>\n",
       "      <th>Smoking</th>\n",
       "      <th>AlcoholDrinking</th>\n",
       "      <th>Stroke</th>\n",
       "      <th>DiffWalking</th>\n",
       "      <th>Sex</th>\n",
       "      <th>Diabetic</th>\n",
       "      <th>PhysicalActivity</th>\n",
       "      <th>SleepTime</th>\n",
       "      <th>...</th>\n",
       "      <th>AgeCategory1</th>\n",
       "      <th>GenHealth1</th>\n",
       "      <th>Race_American Indian/Alaskan Native</th>\n",
       "      <th>Race_Asian</th>\n",
       "      <th>Race_Black</th>\n",
       "      <th>Race_Hispanic</th>\n",
       "      <th>Race_Other</th>\n",
       "      <th>Race_White</th>\n",
       "      <th>PhysicalHealth1</th>\n",
       "      <th>MentalHealth1</th>\n",
       "    </tr>\n",
       "  </thead>\n",
       "  <tbody>\n",
       "    <tr>\n",
       "      <th>0</th>\n",
       "      <td>0</td>\n",
       "      <td>16.60</td>\n",
       "      <td>1</td>\n",
       "      <td>0</td>\n",
       "      <td>0</td>\n",
       "      <td>0</td>\n",
       "      <td>0</td>\n",
       "      <td>1</td>\n",
       "      <td>1</td>\n",
       "      <td>5.0</td>\n",
       "      <td>...</td>\n",
       "      <td>8</td>\n",
       "      <td>4</td>\n",
       "      <td>0</td>\n",
       "      <td>0</td>\n",
       "      <td>0</td>\n",
       "      <td>0</td>\n",
       "      <td>0</td>\n",
       "      <td>1</td>\n",
       "      <td>1</td>\n",
       "      <td>6</td>\n",
       "    </tr>\n",
       "    <tr>\n",
       "      <th>1</th>\n",
       "      <td>0</td>\n",
       "      <td>20.34</td>\n",
       "      <td>0</td>\n",
       "      <td>0</td>\n",
       "      <td>1</td>\n",
       "      <td>0</td>\n",
       "      <td>0</td>\n",
       "      <td>0</td>\n",
       "      <td>1</td>\n",
       "      <td>7.0</td>\n",
       "      <td>...</td>\n",
       "      <td>13</td>\n",
       "      <td>4</td>\n",
       "      <td>0</td>\n",
       "      <td>0</td>\n",
       "      <td>0</td>\n",
       "      <td>0</td>\n",
       "      <td>0</td>\n",
       "      <td>1</td>\n",
       "      <td>1</td>\n",
       "      <td>1</td>\n",
       "    </tr>\n",
       "    <tr>\n",
       "      <th>2</th>\n",
       "      <td>0</td>\n",
       "      <td>26.58</td>\n",
       "      <td>1</td>\n",
       "      <td>0</td>\n",
       "      <td>0</td>\n",
       "      <td>0</td>\n",
       "      <td>1</td>\n",
       "      <td>1</td>\n",
       "      <td>1</td>\n",
       "      <td>8.0</td>\n",
       "      <td>...</td>\n",
       "      <td>10</td>\n",
       "      <td>2</td>\n",
       "      <td>0</td>\n",
       "      <td>0</td>\n",
       "      <td>0</td>\n",
       "      <td>0</td>\n",
       "      <td>0</td>\n",
       "      <td>1</td>\n",
       "      <td>4</td>\n",
       "      <td>6</td>\n",
       "    </tr>\n",
       "    <tr>\n",
       "      <th>3</th>\n",
       "      <td>0</td>\n",
       "      <td>24.21</td>\n",
       "      <td>0</td>\n",
       "      <td>0</td>\n",
       "      <td>0</td>\n",
       "      <td>0</td>\n",
       "      <td>0</td>\n",
       "      <td>0</td>\n",
       "      <td>0</td>\n",
       "      <td>6.0</td>\n",
       "      <td>...</td>\n",
       "      <td>12</td>\n",
       "      <td>3</td>\n",
       "      <td>0</td>\n",
       "      <td>0</td>\n",
       "      <td>0</td>\n",
       "      <td>0</td>\n",
       "      <td>0</td>\n",
       "      <td>1</td>\n",
       "      <td>1</td>\n",
       "      <td>1</td>\n",
       "    </tr>\n",
       "    <tr>\n",
       "      <th>4</th>\n",
       "      <td>0</td>\n",
       "      <td>23.71</td>\n",
       "      <td>0</td>\n",
       "      <td>0</td>\n",
       "      <td>0</td>\n",
       "      <td>1</td>\n",
       "      <td>0</td>\n",
       "      <td>0</td>\n",
       "      <td>1</td>\n",
       "      <td>8.0</td>\n",
       "      <td>...</td>\n",
       "      <td>5</td>\n",
       "      <td>4</td>\n",
       "      <td>0</td>\n",
       "      <td>0</td>\n",
       "      <td>0</td>\n",
       "      <td>0</td>\n",
       "      <td>0</td>\n",
       "      <td>1</td>\n",
       "      <td>6</td>\n",
       "      <td>1</td>\n",
       "    </tr>\n",
       "  </tbody>\n",
       "</table>\n",
       "<p>5 rows × 23 columns</p>\n",
       "</div>"
      ],
      "text/plain": [
       "   HeartDisease    BMI  Smoking  AlcoholDrinking  Stroke  DiffWalking  Sex  \\\n",
       "0             0  16.60        1                0       0            0    0   \n",
       "1             0  20.34        0                0       1            0    0   \n",
       "2             0  26.58        1                0       0            0    1   \n",
       "3             0  24.21        0                0       0            0    0   \n",
       "4             0  23.71        0                0       0            1    0   \n",
       "\n",
       "   Diabetic  PhysicalActivity  SleepTime  ...  AgeCategory1  GenHealth1  \\\n",
       "0         1                 1        5.0  ...             8           4   \n",
       "1         0                 1        7.0  ...            13           4   \n",
       "2         1                 1        8.0  ...            10           2   \n",
       "3         0                 0        6.0  ...            12           3   \n",
       "4         0                 1        8.0  ...             5           4   \n",
       "\n",
       "   Race_American Indian/Alaskan Native  Race_Asian  Race_Black  Race_Hispanic  \\\n",
       "0                                    0           0           0              0   \n",
       "1                                    0           0           0              0   \n",
       "2                                    0           0           0              0   \n",
       "3                                    0           0           0              0   \n",
       "4                                    0           0           0              0   \n",
       "\n",
       "   Race_Other  Race_White  PhysicalHealth1  MentalHealth1  \n",
       "0           0           1                1              6  \n",
       "1           0           1                1              1  \n",
       "2           0           1                4              6  \n",
       "3           0           1                1              1  \n",
       "4           0           1                6              1  \n",
       "\n",
       "[5 rows x 23 columns]"
      ]
     },
     "execution_count": 42,
     "metadata": {},
     "output_type": "execute_result"
    }
   ],
   "source": [
    "df.head()"
   ]
  },
  {
   "cell_type": "code",
   "execution_count": 43,
   "id": "814da6c3",
   "metadata": {},
   "outputs": [],
   "source": [
    "x=df.drop(columns=['HeartDisease'])\n",
    "y=df['HeartDisease']"
   ]
  },
  {
   "cell_type": "code",
   "execution_count": 44,
   "id": "be1ed48d",
   "metadata": {},
   "outputs": [],
   "source": [
    "from sklearn.model_selection import train_test_split\n",
    "x_train,x_test,y_train,y_test=train_test_split(x,y,train_size=0.8, random_state=2,shuffle=y)"
   ]
  },
  {
   "cell_type": "code",
   "execution_count": 45,
   "id": "3f233450",
   "metadata": {},
   "outputs": [
    {
     "name": "stdout",
     "output_type": "stream",
     "text": [
      "(255836, 22)\n",
      "(255836,)\n",
      "(63959, 22)\n",
      "(63959,)\n"
     ]
    }
   ],
   "source": [
    "print(x_train.shape)\n",
    "print(y_train.shape)\n",
    "print(x_test.shape)\n",
    "print(y_test.shape)"
   ]
  },
  {
   "cell_type": "code",
   "execution_count": 46,
   "id": "50171a5c",
   "metadata": {},
   "outputs": [],
   "source": [
    "from sklearn.metrics import confusion_matrix,accuracy_score,recall_score,precision_score,log_loss\n",
    "def val_values(y_test,y_pred):\n",
    "    cm=confusion_matrix(y_test,y_pred)\n",
    "    ac=accuracy_score(y_test,y_pred)\n",
    "    rec=recall_score(y_test,y_pred)\n",
    "    prec=precision_score(y_test,y_pred)\n",
    "    los=log_loss(y_test,y_pred)\n",
    "    print('confusion_matrix=\\n',cm)\n",
    "    print('Accuracy',ac)\n",
    "    print('recall',rec)\n",
    "    print('precision',prec)\n",
    "    print('loss',los)"
   ]
  },
  {
   "cell_type": "code",
   "execution_count": 47,
   "id": "f0f4a336",
   "metadata": {},
   "outputs": [],
   "source": [
    "from sklearn.metrics import classification_report\n",
    "def val_class(y_test,y_pred):\n",
    "    print(classification_report(y_test, y_pred))\n"
   ]
  },
  {
   "cell_type": "code",
   "execution_count": 48,
   "id": "b1ed4fbc",
   "metadata": {},
   "outputs": [],
   "source": [
    "def random(x_train,y_train,x_test,y_test):\n",
    "    from sklearn.ensemble import RandomForestClassifier\n",
    "    model=RandomForestClassifier(n_estimators=19,criterion='gini',max_depth=35)\n",
    "    model.fit(x_train,y_train)\n",
    "    y_pred_f=model.predict(x_test)\n",
    "    print(val_values(y_test,y_pred_f))\n",
    "    print(val_class(y_test,y_pred_f))\n"
   ]
  },
  {
   "cell_type": "code",
   "execution_count": 49,
   "id": "e0ac8f41",
   "metadata": {},
   "outputs": [
    {
     "name": "stdout",
     "output_type": "stream",
     "text": [
      "confusion_matrix=\n",
      " [[56894  1636]\n",
      " [ 4619   810]]\n",
      "Accuracy 0.9022029737800779\n",
      "recall 0.14919874746730521\n",
      "precision 0.3311529026982829\n",
      "loss 3.3778100735090004\n",
      "None\n",
      "              precision    recall  f1-score   support\n",
      "\n",
      "           0       0.92      0.97      0.95     58530\n",
      "           1       0.33      0.15      0.21      5429\n",
      "\n",
      "    accuracy                           0.90     63959\n",
      "   macro avg       0.63      0.56      0.58     63959\n",
      "weighted avg       0.87      0.90      0.88     63959\n",
      "\n",
      "None\n"
     ]
    }
   ],
   "source": [
    "random(x_train,y_train,x_test,y_test)"
   ]
  },
  {
   "cell_type": "markdown",
   "id": "72900e98",
   "metadata": {},
   "source": [
    "# under sampling"
   ]
  },
  {
   "cell_type": "code",
   "execution_count": 50,
   "id": "159f4a26",
   "metadata": {},
   "outputs": [],
   "source": [
    "count_class_0,count_class_1=df.HeartDisease.value_counts()\n",
    "df_class_0=df[df['HeartDisease']==0]\n",
    "df_class_1=df[df['HeartDisease']==1]"
   ]
  },
  {
   "cell_type": "code",
   "execution_count": 51,
   "id": "001afc3f",
   "metadata": {},
   "outputs": [
    {
     "data": {
      "text/plain": [
       "(292422, 27373)"
      ]
     },
     "execution_count": 51,
     "metadata": {},
     "output_type": "execute_result"
    }
   ],
   "source": [
    "count_class_0,count_class_1"
   ]
  },
  {
   "cell_type": "code",
   "execution_count": 52,
   "id": "9c414777",
   "metadata": {},
   "outputs": [
    {
     "data": {
      "text/plain": [
       "(292422, 23)"
      ]
     },
     "execution_count": 52,
     "metadata": {},
     "output_type": "execute_result"
    }
   ],
   "source": [
    "df_class_0.shape"
   ]
  },
  {
   "cell_type": "code",
   "execution_count": 53,
   "id": "e258d1eb",
   "metadata": {},
   "outputs": [
    {
     "data": {
      "text/plain": [
       "(27373, 23)"
      ]
     },
     "execution_count": 53,
     "metadata": {},
     "output_type": "execute_result"
    }
   ],
   "source": [
    "df_class_1.shape"
   ]
  },
  {
   "cell_type": "code",
   "execution_count": 54,
   "id": "b70932ae",
   "metadata": {},
   "outputs": [
    {
     "name": "stdout",
     "output_type": "stream",
     "text": [
      "Random under sample:\n",
      "0    27373\n",
      "1    27373\n",
      "Name: HeartDisease, dtype: int64\n"
     ]
    }
   ],
   "source": [
    "df_class_0_under=df_class_0.sample(count_class_1)\n",
    "\n",
    "df_test_under=pd.concat([df_class_0_under,df_class_1],axis=0)\n",
    "\n",
    "print('Random under sample:')\n",
    "print(df_test_under.HeartDisease.value_counts())"
   ]
  },
  {
   "cell_type": "code",
   "execution_count": 55,
   "id": "d113f8e3",
   "metadata": {},
   "outputs": [],
   "source": [
    "x=df_test_under.drop(columns=['HeartDisease'])\n",
    "y=df_test_under['HeartDisease']\n",
    "from sklearn.model_selection import train_test_split\n",
    "x_train,x_test,y_train,y_test=train_test_split(x,y,train_size=0.8, random_state=2,shuffle=y)"
   ]
  },
  {
   "cell_type": "code",
   "execution_count": 56,
   "id": "c7b8bfd4",
   "metadata": {},
   "outputs": [
    {
     "name": "stdout",
     "output_type": "stream",
     "text": [
      "(43796, 22)\n",
      "(43796,)\n",
      "(10950, 22)\n",
      "(10950,)\n"
     ]
    }
   ],
   "source": [
    "print(x_train.shape)\n",
    "print(y_train.shape)\n",
    "print(x_test.shape)\n",
    "print(y_test.shape)"
   ]
  },
  {
   "cell_type": "code",
   "execution_count": 57,
   "id": "2e95c03e",
   "metadata": {},
   "outputs": [
    {
     "data": {
      "text/plain": [
       "1    21941\n",
       "0    21855\n",
       "Name: HeartDisease, dtype: int64"
      ]
     },
     "execution_count": 57,
     "metadata": {},
     "output_type": "execute_result"
    }
   ],
   "source": [
    "y_train.value_counts()"
   ]
  },
  {
   "cell_type": "code",
   "execution_count": 58,
   "id": "5d6a926c",
   "metadata": {},
   "outputs": [
    {
     "name": "stdout",
     "output_type": "stream",
     "text": [
      "confusion_matrix=\n",
      " [[3974 1544]\n",
      " [1307 4125]]\n",
      "Accuracy 0.739634703196347\n",
      "recall 0.7593888070692194\n",
      "precision 0.7276415593579114\n",
      "loss 8.99281151418471\n",
      "None\n",
      "              precision    recall  f1-score   support\n",
      "\n",
      "           0       0.75      0.72      0.74      5518\n",
      "           1       0.73      0.76      0.74      5432\n",
      "\n",
      "    accuracy                           0.74     10950\n",
      "   macro avg       0.74      0.74      0.74     10950\n",
      "weighted avg       0.74      0.74      0.74     10950\n",
      "\n",
      "None\n"
     ]
    }
   ],
   "source": [
    "random(x_train,y_train,x_test,y_test)"
   ]
  },
  {
   "cell_type": "markdown",
   "id": "49b72501",
   "metadata": {},
   "source": [
    "# over sampling"
   ]
  },
  {
   "cell_type": "code",
   "execution_count": 59,
   "id": "45633d9e",
   "metadata": {},
   "outputs": [
    {
     "data": {
      "text/plain": [
       "(292422, 27373)"
      ]
     },
     "execution_count": 59,
     "metadata": {},
     "output_type": "execute_result"
    }
   ],
   "source": [
    "count_class_0,count_class_1"
   ]
  },
  {
   "cell_type": "code",
   "execution_count": 60,
   "id": "479e51fa",
   "metadata": {},
   "outputs": [
    {
     "name": "stdout",
     "output_type": "stream",
     "text": [
      "Random under sample:\n",
      "0    292422\n",
      "1    292422\n",
      "Name: HeartDisease, dtype: int64\n"
     ]
    }
   ],
   "source": [
    "df_class_1_over=df_class_1.sample(count_class_0,replace=True)\n",
    "\n",
    "df_test_over=pd.concat([df_class_0,df_class_1_over],axis=0)\n",
    "\n",
    "print('Random under sample:')\n",
    "print(df_test_over.HeartDisease.value_counts())"
   ]
  },
  {
   "cell_type": "code",
   "execution_count": 61,
   "id": "6df9a992",
   "metadata": {},
   "outputs": [],
   "source": [
    "x=df_test_over.drop(columns=['HeartDisease'])\n",
    "y=df_test_over['HeartDisease']\n",
    "from sklearn.model_selection import train_test_split\n",
    "x_train,x_test,y_train,y_test=train_test_split(x,y,train_size=0.8, random_state=2,shuffle=y)"
   ]
  },
  {
   "cell_type": "code",
   "execution_count": 62,
   "id": "58176456",
   "metadata": {},
   "outputs": [
    {
     "name": "stdout",
     "output_type": "stream",
     "text": [
      "(467875, 22)\n",
      "(467875,)\n",
      "(116969, 22)\n",
      "(116969,)\n"
     ]
    }
   ],
   "source": [
    "print(x_train.shape)\n",
    "print(y_train.shape)\n",
    "print(x_test.shape)\n",
    "print(y_test.shape)"
   ]
  },
  {
   "cell_type": "code",
   "execution_count": 63,
   "id": "4e059260",
   "metadata": {},
   "outputs": [
    {
     "data": {
      "text/plain": [
       "0    234305\n",
       "1    233570\n",
       "Name: HeartDisease, dtype: int64"
      ]
     },
     "execution_count": 63,
     "metadata": {},
     "output_type": "execute_result"
    }
   ],
   "source": [
    "y_train.value_counts()"
   ]
  },
  {
   "cell_type": "code",
   "execution_count": 64,
   "id": "0d164a25",
   "metadata": {},
   "outputs": [
    {
     "name": "stdout",
     "output_type": "stream",
     "text": [
      "confusion_matrix=\n",
      " [[53402  4715]\n",
      " [  105 58747]]\n",
      "Accuracy 0.958792500577076\n",
      "recall 0.9982158635220554\n",
      "precision 0.9257035706406984\n",
      "loss 1.4232888399948103\n",
      "None\n",
      "              precision    recall  f1-score   support\n",
      "\n",
      "           0       1.00      0.92      0.96     58117\n",
      "           1       0.93      1.00      0.96     58852\n",
      "\n",
      "    accuracy                           0.96    116969\n",
      "   macro avg       0.96      0.96      0.96    116969\n",
      "weighted avg       0.96      0.96      0.96    116969\n",
      "\n",
      "None\n"
     ]
    }
   ],
   "source": [
    "random(x_train,y_train,x_test,y_test)"
   ]
  },
  {
   "cell_type": "markdown",
   "id": "065dc2a9",
   "metadata": {},
   "source": [
    "# SMOTE"
   ]
  },
  {
   "cell_type": "code",
   "execution_count": 65,
   "id": "eaf047ed",
   "metadata": {},
   "outputs": [],
   "source": [
    "x=df.drop(columns=['HeartDisease'])\n",
    "y=df['HeartDisease']"
   ]
  },
  {
   "cell_type": "code",
   "execution_count": 66,
   "id": "08a2449c",
   "metadata": {},
   "outputs": [
    {
     "data": {
      "text/plain": [
       "0    292422\n",
       "1     27373\n",
       "Name: HeartDisease, dtype: int64"
      ]
     },
     "execution_count": 66,
     "metadata": {},
     "output_type": "execute_result"
    }
   ],
   "source": [
    "y.value_counts()"
   ]
  },
  {
   "cell_type": "code",
   "execution_count": 67,
   "id": "1f869ee8",
   "metadata": {},
   "outputs": [],
   "source": [
    "from imblearn.over_sampling import SMOTE\n",
    "\n",
    "smote=SMOTE(sampling_strategy='minority')\n",
    "x_sm,y_sm=smote.fit_resample(x,y)"
   ]
  },
  {
   "cell_type": "code",
   "execution_count": 68,
   "id": "e97069da",
   "metadata": {},
   "outputs": [
    {
     "data": {
      "text/plain": [
       "0    292422\n",
       "1    292422\n",
       "Name: HeartDisease, dtype: int64"
      ]
     },
     "execution_count": 68,
     "metadata": {},
     "output_type": "execute_result"
    }
   ],
   "source": [
    "y_sm.value_counts()"
   ]
  },
  {
   "cell_type": "code",
   "execution_count": 69,
   "id": "f5e6c50c",
   "metadata": {},
   "outputs": [],
   "source": [
    "from sklearn.model_selection import train_test_split\n",
    "x_train,x_test,y_train,y_test=train_test_split(x_sm,y_sm,train_size=0.7, random_state=2,shuffle=y)"
   ]
  },
  {
   "cell_type": "code",
   "execution_count": 70,
   "id": "a459242a",
   "metadata": {},
   "outputs": [
    {
     "name": "stdout",
     "output_type": "stream",
     "text": [
      "(409390, 22)\n",
      "(409390,)\n",
      "(175454, 22)\n",
      "(175454,)\n"
     ]
    }
   ],
   "source": [
    "print(x_train.shape)\n",
    "print(y_train.shape)\n",
    "print(x_test.shape)\n",
    "print(y_test.shape)"
   ]
  },
  {
   "cell_type": "code",
   "execution_count": 71,
   "id": "dcdb36af",
   "metadata": {},
   "outputs": [
    {
     "data": {
      "text/plain": [
       "0    205156\n",
       "1    204234\n",
       "Name: HeartDisease, dtype: int64"
      ]
     },
     "execution_count": 71,
     "metadata": {},
     "output_type": "execute_result"
    }
   ],
   "source": [
    "y_train.value_counts()"
   ]
  },
  {
   "cell_type": "code",
   "execution_count": 72,
   "id": "a78cec50",
   "metadata": {},
   "outputs": [
    {
     "data": {
      "text/plain": [
       "1    88188\n",
       "0    87266\n",
       "Name: HeartDisease, dtype: int64"
      ]
     },
     "execution_count": 72,
     "metadata": {},
     "output_type": "execute_result"
    }
   ],
   "source": [
    "y_test.value_counts()"
   ]
  },
  {
   "cell_type": "code",
   "execution_count": 73,
   "id": "9f0beabb",
   "metadata": {},
   "outputs": [
    {
     "name": "stdout",
     "output_type": "stream",
     "text": [
      "confusion_matrix=\n",
      " [[75480 11786]\n",
      " [ 7222 80966]]\n",
      "Accuracy 0.8916639119085344\n",
      "recall 0.9181067718964031\n",
      "precision 0.872929963774366\n",
      "loss 3.741849634489807\n",
      "None\n",
      "              precision    recall  f1-score   support\n",
      "\n",
      "           0       0.91      0.86      0.89     87266\n",
      "           1       0.87      0.92      0.89     88188\n",
      "\n",
      "    accuracy                           0.89    175454\n",
      "   macro avg       0.89      0.89      0.89    175454\n",
      "weighted avg       0.89      0.89      0.89    175454\n",
      "\n",
      "None\n"
     ]
    }
   ],
   "source": [
    "random(x_train,y_train,x_test,y_test)"
   ]
  },
  {
   "cell_type": "code",
   "execution_count": 74,
   "id": "f2bf9447",
   "metadata": {},
   "outputs": [],
   "source": [
    "import keras\n",
    "import tensorflow as tf\n",
    "from keras import models\n",
    "from keras.models import Sequential\n",
    "from keras.layers import Dense,Activation"
   ]
  },
  {
   "cell_type": "code",
   "execution_count": 75,
   "id": "c2c8ca0e",
   "metadata": {},
   "outputs": [],
   "source": [
    "model=Sequential()\n",
    "model.add(Dense(200,input_dim=22,activation='relu'))\n",
    "model.add(Dense(100,activation='relu'))\n",
    "model.add(Dense(50,activation='relu'))\n",
    "model.add(Dense(25,activation='relu'))\n",
    "model.add(Dense(10,activation='relu'))\n",
    "model.add(Dense(1,activation='sigmoid'))"
   ]
  },
  {
   "cell_type": "code",
   "execution_count": 76,
   "id": "8c418a8d",
   "metadata": {},
   "outputs": [],
   "source": [
    "model.compile(loss='binary_crossentropy',optimizer='rmsprop',metrics=['accuracy'])"
   ]
  },
  {
   "cell_type": "code",
   "execution_count": 77,
   "id": "52a4d466",
   "metadata": {},
   "outputs": [
    {
     "name": "stdout",
     "output_type": "stream",
     "text": [
      "Epoch 1/3\n",
      "12794/12794 [==============================] - 34s 2ms/step - loss: 0.4651 - accuracy: 0.7804\n",
      "Epoch 2/3\n",
      "12794/12794 [==============================] - 32s 2ms/step - loss: 0.4552 - accuracy: 0.7870\n",
      "Epoch 3/3\n",
      "12794/12794 [==============================] - 32s 3ms/step - loss: 0.4569 - accuracy: 0.7877\n"
     ]
    }
   ],
   "source": [
    "history=model.fit(x_train,y_train,epochs=3,verbose=1)"
   ]
  },
  {
   "cell_type": "code",
   "execution_count": 79,
   "id": "4244b00a",
   "metadata": {},
   "outputs": [
    {
     "data": {
      "text/plain": [
       "Text(0, 0.5, 'accuracy')"
      ]
     },
     "execution_count": 79,
     "metadata": {},
     "output_type": "execute_result"
    },
    {
     "data": {
      "image/png": "[encoded data removed]",
      "text/plain": [
       "<Figure size 432x288 with 1 Axes>"
      ]
     },
     "metadata": {
      "needs_background": "light"
     },
     "output_type": "display_data"
    }
   ],
   "source": [
    "plt.plot(history.history['loss'])\n",
    "plt.plot(history.history['accuracy'])\n",
    "plt.xlabel('Epochs')\n",
    "plt.ylabel('accuracy')"
   ]
  },
  {
   "cell_type": "code",
   "execution_count": 80,
   "id": "a7047b66",
   "metadata": {},
   "outputs": [
    {
     "name": "stdout",
     "output_type": "stream",
     "text": [
      "5483/5483 [==============================] - 7s 1ms/step - loss: 0.4538 - accuracy: 0.7795\n"
     ]
    },
    {
     "data": {
      "text/plain": [
       "[0.45377299189567566, 0.7795319557189941]"
      ]
     },
     "execution_count": 80,
     "metadata": {},
     "output_type": "execute_result"
    }
   ],
   "source": [
    "model.evaluate(x_test,y_test)"
   ]
  },
  {
   "cell_type": "code",
   "execution_count": 81,
   "id": "98644986",
   "metadata": {},
   "outputs": [],
   "source": [
    "y_pred=model.predict(x_test)"
   ]
  },
  {
   "cell_type": "code",
   "execution_count": 82,
   "id": "16316ba0",
   "metadata": {},
   "outputs": [],
   "source": [
    "y_pred_hard=np.round(y_pred).astype(int)"
   ]
  },
  {
   "cell_type": "code",
   "execution_count": 83,
   "id": "ebc69f81",
   "metadata": {},
   "outputs": [],
   "source": [
    "from sklearn.metrics import confusion_matrix,accuracy_score,f1_score"
   ]
  },
  {
   "cell_type": "code",
   "execution_count": 84,
   "id": "ee6d702e",
   "metadata": {},
   "outputs": [
    {
     "name": "stdout",
     "output_type": "stream",
     "text": [
      "Accuracy 0.7795319570941671\n",
      "confusion matrix [[73935 13331]\n",
      " [25351 62837]]\n",
      "F1 Score 0.7646450388181751\n"
     ]
    }
   ],
   "source": [
    "print('Accuracy',accuracy_score(y_test,y_pred_hard))\n",
    "print('confusion matrix',confusion_matrix(y_test,y_pred_hard))\n",
    "print('F1 Score',f1_score(y_test,y_pred_hard))"
   ]
  },
  {
   "cell_type": "code",
   "execution_count": 85,
   "id": "d38f71cb",
   "metadata": {},
   "outputs": [
    {
     "name": "stdout",
     "output_type": "stream",
     "text": [
      "confusion_matrix=\n",
      " [[73935 13331]\n",
      " [25351 62837]]\n",
      "Accuracy 0.7795319570941671\n",
      "recall 0.7125345852043362\n",
      "precision 0.824978993803172\n",
      "loss 7.614757189584031\n",
      "None\n",
      "              precision    recall  f1-score   support\n",
      "\n",
      "           0       0.74      0.85      0.79     87266\n",
      "           1       0.82      0.71      0.76     88188\n",
      "\n",
      "    accuracy                           0.78    175454\n",
      "   macro avg       0.78      0.78      0.78    175454\n",
      "weighted avg       0.79      0.78      0.78    175454\n",
      "\n",
      "None\n"
     ]
    }
   ],
   "source": [
    "print(val_values(y_test,y_pred_hard))\n",
    "print(val_class(y_test,y_pred_hard))"
   ]
  },
  {
   "cell_type": "markdown",
   "id": "60af31b5",
   "metadata": {},
   "source": [
    "# use of Ensemble with undersampling"
   ]
  },
  {
   "cell_type": "code",
   "execution_count": 74,
   "id": "9129837c",
   "metadata": {},
   "outputs": [
    {
     "data": {
      "text/plain": [
       "0    292422\n",
       "1     27373\n",
       "Name: HeartDisease, dtype: int64"
      ]
     },
     "execution_count": 74,
     "metadata": {},
     "output_type": "execute_result"
    }
   ],
   "source": [
    "df.HeartDisease.value_counts()"
   ]
  },
  {
   "cell_type": "code",
   "execution_count": 75,
   "id": "7cdc1e79",
   "metadata": {},
   "outputs": [],
   "source": [
    "x=df.drop(columns=['HeartDisease'])\n",
    "y=df['HeartDisease']"
   ]
  },
  {
   "cell_type": "code",
   "execution_count": 76,
   "id": "b91cdd3b",
   "metadata": {},
   "outputs": [],
   "source": [
    "from sklearn.model_selection import train_test_split\n",
    "x_train,x_test,y_train,y_test=train_test_split(x,y,train_size=0.8, random_state=2,shuffle=y)"
   ]
  },
  {
   "cell_type": "code",
   "execution_count": 77,
   "id": "39ab8a56",
   "metadata": {},
   "outputs": [
    {
     "name": "stdout",
     "output_type": "stream",
     "text": [
      "(255836, 22)\n",
      "(255836,)\n",
      "(63959, 22)\n",
      "(63959,)\n"
     ]
    }
   ],
   "source": [
    "print(x_train.shape)\n",
    "print(y_train.shape)\n",
    "print(x_test.shape)\n",
    "print(y_test.shape)"
   ]
  },
  {
   "cell_type": "code",
   "execution_count": 78,
   "id": "f397fbd4",
   "metadata": {},
   "outputs": [
    {
     "data": {
      "text/plain": [
       "0    233892\n",
       "1     21944\n",
       "Name: HeartDisease, dtype: int64"
      ]
     },
     "execution_count": 78,
     "metadata": {},
     "output_type": "execute_result"
    }
   ],
   "source": [
    "y_train.value_counts()"
   ]
  },
  {
   "cell_type": "code",
   "execution_count": 79,
   "id": "8bd9f9f4",
   "metadata": {},
   "outputs": [
    {
     "data": {
      "text/plain": [
       "10.658585490339044"
      ]
     },
     "execution_count": 79,
     "metadata": {},
     "output_type": "execute_result"
    }
   ],
   "source": [
    "233892/21944"
   ]
  },
  {
   "cell_type": "code",
   "execution_count": 80,
   "id": "a1aebebf",
   "metadata": {},
   "outputs": [
    {
     "data": {
      "text/plain": [
       "23389.2"
      ]
     },
     "execution_count": 80,
     "metadata": {},
     "output_type": "execute_result"
    }
   ],
   "source": [
    "233892/10"
   ]
  },
  {
   "cell_type": "code",
   "execution_count": 81,
   "id": "a27f7e12",
   "metadata": {},
   "outputs": [],
   "source": [
    "df2=x_train.copy()\n",
    "df['HeartDisease']=y_train"
   ]
  },
  {
   "cell_type": "code",
   "execution_count": 82,
   "id": "ad02fe17",
   "metadata": {},
   "outputs": [],
   "source": [
    "df2_class0=df[df['HeartDisease']==0]\n",
    "df2_class1=df[df['HeartDisease']==1]"
   ]
  },
  {
   "cell_type": "code",
   "execution_count": 83,
   "id": "365a61b4",
   "metadata": {},
   "outputs": [
    {
     "data": {
      "text/plain": [
       "((233892, 23), (21944, 23))"
      ]
     },
     "execution_count": 83,
     "metadata": {},
     "output_type": "execute_result"
    }
   ],
   "source": [
    "df2_class0.shape,df2_class1.shape"
   ]
  },
  {
   "cell_type": "code",
   "execution_count": 84,
   "id": "fa71442f",
   "metadata": {},
   "outputs": [],
   "source": [
    "def get_train_batch(df_majority,df_minority,start,end):\n",
    "    df_train=pd.concat([df2_class0[:21944],df2_class1],axis=0)\n",
    "    df_train.shape\n",
    "    \n",
    "    x_train=df_train.drop(columns=['HeartDisease'])\n",
    "    y_train=df_train['HeartDisease']\n",
    "    \n",
    "    return x_train,y_train"
   ]
  },
  {
   "cell_type": "code",
   "execution_count": 85,
   "id": "8d2fd777",
   "metadata": {},
   "outputs": [],
   "source": [
    "x_train,y_train=get_train_batch(df2_class0,df2_class1,0,21944)"
   ]
  },
  {
   "cell_type": "code",
   "execution_count": 86,
   "id": "f38d750d",
   "metadata": {},
   "outputs": [
    {
     "data": {
      "text/plain": [
       "(43888, 22)"
      ]
     },
     "execution_count": 86,
     "metadata": {},
     "output_type": "execute_result"
    }
   ],
   "source": [
    "x_train.shape"
   ]
  },
  {
   "cell_type": "code",
   "execution_count": 87,
   "id": "d16cd17e",
   "metadata": {},
   "outputs": [
    {
     "name": "stdout",
     "output_type": "stream",
     "text": [
      "(43888, 22)\n",
      "(43888,)\n",
      "(63959, 22)\n",
      "(63959,)\n"
     ]
    }
   ],
   "source": [
    "print(x_train.shape)\n",
    "print(y_train.shape)\n",
    "print(x_test.shape)\n",
    "print(y_test.shape)"
   ]
  },
  {
   "cell_type": "code",
   "execution_count": 88,
   "id": "6033da7c",
   "metadata": {},
   "outputs": [
    {
     "name": "stdout",
     "output_type": "stream",
     "text": [
      "confusion_matrix=\n",
      " [[41323 17207]\n",
      " [ 1280  4149]]\n",
      "Accuracy 0.7109554558388967\n",
      "recall 0.7642291398047523\n",
      "precision 0.19427795467315978\n",
      "loss 9.983459996023942\n",
      "None\n",
      "              precision    recall  f1-score   support\n",
      "\n",
      "           0       0.97      0.71      0.82     58530\n",
      "           1       0.19      0.76      0.31      5429\n",
      "\n",
      "    accuracy                           0.71     63959\n",
      "   macro avg       0.58      0.74      0.56     63959\n",
      "weighted avg       0.90      0.71      0.77     63959\n",
      "\n",
      "None\n"
     ]
    }
   ],
   "source": [
    "y_pred1=random(x_train,y_train,x_test,y_test)"
   ]
  },
  {
   "cell_type": "code",
   "execution_count": null,
   "id": "30ca6846",
   "metadata": {},
   "outputs": [],
   "source": []
  }
 ],
 "metadata": {
  "kernelspec": {
   "display_name": "Python 3 (ipykernel)",
   "language": "python",
   "name": "python3"
  },
  "language_info": {
   "codemirror_mode": {
    "name": "ipython",
    "version": 3
   },
   "file_extension": ".py",
   "mimetype": "text/x-python",
   "name": "python",
   "nbconvert_exporter": "python",
   "pygments_lexer": "ipython3",
   "version": "3.9.7"
  }
 },
 "nbformat": 4,
 "nbformat_minor": 5
}
